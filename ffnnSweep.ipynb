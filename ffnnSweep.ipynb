{
 "cells": [
  {
   "cell_type": "markdown",
   "metadata": {},
   "source": [
    "# Define the configuration"
   ]
  },
  {
   "cell_type": "code",
   "execution_count": 37,
   "metadata": {},
   "outputs": [],
   "source": [
    "config = {\n",
    "    \"method\": \"random\",\n",
    "    \"metric\": {\n",
    "        \"goal\": \"maximize\",\n",
    "        \"name\": \"Macro-f1-score\"\n",
    "    },\n",
    "    \"parameters\": {\n",
    "        \"num_hidden_layers\": {\n",
    "            \"distribution\": \"int_uniform\",\n",
    "            \"max\": 5,\n",
    "            \"min\": 1\n",
    "        },\n",
    "        \"nrows\": {\n",
    "            \"distribution\": \"int_uniform\",\n",
    "            \"max\": 1000,\n",
    "            \"min\": 100\n",
    "        },\n",
    "        \"batch_size\": {\n",
    "            \"distribution\": \"int_uniform\",\n",
    "            \"max\": 200,\n",
    "            \"min\": 50\n",
    "        },\n",
    "        \"bow\": {\n",
    "            \"distribution\": \"categorical\",\n",
    "            \"values\": [\"tf_idf\", \"countVector\"]\n",
    "        },\n",
    "        \"learning_rate\": {\n",
    "            \"distribution\": \"uniform\",\n",
    "            \"max\": 0.01,\n",
    "            \"min\": 0.0001\n",
    "        },\n",
    "        \"num_epochs\": {\n",
    "            \"distribution\": \"int_uniform\",\n",
    "            \"max\": 60,\n",
    "            \"min\": 5\n",
    "        },\n",
    "    }\n",
    "}"
   ]
  },
  {
   "cell_type": "markdown",
   "metadata": {},
   "source": [
    "# Define the function to run"
   ]
  },
  {
   "cell_type": "code",
   "execution_count": 38,
   "metadata": {},
   "outputs": [],
   "source": [
    "import wandb\n",
    "import torch\n",
    "import torch.nn as nn\n",
    "import numpy as np\n",
    "\n",
    "from torch.utils.data import DataLoader\n",
    "\n",
    "from dataSet import CustomDataDataSet\n",
    "from rnn import RNN\n",
    "from ffnn import FFNN\n",
    "from Preprocessing import getDataFrameFromData\n",
    "from BoW import TF_IDF, getCountVector\n",
    "from networkFunctions import train, test\n",
    "\n",
    "def sweep(config=None):\n",
    "    torch.manual_seed(888)\n",
    "    np.random.seed(888)\n",
    "    \n",
    "    with wandb.init(config=config):\n",
    "\n",
    "        config = wandb.config\n",
    "\n",
    "        train_df, train_labels = getDataFrameFromData(\"Archive/arxiv_train.csv\", nrows=config.nrows)\n",
    "        test_df, test_labels = getDataFrameFromData(\"Archive/arxiv_test.csv\", nrows=config.nrows)\n",
    "\n",
    "        if config.bow == \"tf_idf\":\n",
    "            train_tensors, vocabulary = TF_IDF(train_df)\n",
    "            test_tensors, _ = TF_IDF(test_df, vocabulary=vocabulary)\n",
    "        elif config.bow == \"countVector\":\n",
    "            train_tensors, vocabulary = getCountVector(train_df)\n",
    "            test_tensors, _ = getCountVector(test_df, vocabulary=vocabulary)\n",
    "        else:\n",
    "            return\n",
    "        \n",
    "        train_dataset = CustomDataDataSet(train_tensors, train_labels)\n",
    "        test_dataset = CustomDataDataSet(test_tensors, test_labels)\n",
    "        train_dataloader = DataLoader(dataset=train_dataset,\n",
    "                                    batch_size=config.batch_size,\n",
    "                                    shuffle=True)\n",
    "        test_dataloader = DataLoader(dataset=test_dataset,\n",
    "                                    batch_size=config.batch_size,\n",
    "                                    shuffle=True)\n",
    "        \n",
    "        model = FFNN(size_vocabulary=train_tensors.shape[1],\n",
    "                     num_hidden_layers=config.num_hidden_layers)\n",
    "            \n",
    "        loss_function = nn.CrossEntropyLoss()\n",
    "\n",
    "        optimiser = torch.optim.Adam(model.parameters(),\n",
    "                                    lr=config.learning_rate)\n",
    "    \n",
    "        for _ in range(config.num_epochs):\n",
    "            train(train_dataloader, model, optimiser, loss_function)\n",
    "            test(test_dataloader, model, loss_function)\n",
    "\n",
    "\n"
   ]
  },
  {
   "cell_type": "markdown",
   "metadata": {},
   "source": [
    "# Inistialise the sweep. NB! Skip if already created"
   ]
  },
  {
   "cell_type": "code",
   "execution_count": 39,
   "metadata": {},
   "outputs": [
    {
     "name": "stdout",
     "output_type": "stream",
     "text": [
      "Create sweep with ID: 940il575\n",
      "Sweep URL: https://wandb.ai/j-soberg/RNNs%20and%20You/sweeps/940il575\n"
     ]
    }
   ],
   "source": [
    "sweep_id = wandb.sweep(config, project=\"RNNs and You\")"
   ]
  },
  {
   "cell_type": "markdown",
   "metadata": {},
   "source": [
    "# Run a sweep agent, using count to specify how many runs (optional). If sweep already exists, then copy the id from W&B"
   ]
  },
  {
   "cell_type": "code",
   "execution_count": 40,
   "metadata": {},
   "outputs": [
    {
     "name": "stderr",
     "output_type": "stream",
     "text": [
      "\u001b[34m\u001b[1mwandb\u001b[0m: Agent Starting Run: px1vu4ug with config:\n",
      "\u001b[34m\u001b[1mwandb\u001b[0m: \tbatch_size: 200\n",
      "\u001b[34m\u001b[1mwandb\u001b[0m: \tbow: countVector\n",
      "\u001b[34m\u001b[1mwandb\u001b[0m: \tlearning_rate: 0.003362877432133975\n",
      "\u001b[34m\u001b[1mwandb\u001b[0m: \tnrows: 50\n",
      "\u001b[34m\u001b[1mwandb\u001b[0m: \tnum_epochs: 59\n",
      "\u001b[34m\u001b[1mwandb\u001b[0m: \tnum_hidden_layers: 2\n",
      "Failed to detect the name of this notebook, you can set it manually with the WANDB_NOTEBOOK_NAME environment variable to enable code saving.\n"
     ]
    },
    {
     "data": {
      "text/html": [
       "wandb version 0.16.6 is available!  To upgrade, please run:\n",
       " $ pip install wandb --upgrade"
      ],
      "text/plain": [
       "<IPython.core.display.HTML object>"
      ]
     },
     "metadata": {},
     "output_type": "display_data"
    },
    {
     "data": {
      "text/html": [
       "Tracking run with wandb version 0.16.4"
      ],
      "text/plain": [
       "<IPython.core.display.HTML object>"
      ]
     },
     "metadata": {},
     "output_type": "display_data"
    },
    {
     "data": {
      "text/html": [
       "Run data is saved locally in <code>c:\\Users\\jespe\\git\\550dat\\prosjekt\\wandb\\run-20240419_131654-px1vu4ug</code>"
      ],
      "text/plain": [
       "<IPython.core.display.HTML object>"
      ]
     },
     "metadata": {},
     "output_type": "display_data"
    },
    {
     "data": {
      "text/html": [
       "Syncing run <strong><a href='https://wandb.ai/j-soberg/RNNs%20and%20You/runs/px1vu4ug' target=\"_blank\">vibrant-sweep-1</a></strong> to <a href='https://wandb.ai/j-soberg/RNNs%20and%20You' target=\"_blank\">Weights & Biases</a> (<a href='https://wandb.me/run' target=\"_blank\">docs</a>)<br/>Sweep page: <a href='https://wandb.ai/j-soberg/RNNs%20and%20You/sweeps/940il575' target=\"_blank\">https://wandb.ai/j-soberg/RNNs%20and%20You/sweeps/940il575</a>"
      ],
      "text/plain": [
       "<IPython.core.display.HTML object>"
      ]
     },
     "metadata": {},
     "output_type": "display_data"
    },
    {
     "data": {
      "text/html": [
       " View project at <a href='https://wandb.ai/j-soberg/RNNs%20and%20You' target=\"_blank\">https://wandb.ai/j-soberg/RNNs%20and%20You</a>"
      ],
      "text/plain": [
       "<IPython.core.display.HTML object>"
      ]
     },
     "metadata": {},
     "output_type": "display_data"
    },
    {
     "data": {
      "text/html": [
       " View sweep at <a href='https://wandb.ai/j-soberg/RNNs%20and%20You/sweeps/940il575' target=\"_blank\">https://wandb.ai/j-soberg/RNNs%20and%20You/sweeps/940il575</a>"
      ],
      "text/plain": [
       "<IPython.core.display.HTML object>"
      ]
     },
     "metadata": {},
     "output_type": "display_data"
    },
    {
     "data": {
      "text/html": [
       " View run at <a href='https://wandb.ai/j-soberg/RNNs%20and%20You/runs/px1vu4ug' target=\"_blank\">https://wandb.ai/j-soberg/RNNs%20and%20You/runs/px1vu4ug</a>"
      ],
      "text/plain": [
       "<IPython.core.display.HTML object>"
      ]
     },
     "metadata": {},
     "output_type": "display_data"
    },
    {
     "data": {
      "text/html": [
       "<style>\n",
       "    table.wandb td:nth-child(1) { padding: 0 10px; text-align: left ; width: auto;} td:nth-child(2) {text-align: left ; width: 100%}\n",
       "    .wandb-row { display: flex; flex-direction: row; flex-wrap: wrap; justify-content: flex-start; width: 100% }\n",
       "    .wandb-col { display: flex; flex-direction: column; flex-basis: 100%; flex: 1; padding: 10px; }\n",
       "    </style>\n",
       "<div class=\"wandb-row\"><div class=\"wandb-col\"><h3>Run history:</h3><br/><table class=\"wandb\"><tr><td>Accuracy</td><td>▅▇██▇▅▅▇▇▅▆▅▃▅▅▅▅▆▆▆▆▅▅▅▅▅▅▄▄▄▄▂▂▁▅▄▅▄▃▂</td></tr><tr><td>Macro-f1-score</td><td>▅▆█▇▇▄▄▆▇▄▆▅▃▅▃▃▅▅▅▅▅▅▅▅▅▅▅▄▅▅▅▂▂▁▆▄▅▃▃▂</td></tr><tr><td>Precision</td><td>▄▅▇█▇▅▅▄▆▃▅▅▃▃▂▂▃▄▄▄▄▃▃▄▄▄▄▃▄▄▄▂▂▁▆▅▆▄▄▃</td></tr><tr><td>Recall</td><td>▄▆█▇▇▅▅▆▇▅▆▅▂▆▅▅▆▇▇▇▇▆▆▆▆▆▆▅▅▅▅▃▂▁▅▄▅▄▃▃</td></tr><tr><td>Test loss</td><td>▅▄▃▁▂▂▂▃▄▃▄▄▄▆▇█████▇▆▆▆▆▆▆▆▆▆▆▆▆▆▆▄▄▄▄▄</td></tr><tr><td>Training loss</td><td>██▄▁▁▁▁▁▁▁▁▁▁▁▁▁▁▁▁▁▁▁▁▁▁▁▁▁▁▁▁▁▁▁▁▁▁▁▁▂</td></tr></table><br/></div><div class=\"wandb-col\"><h3>Run summary:</h3><br/><table class=\"wandb\"><tr><td>Accuracy</td><td>0.1</td></tr><tr><td>Macro-f1-score</td><td>0.08658</td></tr><tr><td>Precision</td><td>0.14325</td></tr><tr><td>Recall</td><td>0.13929</td></tr><tr><td>Test loss</td><td>2.29281</td></tr><tr><td>Training loss</td><td>2.154</td></tr></table><br/></div></div>"
      ],
      "text/plain": [
       "<IPython.core.display.HTML object>"
      ]
     },
     "metadata": {},
     "output_type": "display_data"
    },
    {
     "data": {
      "text/html": [
       " View run <strong style=\"color:#cdcd00\">vibrant-sweep-1</strong> at: <a href='https://wandb.ai/j-soberg/RNNs%20and%20You/runs/px1vu4ug' target=\"_blank\">https://wandb.ai/j-soberg/RNNs%20and%20You/runs/px1vu4ug</a><br/>Synced 4 W&B file(s), 0 media file(s), 0 artifact file(s) and 0 other file(s)"
      ],
      "text/plain": [
       "<IPython.core.display.HTML object>"
      ]
     },
     "metadata": {},
     "output_type": "display_data"
    },
    {
     "data": {
      "text/html": [
       "Find logs at: <code>.\\wandb\\run-20240419_131654-px1vu4ug\\logs</code>"
      ],
      "text/plain": [
       "<IPython.core.display.HTML object>"
      ]
     },
     "metadata": {},
     "output_type": "display_data"
    },
    {
     "name": "stderr",
     "output_type": "stream",
     "text": [
      "\u001b[34m\u001b[1mwandb\u001b[0m: Agent Starting Run: 9029j459 with config:\n",
      "\u001b[34m\u001b[1mwandb\u001b[0m: \tbatch_size: 194\n",
      "\u001b[34m\u001b[1mwandb\u001b[0m: \tbow: tf_idf\n",
      "\u001b[34m\u001b[1mwandb\u001b[0m: \tlearning_rate: 0.0014113652122077478\n",
      "\u001b[34m\u001b[1mwandb\u001b[0m: \tnrows: 29\n",
      "\u001b[34m\u001b[1mwandb\u001b[0m: \tnum_epochs: 35\n",
      "\u001b[34m\u001b[1mwandb\u001b[0m: \tnum_hidden_layers: 3\n",
      "Failed to detect the name of this notebook, you can set it manually with the WANDB_NOTEBOOK_NAME environment variable to enable code saving.\n"
     ]
    },
    {
     "data": {
      "text/html": [
       "wandb version 0.16.6 is available!  To upgrade, please run:\n",
       " $ pip install wandb --upgrade"
      ],
      "text/plain": [
       "<IPython.core.display.HTML object>"
      ]
     },
     "metadata": {},
     "output_type": "display_data"
    },
    {
     "data": {
      "text/html": [
       "Tracking run with wandb version 0.16.4"
      ],
      "text/plain": [
       "<IPython.core.display.HTML object>"
      ]
     },
     "metadata": {},
     "output_type": "display_data"
    },
    {
     "data": {
      "text/html": [
       "Run data is saved locally in <code>c:\\Users\\jespe\\git\\550dat\\prosjekt\\wandb\\run-20240419_131714-9029j459</code>"
      ],
      "text/plain": [
       "<IPython.core.display.HTML object>"
      ]
     },
     "metadata": {},
     "output_type": "display_data"
    },
    {
     "data": {
      "text/html": [
       "Syncing run <strong><a href='https://wandb.ai/j-soberg/RNNs%20and%20You/runs/9029j459' target=\"_blank\">visionary-sweep-2</a></strong> to <a href='https://wandb.ai/j-soberg/RNNs%20and%20You' target=\"_blank\">Weights & Biases</a> (<a href='https://wandb.me/run' target=\"_blank\">docs</a>)<br/>Sweep page: <a href='https://wandb.ai/j-soberg/RNNs%20and%20You/sweeps/940il575' target=\"_blank\">https://wandb.ai/j-soberg/RNNs%20and%20You/sweeps/940il575</a>"
      ],
      "text/plain": [
       "<IPython.core.display.HTML object>"
      ]
     },
     "metadata": {},
     "output_type": "display_data"
    },
    {
     "data": {
      "text/html": [
       " View project at <a href='https://wandb.ai/j-soberg/RNNs%20and%20You' target=\"_blank\">https://wandb.ai/j-soberg/RNNs%20and%20You</a>"
      ],
      "text/plain": [
       "<IPython.core.display.HTML object>"
      ]
     },
     "metadata": {},
     "output_type": "display_data"
    },
    {
     "data": {
      "text/html": [
       " View sweep at <a href='https://wandb.ai/j-soberg/RNNs%20and%20You/sweeps/940il575' target=\"_blank\">https://wandb.ai/j-soberg/RNNs%20and%20You/sweeps/940il575</a>"
      ],
      "text/plain": [
       "<IPython.core.display.HTML object>"
      ]
     },
     "metadata": {},
     "output_type": "display_data"
    },
    {
     "data": {
      "text/html": [
       " View run at <a href='https://wandb.ai/j-soberg/RNNs%20and%20You/runs/9029j459' target=\"_blank\">https://wandb.ai/j-soberg/RNNs%20and%20You/runs/9029j459</a>"
      ],
      "text/plain": [
       "<IPython.core.display.HTML object>"
      ]
     },
     "metadata": {},
     "output_type": "display_data"
    },
    {
     "data": {
      "text/html": [
       "<style>\n",
       "    table.wandb td:nth-child(1) { padding: 0 10px; text-align: left ; width: auto;} td:nth-child(2) {text-align: left ; width: 100%}\n",
       "    .wandb-row { display: flex; flex-direction: row; flex-wrap: wrap; justify-content: flex-start; width: 100% }\n",
       "    .wandb-col { display: flex; flex-direction: column; flex-basis: 100%; flex: 1; padding: 10px; }\n",
       "    </style>\n",
       "<div class=\"wandb-row\"><div class=\"wandb-col\"><h3>Run history:</h3><br/><table class=\"wandb\"><tr><td>Accuracy</td><td>▁▅▆▅▅▅▅▅▃▃▃▅█▆▅▃▁▁▁▁▁▁▁▃▃▃▃▁▁▁▃▃▁▁▃</td></tr><tr><td>Macro-f1-score</td><td>▂▄▅▄▄▄▄▄▁▁▁▅██▇▇▅▅▅▅▅▅▄▆▆▆▆▄▄▄▅▅▃▃▅</td></tr><tr><td>Precision</td><td>▂▃▅▅▅▄▅▅▁▁▁▅▆▇▇█▇▇▇▇▇▇▅▇▇▇▆▅▅▅▅▅▄▄▄</td></tr><tr><td>Recall</td><td>▂▄▆▄▄▄▄▄▂▂▂▄█▆▄▃▁▁▁▁▁▁▁▃▃▃▃▁▁▁▃▃▁▁▃</td></tr><tr><td>Test loss</td><td>████████▇▇▆▅▄▃▂▂▁▁▁▁▁▁▁▁▂▂▂▂▂▂▂▂▂▂▂</td></tr><tr><td>Training loss</td><td>███████▇▆▅▄▄▃▂▂▂▁▁▁▁▁▁▁▁▁▁▁▁▁▁▁▁▁▁▁</td></tr></table><br/></div><div class=\"wandb-col\"><h3>Run summary:</h3><br/><table class=\"wandb\"><tr><td>Accuracy</td><td>0.31034</td></tr><tr><td>Macro-f1-score</td><td>0.27714</td></tr><tr><td>Precision</td><td>0.285</td></tr><tr><td>Recall</td><td>0.29167</td></tr><tr><td>Test loss</td><td>2.26137</td></tr><tr><td>Training loss</td><td>2.00444</td></tr></table><br/></div></div>"
      ],
      "text/plain": [
       "<IPython.core.display.HTML object>"
      ]
     },
     "metadata": {},
     "output_type": "display_data"
    },
    {
     "data": {
      "text/html": [
       " View run <strong style=\"color:#cdcd00\">visionary-sweep-2</strong> at: <a href='https://wandb.ai/j-soberg/RNNs%20and%20You/runs/9029j459' target=\"_blank\">https://wandb.ai/j-soberg/RNNs%20and%20You/runs/9029j459</a><br/>Synced 4 W&B file(s), 0 media file(s), 0 artifact file(s) and 0 other file(s)"
      ],
      "text/plain": [
       "<IPython.core.display.HTML object>"
      ]
     },
     "metadata": {},
     "output_type": "display_data"
    },
    {
     "data": {
      "text/html": [
       "Find logs at: <code>.\\wandb\\run-20240419_131714-9029j459\\logs</code>"
      ],
      "text/plain": [
       "<IPython.core.display.HTML object>"
      ]
     },
     "metadata": {},
     "output_type": "display_data"
    },
    {
     "name": "stderr",
     "output_type": "stream",
     "text": [
      "\u001b[34m\u001b[1mwandb\u001b[0m: Agent Starting Run: 4swma6es with config:\n",
      "\u001b[34m\u001b[1mwandb\u001b[0m: \tbatch_size: 145\n",
      "\u001b[34m\u001b[1mwandb\u001b[0m: \tbow: tf_idf\n",
      "\u001b[34m\u001b[1mwandb\u001b[0m: \tlearning_rate: 0.007120533196918315\n",
      "\u001b[34m\u001b[1mwandb\u001b[0m: \tnrows: 33\n",
      "\u001b[34m\u001b[1mwandb\u001b[0m: \tnum_epochs: 74\n",
      "\u001b[34m\u001b[1mwandb\u001b[0m: \tnum_hidden_layers: 1\n",
      "Failed to detect the name of this notebook, you can set it manually with the WANDB_NOTEBOOK_NAME environment variable to enable code saving.\n"
     ]
    },
    {
     "data": {
      "text/html": [
       "wandb version 0.16.6 is available!  To upgrade, please run:\n",
       " $ pip install wandb --upgrade"
      ],
      "text/plain": [
       "<IPython.core.display.HTML object>"
      ]
     },
     "metadata": {},
     "output_type": "display_data"
    },
    {
     "data": {
      "text/html": [
       "Tracking run with wandb version 0.16.4"
      ],
      "text/plain": [
       "<IPython.core.display.HTML object>"
      ]
     },
     "metadata": {},
     "output_type": "display_data"
    },
    {
     "data": {
      "text/html": [
       "Run data is saved locally in <code>c:\\Users\\jespe\\git\\550dat\\prosjekt\\wandb\\run-20240419_131729-4swma6es</code>"
      ],
      "text/plain": [
       "<IPython.core.display.HTML object>"
      ]
     },
     "metadata": {},
     "output_type": "display_data"
    },
    {
     "data": {
      "text/html": [
       "Syncing run <strong><a href='https://wandb.ai/j-soberg/RNNs%20and%20You/runs/4swma6es' target=\"_blank\">floral-sweep-3</a></strong> to <a href='https://wandb.ai/j-soberg/RNNs%20and%20You' target=\"_blank\">Weights & Biases</a> (<a href='https://wandb.me/run' target=\"_blank\">docs</a>)<br/>Sweep page: <a href='https://wandb.ai/j-soberg/RNNs%20and%20You/sweeps/940il575' target=\"_blank\">https://wandb.ai/j-soberg/RNNs%20and%20You/sweeps/940il575</a>"
      ],
      "text/plain": [
       "<IPython.core.display.HTML object>"
      ]
     },
     "metadata": {},
     "output_type": "display_data"
    },
    {
     "data": {
      "text/html": [
       " View project at <a href='https://wandb.ai/j-soberg/RNNs%20and%20You' target=\"_blank\">https://wandb.ai/j-soberg/RNNs%20and%20You</a>"
      ],
      "text/plain": [
       "<IPython.core.display.HTML object>"
      ]
     },
     "metadata": {},
     "output_type": "display_data"
    },
    {
     "data": {
      "text/html": [
       " View sweep at <a href='https://wandb.ai/j-soberg/RNNs%20and%20You/sweeps/940il575' target=\"_blank\">https://wandb.ai/j-soberg/RNNs%20and%20You/sweeps/940il575</a>"
      ],
      "text/plain": [
       "<IPython.core.display.HTML object>"
      ]
     },
     "metadata": {},
     "output_type": "display_data"
    },
    {
     "data": {
      "text/html": [
       " View run at <a href='https://wandb.ai/j-soberg/RNNs%20and%20You/runs/4swma6es' target=\"_blank\">https://wandb.ai/j-soberg/RNNs%20and%20You/runs/4swma6es</a>"
      ],
      "text/plain": [
       "<IPython.core.display.HTML object>"
      ]
     },
     "metadata": {},
     "output_type": "display_data"
    },
    {
     "data": {
      "text/html": [
       "<style>\n",
       "    table.wandb td:nth-child(1) { padding: 0 10px; text-align: left ; width: auto;} td:nth-child(2) {text-align: left ; width: 100%}\n",
       "    .wandb-row { display: flex; flex-direction: row; flex-wrap: wrap; justify-content: flex-start; width: 100% }\n",
       "    .wandb-col { display: flex; flex-direction: column; flex-basis: 100%; flex: 1; padding: 10px; }\n",
       "    </style>\n",
       "<div class=\"wandb-row\"><div class=\"wandb-col\"><h3>Run history:</h3><br/><table class=\"wandb\"><tr><td>Accuracy</td><td>█▃▃▃▃▅▅▅▆▆███▆▅▅▅▅▃▃▃▃▁▁▁▃▃▃▁▃▃▃▃▃▃▃▃▃▃▃</td></tr><tr><td>Macro-f1-score</td><td>▆▂▃▄▄▅▄▄▅▆▇▇█▅▅▅▅▆▄▄▄▄▂▂▂▃▂▂▁▂▂▂▂▂▂▂▂▂▂▂</td></tr><tr><td>Precision</td><td>▆▁▂▄▄▃▂▁▄▆▅▅█▅▅▅▅▆▅▅▅▅▅▅▅▆▅▅▄▅▅▅▅▅▅▅▅▅▅▅</td></tr><tr><td>Recall</td><td>▇▅▅▅▅▆▆▆▇▇███▆▅▅▅▅▃▃▃▃▁▁▁▂▂▂▁▃▃▃▃▃▃▃▃▃▃▃</td></tr><tr><td>Test loss</td><td>██▇▆▄▃▂▂▂▂▂▂▂▂▂▂▂▁▁▁▁▁▁▁▁▁▁▁▁▁▁▁▁▁▁▁▁▁▁▁</td></tr><tr><td>Training loss</td><td>██▅▁▁▁▁▁▁▁▁▁▁▁▁▁▁▁▁▁▁▁▁▁▁▁▁▁▁▁▁▁▁▁▁▁▁▁▁▁</td></tr></table><br/></div><div class=\"wandb-col\"><h3>Run summary:</h3><br/><table class=\"wandb\"><tr><td>Accuracy</td><td>0.39394</td></tr><tr><td>Macro-f1-score</td><td>0.33393</td></tr><tr><td>Precision</td><td>0.40583</td></tr><tr><td>Recall</td><td>0.33</td></tr><tr><td>Test loss</td><td>2.17576</td></tr><tr><td>Training loss</td><td>2.04561</td></tr></table><br/></div></div>"
      ],
      "text/plain": [
       "<IPython.core.display.HTML object>"
      ]
     },
     "metadata": {},
     "output_type": "display_data"
    },
    {
     "data": {
      "text/html": [
       " View run <strong style=\"color:#cdcd00\">floral-sweep-3</strong> at: <a href='https://wandb.ai/j-soberg/RNNs%20and%20You/runs/4swma6es' target=\"_blank\">https://wandb.ai/j-soberg/RNNs%20and%20You/runs/4swma6es</a><br/>Synced 4 W&B file(s), 0 media file(s), 0 artifact file(s) and 0 other file(s)"
      ],
      "text/plain": [
       "<IPython.core.display.HTML object>"
      ]
     },
     "metadata": {},
     "output_type": "display_data"
    },
    {
     "data": {
      "text/html": [
       "Find logs at: <code>.\\wandb\\run-20240419_131729-4swma6es\\logs</code>"
      ],
      "text/plain": [
       "<IPython.core.display.HTML object>"
      ]
     },
     "metadata": {},
     "output_type": "display_data"
    },
    {
     "name": "stderr",
     "output_type": "stream",
     "text": [
      "\u001b[34m\u001b[1mwandb\u001b[0m: Agent Starting Run: b0mfejb0 with config:\n",
      "\u001b[34m\u001b[1mwandb\u001b[0m: \tbatch_size: 85\n",
      "\u001b[34m\u001b[1mwandb\u001b[0m: \tbow: countVector\n",
      "\u001b[34m\u001b[1mwandb\u001b[0m: \tlearning_rate: 0.001279391856041666\n",
      "\u001b[34m\u001b[1mwandb\u001b[0m: \tnrows: 100\n",
      "\u001b[34m\u001b[1mwandb\u001b[0m: \tnum_epochs: 9\n",
      "\u001b[34m\u001b[1mwandb\u001b[0m: \tnum_hidden_layers: 2\n",
      "Failed to detect the name of this notebook, you can set it manually with the WANDB_NOTEBOOK_NAME environment variable to enable code saving.\n"
     ]
    },
    {
     "data": {
      "text/html": [
       "wandb version 0.16.6 is available!  To upgrade, please run:\n",
       " $ pip install wandb --upgrade"
      ],
      "text/plain": [
       "<IPython.core.display.HTML object>"
      ]
     },
     "metadata": {},
     "output_type": "display_data"
    },
    {
     "data": {
      "text/html": [
       "Tracking run with wandb version 0.16.4"
      ],
      "text/plain": [
       "<IPython.core.display.HTML object>"
      ]
     },
     "metadata": {},
     "output_type": "display_data"
    },
    {
     "data": {
      "text/html": [
       "Run data is saved locally in <code>c:\\Users\\jespe\\git\\550dat\\prosjekt\\wandb\\run-20240419_131744-b0mfejb0</code>"
      ],
      "text/plain": [
       "<IPython.core.display.HTML object>"
      ]
     },
     "metadata": {},
     "output_type": "display_data"
    },
    {
     "data": {
      "text/html": [
       "Syncing run <strong><a href='https://wandb.ai/j-soberg/RNNs%20and%20You/runs/b0mfejb0' target=\"_blank\">brisk-sweep-4</a></strong> to <a href='https://wandb.ai/j-soberg/RNNs%20and%20You' target=\"_blank\">Weights & Biases</a> (<a href='https://wandb.me/run' target=\"_blank\">docs</a>)<br/>Sweep page: <a href='https://wandb.ai/j-soberg/RNNs%20and%20You/sweeps/940il575' target=\"_blank\">https://wandb.ai/j-soberg/RNNs%20and%20You/sweeps/940il575</a>"
      ],
      "text/plain": [
       "<IPython.core.display.HTML object>"
      ]
     },
     "metadata": {},
     "output_type": "display_data"
    },
    {
     "data": {
      "text/html": [
       " View project at <a href='https://wandb.ai/j-soberg/RNNs%20and%20You' target=\"_blank\">https://wandb.ai/j-soberg/RNNs%20and%20You</a>"
      ],
      "text/plain": [
       "<IPython.core.display.HTML object>"
      ]
     },
     "metadata": {},
     "output_type": "display_data"
    },
    {
     "data": {
      "text/html": [
       " View sweep at <a href='https://wandb.ai/j-soberg/RNNs%20and%20You/sweeps/940il575' target=\"_blank\">https://wandb.ai/j-soberg/RNNs%20and%20You/sweeps/940il575</a>"
      ],
      "text/plain": [
       "<IPython.core.display.HTML object>"
      ]
     },
     "metadata": {},
     "output_type": "display_data"
    },
    {
     "data": {
      "text/html": [
       " View run at <a href='https://wandb.ai/j-soberg/RNNs%20and%20You/runs/b0mfejb0' target=\"_blank\">https://wandb.ai/j-soberg/RNNs%20and%20You/runs/b0mfejb0</a>"
      ],
      "text/plain": [
       "<IPython.core.display.HTML object>"
      ]
     },
     "metadata": {},
     "output_type": "display_data"
    },
    {
     "data": {
      "text/html": [
       "<style>\n",
       "    table.wandb td:nth-child(1) { padding: 0 10px; text-align: left ; width: auto;} td:nth-child(2) {text-align: left ; width: 100%}\n",
       "    .wandb-row { display: flex; flex-direction: row; flex-wrap: wrap; justify-content: flex-start; width: 100% }\n",
       "    .wandb-col { display: flex; flex-direction: column; flex-basis: 100%; flex: 1; padding: 10px; }\n",
       "    </style>\n",
       "<div class=\"wandb-row\"><div class=\"wandb-col\"><h3>Run history:</h3><br/><table class=\"wandb\"><tr><td>Accuracy</td><td>▁▇██▇▅▄▄▂</td></tr><tr><td>Macro-f1-score</td><td>▁▆█▇██▆▅▄</td></tr><tr><td>Precision</td><td>▁▆▆▇█▇▆▆▅</td></tr><tr><td>Recall</td><td>▁▅█▆▆▆▄▄▃</td></tr><tr><td>Test loss</td><td>█▄▂▁▁▂▄▅▅</td></tr><tr><td>Training loss</td><td>█▇▅▄▄▂▁▃▁</td></tr></table><br/></div><div class=\"wandb-col\"><h3>Run summary:</h3><br/><table class=\"wandb\"><tr><td>Accuracy</td><td>0.23</td></tr><tr><td>Macro-f1-score</td><td>0.20083</td></tr><tr><td>Precision</td><td>0.31437</td></tr><tr><td>Recall</td><td>0.22476</td></tr><tr><td>Test loss</td><td>2.26668</td></tr><tr><td>Training loss</td><td>2.03655</td></tr></table><br/></div></div>"
      ],
      "text/plain": [
       "<IPython.core.display.HTML object>"
      ]
     },
     "metadata": {},
     "output_type": "display_data"
    },
    {
     "data": {
      "text/html": [
       " View run <strong style=\"color:#cdcd00\">brisk-sweep-4</strong> at: <a href='https://wandb.ai/j-soberg/RNNs%20and%20You/runs/b0mfejb0' target=\"_blank\">https://wandb.ai/j-soberg/RNNs%20and%20You/runs/b0mfejb0</a><br/>Synced 4 W&B file(s), 0 media file(s), 0 artifact file(s) and 0 other file(s)"
      ],
      "text/plain": [
       "<IPython.core.display.HTML object>"
      ]
     },
     "metadata": {},
     "output_type": "display_data"
    },
    {
     "data": {
      "text/html": [
       "Find logs at: <code>.\\wandb\\run-20240419_131744-b0mfejb0\\logs</code>"
      ],
      "text/plain": [
       "<IPython.core.display.HTML object>"
      ]
     },
     "metadata": {},
     "output_type": "display_data"
    },
    {
     "name": "stderr",
     "output_type": "stream",
     "text": [
      "\u001b[34m\u001b[1mwandb\u001b[0m: Agent Starting Run: 4czmhfdk with config:\n",
      "\u001b[34m\u001b[1mwandb\u001b[0m: \tbatch_size: 197\n",
      "\u001b[34m\u001b[1mwandb\u001b[0m: \tbow: tf_idf\n",
      "\u001b[34m\u001b[1mwandb\u001b[0m: \tlearning_rate: 0.003827286998937608\n",
      "\u001b[34m\u001b[1mwandb\u001b[0m: \tnrows: 79\n",
      "\u001b[34m\u001b[1mwandb\u001b[0m: \tnum_epochs: 59\n",
      "\u001b[34m\u001b[1mwandb\u001b[0m: \tnum_hidden_layers: 5\n",
      "Failed to detect the name of this notebook, you can set it manually with the WANDB_NOTEBOOK_NAME environment variable to enable code saving.\n"
     ]
    },
    {
     "data": {
      "text/html": [
       "wandb version 0.16.6 is available!  To upgrade, please run:\n",
       " $ pip install wandb --upgrade"
      ],
      "text/plain": [
       "<IPython.core.display.HTML object>"
      ]
     },
     "metadata": {},
     "output_type": "display_data"
    },
    {
     "data": {
      "text/html": [
       "Tracking run with wandb version 0.16.4"
      ],
      "text/plain": [
       "<IPython.core.display.HTML object>"
      ]
     },
     "metadata": {},
     "output_type": "display_data"
    },
    {
     "data": {
      "text/html": [
       "Run data is saved locally in <code>c:\\Users\\jespe\\git\\550dat\\prosjekt\\wandb\\run-20240419_131801-4czmhfdk</code>"
      ],
      "text/plain": [
       "<IPython.core.display.HTML object>"
      ]
     },
     "metadata": {},
     "output_type": "display_data"
    },
    {
     "data": {
      "text/html": [
       "Syncing run <strong><a href='https://wandb.ai/j-soberg/RNNs%20and%20You/runs/4czmhfdk' target=\"_blank\">summer-sweep-5</a></strong> to <a href='https://wandb.ai/j-soberg/RNNs%20and%20You' target=\"_blank\">Weights & Biases</a> (<a href='https://wandb.me/run' target=\"_blank\">docs</a>)<br/>Sweep page: <a href='https://wandb.ai/j-soberg/RNNs%20and%20You/sweeps/940il575' target=\"_blank\">https://wandb.ai/j-soberg/RNNs%20and%20You/sweeps/940il575</a>"
      ],
      "text/plain": [
       "<IPython.core.display.HTML object>"
      ]
     },
     "metadata": {},
     "output_type": "display_data"
    },
    {
     "data": {
      "text/html": [
       " View project at <a href='https://wandb.ai/j-soberg/RNNs%20and%20You' target=\"_blank\">https://wandb.ai/j-soberg/RNNs%20and%20You</a>"
      ],
      "text/plain": [
       "<IPython.core.display.HTML object>"
      ]
     },
     "metadata": {},
     "output_type": "display_data"
    },
    {
     "data": {
      "text/html": [
       " View sweep at <a href='https://wandb.ai/j-soberg/RNNs%20and%20You/sweeps/940il575' target=\"_blank\">https://wandb.ai/j-soberg/RNNs%20and%20You/sweeps/940il575</a>"
      ],
      "text/plain": [
       "<IPython.core.display.HTML object>"
      ]
     },
     "metadata": {},
     "output_type": "display_data"
    },
    {
     "data": {
      "text/html": [
       " View run at <a href='https://wandb.ai/j-soberg/RNNs%20and%20You/runs/4czmhfdk' target=\"_blank\">https://wandb.ai/j-soberg/RNNs%20and%20You/runs/4czmhfdk</a>"
      ],
      "text/plain": [
       "<IPython.core.display.HTML object>"
      ]
     },
     "metadata": {},
     "output_type": "display_data"
    },
    {
     "data": {
      "text/html": [
       "<style>\n",
       "    table.wandb td:nth-child(1) { padding: 0 10px; text-align: left ; width: auto;} td:nth-child(2) {text-align: left ; width: 100%}\n",
       "    .wandb-row { display: flex; flex-direction: row; flex-wrap: wrap; justify-content: flex-start; width: 100% }\n",
       "    .wandb-col { display: flex; flex-direction: column; flex-basis: 100%; flex: 1; padding: 10px; }\n",
       "    </style>\n",
       "<div class=\"wandb-row\"><div class=\"wandb-col\"><h3>Run history:</h3><br/><table class=\"wandb\"><tr><td>Accuracy</td><td>▅█▇▁▁▁▄▂▂▂▂▂▂▂▂▂▂▂▂▂▂▂▂▂▂▂▂▂▂▂▂▂▂▂▂▂▂▂▂▂</td></tr><tr><td>Macro-f1-score</td><td>▆█▅▁▂▂▂▁▁▁▁▁▁▁▁▁▁▁▁▁▁▁▁▁▁▁▁▁▁▁▁▁▁▁▁▁▁▁▁▁</td></tr><tr><td>Precision</td><td>▄█▄▂▄▃▁▂▂▂▂▂▂▂▂▂▂▂▂▂▂▂▂▂▂▂▂▂▂▂▂▂▂▂▂▂▂▂▂▂</td></tr><tr><td>Recall</td><td>▅█▆▁▁▁▃▂▂▂▂▂▂▂▂▂▂▂▂▂▂▂▂▂▂▂▂▂▂▂▂▂▂▂▂▂▂▂▂▂</td></tr><tr><td>Test loss</td><td>▇▇▆▅▁▄▅█████████████████████████████████</td></tr><tr><td>Training loss</td><td>███▁▅▂▇█▇▇▆▆▆▆▆▆▆▆▆▆▆▆▆▆▆▆▆▆▆▆▆▆▆▆▆▆▆▆▆▆</td></tr></table><br/></div><div class=\"wandb-col\"><h3>Run summary:</h3><br/><table class=\"wandb\"><tr><td>Accuracy</td><td>0.08861</td></tr><tr><td>Macro-f1-score</td><td>0.03429</td></tr><tr><td>Precision</td><td>0.10769</td></tr><tr><td>Recall</td><td>0.11111</td></tr><tr><td>Test loss</td><td>2.30552</td></tr><tr><td>Training loss</td><td>2.29286</td></tr></table><br/></div></div>"
      ],
      "text/plain": [
       "<IPython.core.display.HTML object>"
      ]
     },
     "metadata": {},
     "output_type": "display_data"
    },
    {
     "data": {
      "text/html": [
       " View run <strong style=\"color:#cdcd00\">summer-sweep-5</strong> at: <a href='https://wandb.ai/j-soberg/RNNs%20and%20You/runs/4czmhfdk' target=\"_blank\">https://wandb.ai/j-soberg/RNNs%20and%20You/runs/4czmhfdk</a><br/>Synced 4 W&B file(s), 0 media file(s), 0 artifact file(s) and 0 other file(s)"
      ],
      "text/plain": [
       "<IPython.core.display.HTML object>"
      ]
     },
     "metadata": {},
     "output_type": "display_data"
    },
    {
     "data": {
      "text/html": [
       "Find logs at: <code>.\\wandb\\run-20240419_131801-4czmhfdk\\logs</code>"
      ],
      "text/plain": [
       "<IPython.core.display.HTML object>"
      ]
     },
     "metadata": {},
     "output_type": "display_data"
    }
   ],
   "source": [
    "wandb.agent(sweep_id, sweep, count=5)"
   ]
  }
 ],
 "metadata": {
  "kernelspec": {
   "display_name": "Python 3",
   "language": "python",
   "name": "python3"
  },
  "language_info": {
   "codemirror_mode": {
    "name": "ipython",
    "version": 3
   },
   "file_extension": ".py",
   "mimetype": "text/x-python",
   "name": "python",
   "nbconvert_exporter": "python",
   "pygments_lexer": "ipython3",
   "version": "3.9.13"
  }
 },
 "nbformat": 4,
 "nbformat_minor": 2
}
