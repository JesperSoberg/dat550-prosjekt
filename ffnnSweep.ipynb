{
       "cells": [
              {
                     "cell_type": "markdown",
                     "metadata": {},
                     "source": [
                            "# Define the configuration"
                     ]
              },
              {
                     "cell_type": "code",
                     "execution_count": 2,
                     "metadata": {},
                     "outputs": [],
                     "source": [
                            "config = {\n",
                            "    \"method\": \"random\",\n",
                            "    \"metric\": {\n",
                            "        \"goal\": \"maximize\",\n",
                            "        \"name\": \"Macro-f1-score\"\n",
                            "    },\n",
                            "    \"parameters\": {\n",
                            "        \"num_hidden_layers\": {\n",
                            "            \"distribution\": \"int_uniform\",\n",
                            "            \"max\": 5,\n",
                            "            \"min\": 1\n",
                            "        },\n",
                            "        \"nrows\": {\n",
                            "            \"distribution\": \"int_uniform\",\n",
                            "            \"max\": 1000,\n",
                            "            \"min\": 100\n",
                            "        },\n",
                            "        \"batch_size\": {\n",
                            "            \"distribution\": \"int_uniform\",\n",
                            "            \"max\": 200,\n",
                            "            \"min\": 50\n",
                            "        },\n",
                            "        \"bow\": {\n",
                            "            \"distribution\": \"categorical\",\n",
                            "            \"values\": [\"tf_idf\", \"countVector\"]\n",
                            "        },\n",
                            "        \"learning_rate\": {\n",
                            "            \"distribution\": \"uniform\",\n",
                            "            \"max\": 0.01,\n",
                            "            \"min\": 0.0001\n",
                            "        },\n",
                            "        \"num_epochs\": {\n",
                            "            \"distribution\": \"int_uniform\",\n",
                            "            \"max\": 60,\n",
                            "            \"min\": 5\n",
                            "        },\n",
                            "    }\n",
                            "}"
                     ]
              },
              {
                     "cell_type": "markdown",
                     "metadata": {},
                     "source": [
                            "# Define the function to run"
                     ]
              },
              {
                     "cell_type": "code",
                     "execution_count": 3,
                     "metadata": {},
                     "outputs": [],
                     "source": [
                            "import wandb\n",
                            "import torch\n",
                            "import torch.nn as nn\n",
                            "import numpy as np\n",
                            "\n",
                            "from torch.utils.data import DataLoader\n",
                            "\n",
                            "from dataSet import CustomDataDataSet\n",
                            "from ffnn import FFNN\n",
                            "from Preprocessing import getDataFrameFromData\n",
                            "from BoW import TF_IDF, getCountVector\n",
                            "from networkFunctions import train, test\n",
                            "\n",
                            "def sweep(config=None):\n",
                            "    torch.manual_seed(888)\n",
                            "    np.random.seed(888)\n",
                            "    \n",
                            "    with wandb.init(config=config):\n",
                            "\n",
                            "        config = wandb.config\n",
                            "\n",
                            "        train_df, train_labels = getDataFrameFromData(\"Archive/arxiv_train.csv\", nrows=config.nrows)\n",
                            "        test_df, test_labels = getDataFrameFromData(\"Archive/arxiv_test.csv\", nrows=config.nrows)\n",
                            "\n",
                            "        if config.bow == \"tf_idf\":\n",
                            "            train_tensors, vocabulary = TF_IDF(train_df)\n",
                            "            test_tensors, _ = TF_IDF(test_df, vocabulary=vocabulary)\n",
                            "        elif config.bow == \"countVector\":\n",
                            "            train_tensors, vocabulary = getCountVector(train_df)\n",
                            "            test_tensors, _ = getCountVector(test_df, vocabulary=vocabulary)\n",
                            "        else:\n",
                            "            return\n",
                            "        \n",
                            "        train_dataset = CustomDataDataSet(train_tensors, train_labels)\n",
                            "        test_dataset = CustomDataDataSet(test_tensors, test_labels)\n",
                            "        train_dataloader = DataLoader(dataset=train_dataset,\n",
                            "                                    batch_size=config.batch_size,\n",
                            "                                    shuffle=True)\n",
                            "        test_dataloader = DataLoader(dataset=test_dataset,\n",
                            "                                    batch_size=config.batch_size,\n",
                            "                                    shuffle=True)\n",
                            "        \n",
                            "        model = FFNN(size_vocabulary=train_tensors.shape[1],\n",
                            "                     num_hidden_layers=config.num_hidden_layers)\n",
                            "            \n",
                            "        loss_function = nn.CrossEntropyLoss()\n",
                            "\n",
                            "        optimiser = torch.optim.Adam(model.parameters(),\n",
                            "                                    lr=config.learning_rate)\n",
                            "    \n",
                            "        for _ in range(config.num_epochs):\n",
                            "            train(train_dataloader, model, optimiser, loss_function)\n",
                            "            test(test_dataloader, model, loss_function)\n",
                            "\n",
                            "\n"
                     ]
              },
              {
                     "cell_type": "markdown",
                     "metadata": {},
                     "source": [
                            "# Initialise the sweep. NB! Skip if already created"
                     ]
              },
              {
                     "cell_type": "code",
                     "execution_count": 4,
                     "metadata": {},
                     "outputs": [],
                     "source": [
                            "#sweep_id = wandb.sweep(config, entity='jespermagnus', project=\"Epochs and You\")"
                     ]
              },
              {
                     "cell_type": "markdown",
                     "metadata": {},
                     "source": [
                            "# Run a sweep agent, using count to specify how many runs (optional). If sweep already exists, then copy the id from W&B"
                     ]
              },
              {
                     "cell_type": "code",
                     "execution_count": 7,
                     "metadata": {},
                     "outputs": [
                            {
                                   "name": "stderr",
                                   "output_type": "stream",
                                   "text": [
                                          "\u001b[34m\u001b[1mwandb\u001b[0m: Agent Starting Run: 0xd762k9 with config:\n",
                                          "\u001b[34m\u001b[1mwandb\u001b[0m: \tbatch_size: 145\n",
                                          "\u001b[34m\u001b[1mwandb\u001b[0m: \tbow: tf_idf\n",
                                          "\u001b[34m\u001b[1mwandb\u001b[0m: \tlearning_rate: 0.006575719931407151\n",
                                          "\u001b[34m\u001b[1mwandb\u001b[0m: \tnrows: 97\n",
                                          "\u001b[34m\u001b[1mwandb\u001b[0m: \tnum_epochs: 41\n",
                                          "\u001b[34m\u001b[1mwandb\u001b[0m: \tnum_hidden_layers: 3\n",
                                          "Failed to detect the name of this notebook, you can set it manually with the WANDB_NOTEBOOK_NAME environment variable to enable code saving.\n",
                                          "\u001b[34m\u001b[1mwandb\u001b[0m: Currently logged in as: \u001b[33mm-tysdal\u001b[0m (\u001b[33mjespermagnus\u001b[0m). Use \u001b[1m`wandb login --relogin`\u001b[0m to force relogin\n"
                                   ]
                            },
                            {
                                   "data": {
                                          "text/html": [
                                                 "Tracking run with wandb version 0.16.6"
                                          ],
                                          "text/plain": [
                                                 "<IPython.core.display.HTML object>"
                                          ]
                                   },
                                   "metadata": {},
                                   "output_type": "display_data"
                            },
                            {
                                   "data": {
                                          "text/html": [
                                                 "Run data is saved locally in <code>c:\\UIS\\DAT550\\dat550-prosjekt\\wandb\\run-20240419_141054-0xd762k9</code>"
                                          ],
                                          "text/plain": [
                                                 "<IPython.core.display.HTML object>"
                                          ]
                                   },
                                   "metadata": {},
                                   "output_type": "display_data"
                            },
                            {
                                   "data": {
                                          "text/html": [
                                                 "Syncing run <strong><a href='https://wandb.ai/jespermagnus/Epochs%20and%20You/runs/0xd762k9' target=\"_blank\">proud-sweep-4</a></strong> to <a href='https://wandb.ai/jespermagnus/Epochs%20and%20You' target=\"_blank\">Weights & Biases</a> (<a href='https://wandb.me/run' target=\"_blank\">docs</a>)<br/>Sweep page: <a href='https://wandb.ai/jespermagnus/Epochs%20and%20You/sweeps/xuxpyp1z' target=\"_blank\">https://wandb.ai/jespermagnus/Epochs%20and%20You/sweeps/xuxpyp1z</a>"
                                          ],
                                          "text/plain": [
                                                 "<IPython.core.display.HTML object>"
                                          ]
                                   },
                                   "metadata": {},
                                   "output_type": "display_data"
                            },
                            {
                                   "data": {
                                          "text/html": [
                                                 " View project at <a href='https://wandb.ai/jespermagnus/Epochs%20and%20You' target=\"_blank\">https://wandb.ai/jespermagnus/Epochs%20and%20You</a>"
                                          ],
                                          "text/plain": [
                                                 "<IPython.core.display.HTML object>"
                                          ]
                                   },
                                   "metadata": {},
                                   "output_type": "display_data"
                            },
                            {
                                   "data": {
                                          "text/html": [
                                                 " View sweep at <a href='https://wandb.ai/jespermagnus/Epochs%20and%20You/sweeps/xuxpyp1z' target=\"_blank\">https://wandb.ai/jespermagnus/Epochs%20and%20You/sweeps/xuxpyp1z</a>"
                                          ],
                                          "text/plain": [
                                                 "<IPython.core.display.HTML object>"
                                          ]
                                   },
                                   "metadata": {},
                                   "output_type": "display_data"
                            },
                            {
                                   "data": {
                                          "text/html": [
                                                 " View run at <a href='https://wandb.ai/jespermagnus/Epochs%20and%20You/runs/0xd762k9' target=\"_blank\">https://wandb.ai/jespermagnus/Epochs%20and%20You/runs/0xd762k9</a>"
                                          ],
                                          "text/plain": [
                                                 "<IPython.core.display.HTML object>"
                                          ]
                                   },
                                   "metadata": {},
                                   "output_type": "display_data"
                            },
                            {
                                   "data": {
                                          "text/html": [
                                                 "<style>\n",
                                                 "    table.wandb td:nth-child(1) { padding: 0 10px; text-align: left ; width: auto;} td:nth-child(2) {text-align: left ; width: 100%}\n",
                                                 "    .wandb-row { display: flex; flex-direction: row; flex-wrap: wrap; justify-content: flex-start; width: 100% }\n",
                                                 "    .wandb-col { display: flex; flex-direction: column; flex-basis: 100%; flex: 1; padding: 10px; }\n",
                                                 "    </style>\n",
                                                 "<div class=\"wandb-row\"><div class=\"wandb-col\"><h3>Run history:</h3><br/><table class=\"wandb\"><tr><td>Accuracy</td><td>▇█▇▅▅▄▃▃▂▃▁▁▁▁▁▁▁▁▂▂▂▂▂▂▂▂▂▂▂▂▂▂▂▂▂▂▂▂▂▂</td></tr><tr><td>Macro-f1-score</td><td>███▆▇▅▃▂▁▁▁▁▁▁▁▁▁▁▁▁▁▁▁▁▁▁▁▁▁▁▁▁▁▁▁▁▁▁▁▁</td></tr><tr><td>Precision</td><td>▅▅▅▅█▄▂▂▁▁▁▂▂▂▂▂▂▂▂▂▂▂▂▂▂▂▂▂▂▂▂▂▂▂▂▁▁▁▁▁</td></tr><tr><td>Recall</td><td>██▇▆▆▅▃▃▂▂▁▁▁▁▁▁▁▂▂▂▂▂▂▂▂▃▃▃▃▃▃▃▃▃▃▃▃▃▃▃</td></tr><tr><td>Test loss</td><td>▇▇▃▁▁▃▇██▇▆▆██████████████████████▆▆▆▆▆▆</td></tr><tr><td>Training loss</td><td>██▇▂▂▁▃▄▅▆▇▇▇▇▇▇▇▇▇▇▇▇▇▇▇▇▇▇▇▇▇▇▇▇▇▇▇▇▇▇</td></tr></table><br/></div><div class=\"wandb-col\"><h3>Run summary:</h3><br/><table class=\"wandb\"><tr><td>Accuracy</td><td>0.07216</td></tr><tr><td>Macro-f1-score</td><td>0.01458</td></tr><tr><td>Precision</td><td>0.00787</td></tr><tr><td>Recall</td><td>0.1</td></tr><tr><td>Test loss</td><td>2.29591</td></tr><tr><td>Training loss</td><td>2.28602</td></tr></table><br/></div></div>"
                                          ],
                                          "text/plain": [
                                                 "<IPython.core.display.HTML object>"
                                          ]
                                   },
                                   "metadata": {},
                                   "output_type": "display_data"
                            },
                            {
                                   "data": {
                                          "text/html": [
                                                 " View run <strong style=\"color:#cdcd00\">proud-sweep-4</strong> at: <a href='https://wandb.ai/jespermagnus/Epochs%20and%20You/runs/0xd762k9' target=\"_blank\">https://wandb.ai/jespermagnus/Epochs%20and%20You/runs/0xd762k9</a><br/> View project at: <a href='https://wandb.ai/jespermagnus/Epochs%20and%20You' target=\"_blank\">https://wandb.ai/jespermagnus/Epochs%20and%20You</a><br/>Synced 4 W&B file(s), 0 media file(s), 0 artifact file(s) and 0 other file(s)"
                                          ],
                                          "text/plain": [
                                                 "<IPython.core.display.HTML object>"
                                          ]
                                   },
                                   "metadata": {},
                                   "output_type": "display_data"
                            },
                            {
                                   "data": {
                                          "text/html": [
                                                 "Find logs at: <code>.\\wandb\\run-20240419_141054-0xd762k9\\logs</code>"
                                          ],
                                          "text/plain": [
                                                 "<IPython.core.display.HTML object>"
                                          ]
                                   },
                                   "metadata": {},
                                   "output_type": "display_data"
                            },
                            {
                                   "name": "stderr",
                                   "output_type": "stream",
                                   "text": [
                                          "\u001b[34m\u001b[1mwandb\u001b[0m: Sweep Agent: Waiting for job.\n",
                                          "\u001b[34m\u001b[1mwandb\u001b[0m: Job received.\n",
                                          "\u001b[34m\u001b[1mwandb\u001b[0m: Agent Starting Run: thdxr4fr with config:\n",
                                          "\u001b[34m\u001b[1mwandb\u001b[0m: \tbatch_size: 167\n",
                                          "\u001b[34m\u001b[1mwandb\u001b[0m: \tbow: tf_idf\n",
                                          "\u001b[34m\u001b[1mwandb\u001b[0m: \tlearning_rate: 0.008177757349451559\n",
                                          "\u001b[34m\u001b[1mwandb\u001b[0m: \tnrows: 96\n",
                                          "\u001b[34m\u001b[1mwandb\u001b[0m: \tnum_epochs: 39\n",
                                          "\u001b[34m\u001b[1mwandb\u001b[0m: \tnum_hidden_layers: 3\n",
                                          "Failed to detect the name of this notebook, you can set it manually with the WANDB_NOTEBOOK_NAME environment variable to enable code saving.\n"
                                   ]
                            },
                            {
                                   "data": {
                                          "text/html": [
                                                 "Tracking run with wandb version 0.16.6"
                                          ],
                                          "text/plain": [
                                                 "<IPython.core.display.HTML object>"
                                          ]
                                   },
                                   "metadata": {},
                                   "output_type": "display_data"
                            },
                            {
                                   "data": {
                                          "text/html": [
                                                 "Run data is saved locally in <code>c:\\UIS\\DAT550\\dat550-prosjekt\\wandb\\run-20240419_141130-thdxr4fr</code>"
                                          ],
                                          "text/plain": [
                                                 "<IPython.core.display.HTML object>"
                                          ]
                                   },
                                   "metadata": {},
                                   "output_type": "display_data"
                            },
                            {
                                   "data": {
                                          "text/html": [
                                                 "Syncing run <strong><a href='https://wandb.ai/jespermagnus/Epochs%20and%20You/runs/thdxr4fr' target=\"_blank\">young-sweep-5</a></strong> to <a href='https://wandb.ai/jespermagnus/Epochs%20and%20You' target=\"_blank\">Weights & Biases</a> (<a href='https://wandb.me/run' target=\"_blank\">docs</a>)<br/>Sweep page: <a href='https://wandb.ai/jespermagnus/Epochs%20and%20You/sweeps/xuxpyp1z' target=\"_blank\">https://wandb.ai/jespermagnus/Epochs%20and%20You/sweeps/xuxpyp1z</a>"
                                          ],
                                          "text/plain": [
                                                 "<IPython.core.display.HTML object>"
                                          ]
                                   },
                                   "metadata": {},
                                   "output_type": "display_data"
                            },
                            {
                                   "data": {
                                          "text/html": [
                                                 " View project at <a href='https://wandb.ai/jespermagnus/Epochs%20and%20You' target=\"_blank\">https://wandb.ai/jespermagnus/Epochs%20and%20You</a>"
                                          ],
                                          "text/plain": [
                                                 "<IPython.core.display.HTML object>"
                                          ]
                                   },
                                   "metadata": {},
                                   "output_type": "display_data"
                            },
                            {
                                   "data": {
                                          "text/html": [
                                                 " View sweep at <a href='https://wandb.ai/jespermagnus/Epochs%20and%20You/sweeps/xuxpyp1z' target=\"_blank\">https://wandb.ai/jespermagnus/Epochs%20and%20You/sweeps/xuxpyp1z</a>"
                                          ],
                                          "text/plain": [
                                                 "<IPython.core.display.HTML object>"
                                          ]
                                   },
                                   "metadata": {},
                                   "output_type": "display_data"
                            },
                            {
                                   "data": {
                                          "text/html": [
                                                 " View run at <a href='https://wandb.ai/jespermagnus/Epochs%20and%20You/runs/thdxr4fr' target=\"_blank\">https://wandb.ai/jespermagnus/Epochs%20and%20You/runs/thdxr4fr</a>"
                                          ],
                                          "text/plain": [
                                                 "<IPython.core.display.HTML object>"
                                          ]
                                   },
                                   "metadata": {},
                                   "output_type": "display_data"
                            },
                            {
                                   "data": {
                                          "text/html": [
                                                 "<style>\n",
                                                 "    table.wandb td:nth-child(1) { padding: 0 10px; text-align: left ; width: auto;} td:nth-child(2) {text-align: left ; width: 100%}\n",
                                                 "    .wandb-row { display: flex; flex-direction: row; flex-wrap: wrap; justify-content: flex-start; width: 100% }\n",
                                                 "    .wandb-col { display: flex; flex-direction: column; flex-basis: 100%; flex: 1; padding: 10px; }\n",
                                                 "    </style>\n",
                                                 "<div class=\"wandb-row\"><div class=\"wandb-col\"><h3>Run history:</h3><br/><table class=\"wandb\"><tr><td>Accuracy</td><td>██▅▅▂▂▃▂▂▂▃▃▁▁▁▁▁▁▁▁▁▁▁▁▁▁▁▁▁▁▁▁▁▁▁▁▁▁▁</td></tr><tr><td>Macro-f1-score</td><td>█▇▅▅▂▂▂▁▁▂▂▂▁▁▁▁▁▁▁▁▁▁▁▁▁▁▁▁▁▁▁▁▁▁▁▁▁▁▁</td></tr><tr><td>Precision</td><td>▇▆▇█▄▂▁▁▁▁▂▂▂▁▁▁▁▁▁▁▁▁▁▁▁▁▁▁▁▁▁▁▁▁▁▁▁▁▁</td></tr><tr><td>Recall</td><td>██▅▅▂▂▂▁▁▁▂▂▂▂▂▂▂▂▂▂▂▂▂▂▂▂▂▂▂▂▂▂▂▂▂▂▂▂▂</td></tr><tr><td>Test loss</td><td>▇▇▃▁▇▆█████████████████████████████████</td></tr><tr><td>Training loss</td><td>██▇▂▁▅▆▆▆▆▆▆▆▆▇▇▇▇▇▇▇▇▇▇▇▇▇▇▇▇▇▇▇▇▇▇▇▇▇</td></tr></table><br/></div><div class=\"wandb-col\"><h3>Run summary:</h3><br/><table class=\"wandb\"><tr><td>Accuracy</td><td>0.07292</td></tr><tr><td>Macro-f1-score</td><td>0.01373</td></tr><tr><td>Precision</td><td>0.00737</td></tr><tr><td>Recall</td><td>0.1</td></tr><tr><td>Test loss</td><td>2.305</td></tr><tr><td>Training loss</td><td>2.29458</td></tr></table><br/></div></div>"
                                          ],
                                          "text/plain": [
                                                 "<IPython.core.display.HTML object>"
                                          ]
                                   },
                                   "metadata": {},
                                   "output_type": "display_data"
                            },
                            {
                                   "data": {
                                          "text/html": [
                                                 " View run <strong style=\"color:#cdcd00\">young-sweep-5</strong> at: <a href='https://wandb.ai/jespermagnus/Epochs%20and%20You/runs/thdxr4fr' target=\"_blank\">https://wandb.ai/jespermagnus/Epochs%20and%20You/runs/thdxr4fr</a><br/> View project at: <a href='https://wandb.ai/jespermagnus/Epochs%20and%20You' target=\"_blank\">https://wandb.ai/jespermagnus/Epochs%20and%20You</a><br/>Synced 4 W&B file(s), 0 media file(s), 0 artifact file(s) and 0 other file(s)"
                                          ],
                                          "text/plain": [
                                                 "<IPython.core.display.HTML object>"
                                          ]
                                   },
                                   "metadata": {},
                                   "output_type": "display_data"
                            },
                            {
                                   "data": {
                                          "text/html": [
                                                 "Find logs at: <code>.\\wandb\\run-20240419_141130-thdxr4fr\\logs</code>"
                                          ],
                                          "text/plain": [
                                                 "<IPython.core.display.HTML object>"
                                          ]
                                   },
                                   "metadata": {},
                                   "output_type": "display_data"
                            },
                            {
                                   "name": "stderr",
                                   "output_type": "stream",
                                   "text": [
                                          "\u001b[34m\u001b[1mwandb\u001b[0m: Agent Starting Run: 3r6uilj7 with config:\n",
                                          "\u001b[34m\u001b[1mwandb\u001b[0m: \tbatch_size: 50\n",
                                          "\u001b[34m\u001b[1mwandb\u001b[0m: \tbow: countVector\n",
                                          "\u001b[34m\u001b[1mwandb\u001b[0m: \tlearning_rate: 0.003868337255799407\n",
                                          "\u001b[34m\u001b[1mwandb\u001b[0m: \tnrows: 100\n",
                                          "\u001b[34m\u001b[1mwandb\u001b[0m: \tnum_epochs: 38\n",
                                          "\u001b[34m\u001b[1mwandb\u001b[0m: \tnum_hidden_layers: 4\n",
                                          "Failed to detect the name of this notebook, you can set it manually with the WANDB_NOTEBOOK_NAME environment variable to enable code saving.\n"
                                   ]
                            },
                            {
                                   "data": {
                                          "text/html": [
                                                 "Tracking run with wandb version 0.16.6"
                                          ],
                                          "text/plain": [
                                                 "<IPython.core.display.HTML object>"
                                          ]
                                   },
                                   "metadata": {},
                                   "output_type": "display_data"
                            },
                            {
                                   "data": {
                                          "text/html": [
                                                 "Run data is saved locally in <code>c:\\UIS\\DAT550\\dat550-prosjekt\\wandb\\run-20240419_141154-3r6uilj7</code>"
                                          ],
                                          "text/plain": [
                                                 "<IPython.core.display.HTML object>"
                                          ]
                                   },
                                   "metadata": {},
                                   "output_type": "display_data"
                            },
                            {
                                   "data": {
                                          "text/html": [
                                                 "Syncing run <strong><a href='https://wandb.ai/jespermagnus/Epochs%20and%20You/runs/3r6uilj7' target=\"_blank\">brisk-sweep-6</a></strong> to <a href='https://wandb.ai/jespermagnus/Epochs%20and%20You' target=\"_blank\">Weights & Biases</a> (<a href='https://wandb.me/run' target=\"_blank\">docs</a>)<br/>Sweep page: <a href='https://wandb.ai/jespermagnus/Epochs%20and%20You/sweeps/xuxpyp1z' target=\"_blank\">https://wandb.ai/jespermagnus/Epochs%20and%20You/sweeps/xuxpyp1z</a>"
                                          ],
                                          "text/plain": [
                                                 "<IPython.core.display.HTML object>"
                                          ]
                                   },
                                   "metadata": {},
                                   "output_type": "display_data"
                            },
                            {
                                   "data": {
                                          "text/html": [
                                                 " View project at <a href='https://wandb.ai/jespermagnus/Epochs%20and%20You' target=\"_blank\">https://wandb.ai/jespermagnus/Epochs%20and%20You</a>"
                                          ],
                                          "text/plain": [
                                                 "<IPython.core.display.HTML object>"
                                          ]
                                   },
                                   "metadata": {},
                                   "output_type": "display_data"
                            },
                            {
                                   "data": {
                                          "text/html": [
                                                 " View sweep at <a href='https://wandb.ai/jespermagnus/Epochs%20and%20You/sweeps/xuxpyp1z' target=\"_blank\">https://wandb.ai/jespermagnus/Epochs%20and%20You/sweeps/xuxpyp1z</a>"
                                          ],
                                          "text/plain": [
                                                 "<IPython.core.display.HTML object>"
                                          ]
                                   },
                                   "metadata": {},
                                   "output_type": "display_data"
                            },
                            {
                                   "data": {
                                          "text/html": [
                                                 " View run at <a href='https://wandb.ai/jespermagnus/Epochs%20and%20You/runs/3r6uilj7' target=\"_blank\">https://wandb.ai/jespermagnus/Epochs%20and%20You/runs/3r6uilj7</a>"
                                          ],
                                          "text/plain": [
                                                 "<IPython.core.display.HTML object>"
                                          ]
                                   },
                                   "metadata": {},
                                   "output_type": "display_data"
                            },
                            {
                                   "data": {
                                          "text/html": [
                                                 "<style>\n",
                                                 "    table.wandb td:nth-child(1) { padding: 0 10px; text-align: left ; width: auto;} td:nth-child(2) {text-align: left ; width: 100%}\n",
                                                 "    .wandb-row { display: flex; flex-direction: row; flex-wrap: wrap; justify-content: flex-start; width: 100% }\n",
                                                 "    .wandb-col { display: flex; flex-direction: column; flex-basis: 100%; flex: 1; padding: 10px; }\n",
                                                 "    </style>\n",
                                                 "<div class=\"wandb-row\"><div class=\"wandb-col\"><h3>Run history:</h3><br/><table class=\"wandb\"><tr><td>Accuracy</td><td>█▄▂▁▂▂▂▂▂▂▂▂▂▂▂▂▂▂▂▂▂▂▂▂▂▂▂▂▂▂▂▂▂▂▂▂▂▂</td></tr><tr><td>Macro-f1-score</td><td>█▃▁▁▁▁▁▁▁▁▁▁▁▁▁▁▁▁▁▁▁▁▁▁▁▁▁▁▁▁▁▁▁▁▁▁▁▁</td></tr><tr><td>Precision</td><td>█▅▁▁▁▁▁▁▁▁▁▁▁▁▁▁▁▁▁▁▁▁▁▁▁▁▁▁▁▁▁▁▁▁▁▁▁▁</td></tr><tr><td>Recall</td><td>█▄▃▁▃▃▃▃▃▃▃▃▃▃▃▃▃▃▃▃▃▃▃▃▃▃▃▃▃▃▃▃▃▃▃▃▃▃</td></tr><tr><td>Test loss</td><td>█▁▁▁▁▁▁▁█▁▁▁▁▁▁▁▁▁▁▁▁▁██▁▁▁▁▁▁▁▁▁▁▁▁█▁</td></tr><tr><td>Training loss</td><td>▇▁█▇▇▆▆▆▆▆▆▆▆▁▆▆▆▆▆▆▆▆▆▆▆▆▆▁▆▆▆▆▆▆▆▆▆▆</td></tr></table><br/></div><div class=\"wandb-col\"><h3>Run summary:</h3><br/><table class=\"wandb\"><tr><td>Accuracy</td><td>0.07</td></tr><tr><td>Macro-f1-score</td><td>0.01333</td></tr><tr><td>Precision</td><td>0.00714</td></tr><tr><td>Recall</td><td>0.1</td></tr><tr><td>Test loss</td><td>2.28669</td></tr><tr><td>Training loss</td><td>2.29669</td></tr></table><br/></div></div>"
                                          ],
                                          "text/plain": [
                                                 "<IPython.core.display.HTML object>"
                                          ]
                                   },
                                   "metadata": {},
                                   "output_type": "display_data"
                            },
                            {
                                   "data": {
                                          "text/html": [
                                                 " View run <strong style=\"color:#cdcd00\">brisk-sweep-6</strong> at: <a href='https://wandb.ai/jespermagnus/Epochs%20and%20You/runs/3r6uilj7' target=\"_blank\">https://wandb.ai/jespermagnus/Epochs%20and%20You/runs/3r6uilj7</a><br/> View project at: <a href='https://wandb.ai/jespermagnus/Epochs%20and%20You' target=\"_blank\">https://wandb.ai/jespermagnus/Epochs%20and%20You</a><br/>Synced 4 W&B file(s), 0 media file(s), 0 artifact file(s) and 0 other file(s)"
                                          ],
                                          "text/plain": [
                                                 "<IPython.core.display.HTML object>"
                                          ]
                                   },
                                   "metadata": {},
                                   "output_type": "display_data"
                            },
                            {
                                   "data": {
                                          "text/html": [
                                                 "Find logs at: <code>.\\wandb\\run-20240419_141154-3r6uilj7\\logs</code>"
                                          ],
                                          "text/plain": [
                                                 "<IPython.core.display.HTML object>"
                                          ]
                                   },
                                   "metadata": {},
                                   "output_type": "display_data"
                            }
                     ],
                     "source": [
                            "wandb.agent('xuxpyp1z', sweep, entity='jespermagnus', project=\"Epochs and You\", count=3)"
                     ]
              }
       ],
       "metadata": {
              "kernelspec": {
                     "display_name": "Python 3",
                     "language": "python",
                     "name": "python3"
              },
              "language_info": {
                     "codemirror_mode": {
                            "name": "ipython",
                            "version": 3
                     },
                     "file_extension": ".py",
                     "mimetype": "text/x-python",
                     "name": "python",
                     "nbconvert_exporter": "python",
                     "pygments_lexer": "ipython3",
                     "version": "3.9.13"
              }
       },
       "nbformat": 4,
       "nbformat_minor": 2
}
