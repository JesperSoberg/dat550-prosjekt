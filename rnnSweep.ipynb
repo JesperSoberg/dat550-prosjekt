{
 "cells": [
  {
   "cell_type": "markdown",
   "metadata": {},
   "source": [
    "# Define the configuration"
   ]
  },
  {
   "cell_type": "code",
   "execution_count": 13,
   "metadata": {},
   "outputs": [],
   "source": [
    "config = {\n",
    "    \"method\": \"random\",\n",
    "    \"metric\": {\n",
    "        \"goal\": \"maximize\",\n",
    "        \"name\": \"Macro-f1-score\"\n",
    "    },\n",
    "    \"parameters\": {\n",
    "        \"hidden_size\": {\n",
    "            \"distribution\": \"int_uniform\",\n",
    "            \"max\": 1000,\n",
    "            \"min\": 10\n",
    "        },\n",
    "        \"num_layers\": {\n",
    "            \"distribution\": \"int_uniform\",\n",
    "            \"max\": 2,\n",
    "            \"min\": 1\n",
    "        },\n",
    "        \"nrows\": {\n",
    "            \"distribution\": \"int_uniform\",\n",
    "            \"max\": 1000,\n",
    "            \"min\": 100\n",
    "        },\n",
    "        \"batch_size\": {\n",
    "            \"distribution\": \"int_uniform\",\n",
    "            \"max\": 200,\n",
    "            \"min\": 50\n",
    "        },\n",
    "        \"bow\": {\n",
    "            \"distribution\": \"categorical\",\n",
    "            \"values\": [\"tf_idf\", \"countVector\"]\n",
    "        },\n",
    "        \"learning_rate\": {\n",
    "            \"distribution\": \"uniform\",\n",
    "            \"max\": 0.01,\n",
    "            \"min\": 0.0001\n",
    "        },\n",
    "        \"num_epochs\": {\n",
    "            \"distribution\": \"int_uniform\",\n",
    "            \"max\": 60,\n",
    "            \"min\": 5\n",
    "        },\n",
    "    }\n",
    "}"
   ]
  },
  {
   "cell_type": "markdown",
   "metadata": {},
   "source": [
    "# Define the function to run"
   ]
  },
  {
   "cell_type": "code",
   "execution_count": 14,
   "metadata": {},
   "outputs": [],
   "source": [
    "import wandb\n",
    "import torch\n",
    "import torch.nn as nn\n",
    "import numpy as np\n",
    "\n",
    "from torch.utils.data import DataLoader\n",
    "\n",
    "from dataSet import CustomDataDataSet\n",
    "from rnn import RNN\n",
    "from ffnn import FFNN\n",
    "from Preprocessing import getDataFrameFromData\n",
    "from BoW import TF_IDF, getCountVector\n",
    "from networkFunctions import train, test\n",
    "\n",
    "def sweep(config=None):\n",
    "    torch.manual_seed(888)\n",
    "    np.random.seed(888)\n",
    "    \n",
    "    with wandb.init(config=config):\n",
    "\n",
    "        config = wandb.config\n",
    "\n",
    "        train_df, train_labels = getDataFrameFromData(\"Archive/arxiv_train.csv\", nrows=config.nrows)\n",
    "        test_df, test_labels = getDataFrameFromData(\"Archive/arxiv_test.csv\", nrows=config.nrows)\n",
    "\n",
    "        if config.bow == \"tf_idf\":\n",
    "            train_tensors, vocabulary = TF_IDF(train_df)\n",
    "            test_tensors, _ = TF_IDF(test_df, vocabulary=vocabulary)\n",
    "        elif config.bow == \"countVector\":\n",
    "            train_tensors, vocabulary = getCountVector(train_df)\n",
    "            test_tensors, _ = getCountVector(test_df, vocabulary=vocabulary)\n",
    "        else:\n",
    "            return\n",
    "        \n",
    "        train_dataset = CustomDataDataSet(train_tensors, train_labels)\n",
    "        test_dataset = CustomDataDataSet(test_tensors, test_labels)\n",
    "        train_dataloader = DataLoader(dataset=train_dataset,\n",
    "                                    batch_size=config.batch_size,\n",
    "                                    shuffle=True)\n",
    "        test_dataloader = DataLoader(dataset=test_dataset,\n",
    "                                    batch_size=config.batch_size,\n",
    "                                    shuffle=True)\n",
    "        \n",
    "        model = RNN(train_tensors.shape[1],\n",
    "                    config.hidden_size,\n",
    "                    config.num_layers)\n",
    "            \n",
    "        loss_function = nn.CrossEntropyLoss()\n",
    "\n",
    "        optimiser = torch.optim.Adam(model.parameters(),\n",
    "                                        lr=config.learning_rate)\n",
    "    \n",
    "        for _ in range(config.num_epochs):\n",
    "            train(train_dataloader, model, optimiser, loss_function)\n",
    "            test(test_dataloader, model, loss_function)\n",
    "\n",
    "\n"
   ]
  },
  {
   "cell_type": "markdown",
   "metadata": {},
   "source": [
    "# Inistialise the sweep. NB! Skip if already created"
   ]
  },
  {
   "cell_type": "code",
   "execution_count": 15,
   "metadata": {},
   "outputs": [
    {
     "name": "stdout",
     "output_type": "stream",
     "text": [
      "Create sweep with ID: cxle7d20\n",
      "Sweep URL: https://wandb.ai/jespermagnus/Epochs%20and%20You/sweeps/cxle7d20\n"
     ]
    }
   ],
   "source": [
    "sweep_id = wandb.sweep(config, entity=\"jespermagnus\", project=\"Epochs and You\")"
   ]
  },
  {
   "cell_type": "markdown",
   "metadata": {},
   "source": [
    "# Run a sweep agent, using count to specify how many runs (optional). If run already exists, then copy the id from W&B"
   ]
  },
  {
   "cell_type": "code",
   "execution_count": 16,
   "metadata": {},
   "outputs": [
    {
     "name": "stderr",
     "output_type": "stream",
     "text": [
      "\u001b[34m\u001b[1mwandb\u001b[0m: Agent Starting Run: uzhx6ldy with config:\n",
      "\u001b[34m\u001b[1mwandb\u001b[0m: \tbatch_size: 119\n",
      "\u001b[34m\u001b[1mwandb\u001b[0m: \tbow: countVector\n",
      "\u001b[34m\u001b[1mwandb\u001b[0m: \thidden_size: 970\n",
      "\u001b[34m\u001b[1mwandb\u001b[0m: \tlearning_rate: 0.007926661884061126\n",
      "\u001b[34m\u001b[1mwandb\u001b[0m: \tnrows: 224\n",
      "\u001b[34m\u001b[1mwandb\u001b[0m: \tnum_epochs: 32\n",
      "\u001b[34m\u001b[1mwandb\u001b[0m: \tnum_layers: 1\n",
      "Failed to detect the name of this notebook, you can set it manually with the WANDB_NOTEBOOK_NAME environment variable to enable code saving.\n",
      "Timed out waiting for wandb service to start after 30.0 seconds. Try increasing the timeout with the `_service_wait` setting.\n",
      "Traceback (most recent call last):\n",
      "  File \"C:\\Users\\jespe\\AppData\\Local\\Packages\\PythonSoftwareFoundation.Python.3.9_qbz5n2kfra8p0\\LocalCache\\local-packages\\Python39\\site-packages\\wandb\\sdk\\wandb_init.py\", line 1172, in init\n",
      "    wi.setup(kwargs)\n",
      "  File \"C:\\Users\\jespe\\AppData\\Local\\Packages\\PythonSoftwareFoundation.Python.3.9_qbz5n2kfra8p0\\LocalCache\\local-packages\\Python39\\site-packages\\wandb\\sdk\\wandb_init.py\", line 189, in setup\n",
      "    self._wl = wandb_setup.setup(settings=setup_settings)\n",
      "  File \"C:\\Users\\jespe\\AppData\\Local\\Packages\\PythonSoftwareFoundation.Python.3.9_qbz5n2kfra8p0\\LocalCache\\local-packages\\Python39\\site-packages\\wandb\\sdk\\wandb_setup.py\", line 327, in setup\n",
      "    ret = _setup(settings=settings)\n",
      "  File \"C:\\Users\\jespe\\AppData\\Local\\Packages\\PythonSoftwareFoundation.Python.3.9_qbz5n2kfra8p0\\LocalCache\\local-packages\\Python39\\site-packages\\wandb\\sdk\\wandb_setup.py\", line 320, in _setup\n",
      "    wl = _WandbSetup(settings=settings)\n",
      "  File \"C:\\Users\\jespe\\AppData\\Local\\Packages\\PythonSoftwareFoundation.Python.3.9_qbz5n2kfra8p0\\LocalCache\\local-packages\\Python39\\site-packages\\wandb\\sdk\\wandb_setup.py\", line 303, in __init__\n",
      "    _WandbSetup._instance = _WandbSetup__WandbSetup(settings=settings, pid=pid)\n",
      "  File \"C:\\Users\\jespe\\AppData\\Local\\Packages\\PythonSoftwareFoundation.Python.3.9_qbz5n2kfra8p0\\LocalCache\\local-packages\\Python39\\site-packages\\wandb\\sdk\\wandb_setup.py\", line 114, in __init__\n",
      "    self._setup()\n",
      "  File \"C:\\Users\\jespe\\AppData\\Local\\Packages\\PythonSoftwareFoundation.Python.3.9_qbz5n2kfra8p0\\LocalCache\\local-packages\\Python39\\site-packages\\wandb\\sdk\\wandb_setup.py\", line 250, in _setup\n",
      "    self._setup_manager()\n",
      "  File \"C:\\Users\\jespe\\AppData\\Local\\Packages\\PythonSoftwareFoundation.Python.3.9_qbz5n2kfra8p0\\LocalCache\\local-packages\\Python39\\site-packages\\wandb\\sdk\\wandb_setup.py\", line 277, in _setup_manager\n",
      "    self._manager = wandb_manager._Manager(settings=self._settings)\n",
      "  File \"C:\\Users\\jespe\\AppData\\Local\\Packages\\PythonSoftwareFoundation.Python.3.9_qbz5n2kfra8p0\\LocalCache\\local-packages\\Python39\\site-packages\\wandb\\sdk\\wandb_manager.py\", line 139, in __init__\n",
      "    self._service.start()\n",
      "  File \"C:\\Users\\jespe\\AppData\\Local\\Packages\\PythonSoftwareFoundation.Python.3.9_qbz5n2kfra8p0\\LocalCache\\local-packages\\Python39\\site-packages\\wandb\\sdk\\service\\service.py\", line 250, in start\n",
      "    self._launch_server()\n",
      "  File \"C:\\Users\\jespe\\AppData\\Local\\Packages\\PythonSoftwareFoundation.Python.3.9_qbz5n2kfra8p0\\LocalCache\\local-packages\\Python39\\site-packages\\wandb\\sdk\\service\\service.py\", line 244, in _launch_server\n",
      "    _sentry.reraise(e)\n",
      "  File \"C:\\Users\\jespe\\AppData\\Local\\Packages\\PythonSoftwareFoundation.Python.3.9_qbz5n2kfra8p0\\LocalCache\\local-packages\\Python39\\site-packages\\wandb\\analytics\\sentry.py\", line 154, in reraise\n",
      "    raise exc.with_traceback(sys.exc_info()[2])\n",
      "  File \"C:\\Users\\jespe\\AppData\\Local\\Packages\\PythonSoftwareFoundation.Python.3.9_qbz5n2kfra8p0\\LocalCache\\local-packages\\Python39\\site-packages\\wandb\\sdk\\service\\service.py\", line 242, in _launch_server\n",
      "    self._wait_for_ports(fname, proc=internal_proc)\n",
      "  File \"C:\\Users\\jespe\\AppData\\Local\\Packages\\PythonSoftwareFoundation.Python.3.9_qbz5n2kfra8p0\\LocalCache\\local-packages\\Python39\\site-packages\\wandb\\sdk\\service\\service.py\", line 132, in _wait_for_ports\n",
      "    raise ServiceStartTimeoutError(\n",
      "wandb.sdk.service.service.ServiceStartTimeoutError: Timed out waiting for wandb service to start after 30.0 seconds. Try increasing the timeout with the `_service_wait` setting.\n",
      "Run uzhx6ldy errored:\n",
      "Traceback (most recent call last):\n",
      "  File \"C:\\Users\\jespe\\AppData\\Local\\Packages\\PythonSoftwareFoundation.Python.3.9_qbz5n2kfra8p0\\LocalCache\\local-packages\\Python39\\site-packages\\wandb\\agents\\pyagent.py\", line 308, in _run_job\n",
      "    self._function()\n",
      "  File \"C:\\Users\\jespe\\AppData\\Local\\Temp\\ipykernel_11472\\942634981.py\", line 19, in sweep\n",
      "    with wandb.init(config=config):\n",
      "  File \"C:\\Users\\jespe\\AppData\\Local\\Packages\\PythonSoftwareFoundation.Python.3.9_qbz5n2kfra8p0\\LocalCache\\local-packages\\Python39\\site-packages\\wandb\\sdk\\wandb_init.py\", line 1195, in init\n",
      "    raise e\n",
      "  File \"C:\\Users\\jespe\\AppData\\Local\\Packages\\PythonSoftwareFoundation.Python.3.9_qbz5n2kfra8p0\\LocalCache\\local-packages\\Python39\\site-packages\\wandb\\sdk\\wandb_init.py\", line 1172, in init\n",
      "    wi.setup(kwargs)\n",
      "  File \"C:\\Users\\jespe\\AppData\\Local\\Packages\\PythonSoftwareFoundation.Python.3.9_qbz5n2kfra8p0\\LocalCache\\local-packages\\Python39\\site-packages\\wandb\\sdk\\wandb_init.py\", line 189, in setup\n",
      "    self._wl = wandb_setup.setup(settings=setup_settings)\n",
      "  File \"C:\\Users\\jespe\\AppData\\Local\\Packages\\PythonSoftwareFoundation.Python.3.9_qbz5n2kfra8p0\\LocalCache\\local-packages\\Python39\\site-packages\\wandb\\sdk\\wandb_setup.py\", line 327, in setup\n",
      "    ret = _setup(settings=settings)\n",
      "  File \"C:\\Users\\jespe\\AppData\\Local\\Packages\\PythonSoftwareFoundation.Python.3.9_qbz5n2kfra8p0\\LocalCache\\local-packages\\Python39\\site-packages\\wandb\\sdk\\wandb_setup.py\", line 320, in _setup\n",
      "    wl = _WandbSetup(settings=settings)\n",
      "  File \"C:\\Users\\jespe\\AppData\\Local\\Packages\\PythonSoftwareFoundation.Python.3.9_qbz5n2kfra8p0\\LocalCache\\local-packages\\Python39\\site-packages\\wandb\\sdk\\wandb_setup.py\", line 303, in __init__\n",
      "    _WandbSetup._instance = _WandbSetup__WandbSetup(settings=settings, pid=pid)\n",
      "  File \"C:\\Users\\jespe\\AppData\\Local\\Packages\\PythonSoftwareFoundation.Python.3.9_qbz5n2kfra8p0\\LocalCache\\local-packages\\Python39\\site-packages\\wandb\\sdk\\wandb_setup.py\", line 114, in __init__\n",
      "    self._setup()\n",
      "  File \"C:\\Users\\jespe\\AppData\\Local\\Packages\\PythonSoftwareFoundation.Python.3.9_qbz5n2kfra8p0\\LocalCache\\local-packages\\Python39\\site-packages\\wandb\\sdk\\wandb_setup.py\", line 250, in _setup\n",
      "    self._setup_manager()\n",
      "  File \"C:\\Users\\jespe\\AppData\\Local\\Packages\\PythonSoftwareFoundation.Python.3.9_qbz5n2kfra8p0\\LocalCache\\local-packages\\Python39\\site-packages\\wandb\\sdk\\wandb_setup.py\", line 277, in _setup_manager\n",
      "    self._manager = wandb_manager._Manager(settings=self._settings)\n",
      "  File \"C:\\Users\\jespe\\AppData\\Local\\Packages\\PythonSoftwareFoundation.Python.3.9_qbz5n2kfra8p0\\LocalCache\\local-packages\\Python39\\site-packages\\wandb\\sdk\\wandb_manager.py\", line 139, in __init__\n",
      "    self._service.start()\n",
      "  File \"C:\\Users\\jespe\\AppData\\Local\\Packages\\PythonSoftwareFoundation.Python.3.9_qbz5n2kfra8p0\\LocalCache\\local-packages\\Python39\\site-packages\\wandb\\sdk\\service\\service.py\", line 250, in start\n",
      "    self._launch_server()\n",
      "  File \"C:\\Users\\jespe\\AppData\\Local\\Packages\\PythonSoftwareFoundation.Python.3.9_qbz5n2kfra8p0\\LocalCache\\local-packages\\Python39\\site-packages\\wandb\\sdk\\service\\service.py\", line 244, in _launch_server\n",
      "    _sentry.reraise(e)\n",
      "  File \"C:\\Users\\jespe\\AppData\\Local\\Packages\\PythonSoftwareFoundation.Python.3.9_qbz5n2kfra8p0\\LocalCache\\local-packages\\Python39\\site-packages\\wandb\\analytics\\sentry.py\", line 154, in reraise\n",
      "    raise exc.with_traceback(sys.exc_info()[2])\n",
      "  File \"C:\\Users\\jespe\\AppData\\Local\\Packages\\PythonSoftwareFoundation.Python.3.9_qbz5n2kfra8p0\\LocalCache\\local-packages\\Python39\\site-packages\\wandb\\sdk\\service\\service.py\", line 242, in _launch_server\n",
      "    self._wait_for_ports(fname, proc=internal_proc)\n",
      "  File \"C:\\Users\\jespe\\AppData\\Local\\Packages\\PythonSoftwareFoundation.Python.3.9_qbz5n2kfra8p0\\LocalCache\\local-packages\\Python39\\site-packages\\wandb\\sdk\\service\\service.py\", line 132, in _wait_for_ports\n",
      "    raise ServiceStartTimeoutError(\n",
      "wandb.sdk.service.service.ServiceStartTimeoutError: Timed out waiting for wandb service to start after 30.0 seconds. Try increasing the timeout with the `_service_wait` setting.\n",
      "\n",
      "\u001b[34m\u001b[1mwandb\u001b[0m: \u001b[32m\u001b[41mERROR\u001b[0m Run uzhx6ldy errored:\n",
      "\u001b[34m\u001b[1mwandb\u001b[0m: \u001b[32m\u001b[41mERROR\u001b[0m Traceback (most recent call last):\n",
      "\u001b[34m\u001b[1mwandb\u001b[0m: \u001b[32m\u001b[41mERROR\u001b[0m   File \"C:\\Users\\jespe\\AppData\\Local\\Packages\\PythonSoftwareFoundation.Python.3.9_qbz5n2kfra8p0\\LocalCache\\local-packages\\Python39\\site-packages\\wandb\\agents\\pyagent.py\", line 308, in _run_job\n",
      "\u001b[34m\u001b[1mwandb\u001b[0m: \u001b[32m\u001b[41mERROR\u001b[0m     self._function()\n",
      "\u001b[34m\u001b[1mwandb\u001b[0m: \u001b[32m\u001b[41mERROR\u001b[0m   File \"C:\\Users\\jespe\\AppData\\Local\\Temp\\ipykernel_11472\\942634981.py\", line 19, in sweep\n",
      "\u001b[34m\u001b[1mwandb\u001b[0m: \u001b[32m\u001b[41mERROR\u001b[0m     with wandb.init(config=config):\n",
      "\u001b[34m\u001b[1mwandb\u001b[0m: \u001b[32m\u001b[41mERROR\u001b[0m   File \"C:\\Users\\jespe\\AppData\\Local\\Packages\\PythonSoftwareFoundation.Python.3.9_qbz5n2kfra8p0\\LocalCache\\local-packages\\Python39\\site-packages\\wandb\\sdk\\wandb_init.py\", line 1195, in init\n",
      "\u001b[34m\u001b[1mwandb\u001b[0m: \u001b[32m\u001b[41mERROR\u001b[0m     raise e\n",
      "\u001b[34m\u001b[1mwandb\u001b[0m: \u001b[32m\u001b[41mERROR\u001b[0m   File \"C:\\Users\\jespe\\AppData\\Local\\Packages\\PythonSoftwareFoundation.Python.3.9_qbz5n2kfra8p0\\LocalCache\\local-packages\\Python39\\site-packages\\wandb\\sdk\\wandb_init.py\", line 1172, in init\n",
      "\u001b[34m\u001b[1mwandb\u001b[0m: \u001b[32m\u001b[41mERROR\u001b[0m     wi.setup(kwargs)\n",
      "\u001b[34m\u001b[1mwandb\u001b[0m: \u001b[32m\u001b[41mERROR\u001b[0m   File \"C:\\Users\\jespe\\AppData\\Local\\Packages\\PythonSoftwareFoundation.Python.3.9_qbz5n2kfra8p0\\LocalCache\\local-packages\\Python39\\site-packages\\wandb\\sdk\\wandb_init.py\", line 189, in setup\n",
      "\u001b[34m\u001b[1mwandb\u001b[0m: \u001b[32m\u001b[41mERROR\u001b[0m     self._wl = wandb_setup.setup(settings=setup_settings)\n",
      "\u001b[34m\u001b[1mwandb\u001b[0m: \u001b[32m\u001b[41mERROR\u001b[0m   File \"C:\\Users\\jespe\\AppData\\Local\\Packages\\PythonSoftwareFoundation.Python.3.9_qbz5n2kfra8p0\\LocalCache\\local-packages\\Python39\\site-packages\\wandb\\sdk\\wandb_setup.py\", line 327, in setup\n",
      "\u001b[34m\u001b[1mwandb\u001b[0m: \u001b[32m\u001b[41mERROR\u001b[0m     ret = _setup(settings=settings)\n",
      "\u001b[34m\u001b[1mwandb\u001b[0m: \u001b[32m\u001b[41mERROR\u001b[0m   File \"C:\\Users\\jespe\\AppData\\Local\\Packages\\PythonSoftwareFoundation.Python.3.9_qbz5n2kfra8p0\\LocalCache\\local-packages\\Python39\\site-packages\\wandb\\sdk\\wandb_setup.py\", line 320, in _setup\n",
      "\u001b[34m\u001b[1mwandb\u001b[0m: \u001b[32m\u001b[41mERROR\u001b[0m     wl = _WandbSetup(settings=settings)\n",
      "\u001b[34m\u001b[1mwandb\u001b[0m: \u001b[32m\u001b[41mERROR\u001b[0m   File \"C:\\Users\\jespe\\AppData\\Local\\Packages\\PythonSoftwareFoundation.Python.3.9_qbz5n2kfra8p0\\LocalCache\\local-packages\\Python39\\site-packages\\wandb\\sdk\\wandb_setup.py\", line 303, in __init__\n",
      "\u001b[34m\u001b[1mwandb\u001b[0m: \u001b[32m\u001b[41mERROR\u001b[0m     _WandbSetup._instance = _WandbSetup__WandbSetup(settings=settings, pid=pid)\n",
      "\u001b[34m\u001b[1mwandb\u001b[0m: \u001b[32m\u001b[41mERROR\u001b[0m   File \"C:\\Users\\jespe\\AppData\\Local\\Packages\\PythonSoftwareFoundation.Python.3.9_qbz5n2kfra8p0\\LocalCache\\local-packages\\Python39\\site-packages\\wandb\\sdk\\wandb_setup.py\", line 114, in __init__\n",
      "\u001b[34m\u001b[1mwandb\u001b[0m: \u001b[32m\u001b[41mERROR\u001b[0m     self._setup()\n",
      "\u001b[34m\u001b[1mwandb\u001b[0m: \u001b[32m\u001b[41mERROR\u001b[0m   File \"C:\\Users\\jespe\\AppData\\Local\\Packages\\PythonSoftwareFoundation.Python.3.9_qbz5n2kfra8p0\\LocalCache\\local-packages\\Python39\\site-packages\\wandb\\sdk\\wandb_setup.py\", line 250, in _setup\n",
      "\u001b[34m\u001b[1mwandb\u001b[0m: \u001b[32m\u001b[41mERROR\u001b[0m     self._setup_manager()\n",
      "\u001b[34m\u001b[1mwandb\u001b[0m: \u001b[32m\u001b[41mERROR\u001b[0m   File \"C:\\Users\\jespe\\AppData\\Local\\Packages\\PythonSoftwareFoundation.Python.3.9_qbz5n2kfra8p0\\LocalCache\\local-packages\\Python39\\site-packages\\wandb\\sdk\\wandb_setup.py\", line 277, in _setup_manager\n",
      "\u001b[34m\u001b[1mwandb\u001b[0m: \u001b[32m\u001b[41mERROR\u001b[0m     self._manager = wandb_manager._Manager(settings=self._settings)\n",
      "\u001b[34m\u001b[1mwandb\u001b[0m: \u001b[32m\u001b[41mERROR\u001b[0m   File \"C:\\Users\\jespe\\AppData\\Local\\Packages\\PythonSoftwareFoundation.Python.3.9_qbz5n2kfra8p0\\LocalCache\\local-packages\\Python39\\site-packages\\wandb\\sdk\\wandb_manager.py\", line 139, in __init__\n",
      "\u001b[34m\u001b[1mwandb\u001b[0m: \u001b[32m\u001b[41mERROR\u001b[0m     self._service.start()\n",
      "\u001b[34m\u001b[1mwandb\u001b[0m: \u001b[32m\u001b[41mERROR\u001b[0m   File \"C:\\Users\\jespe\\AppData\\Local\\Packages\\PythonSoftwareFoundation.Python.3.9_qbz5n2kfra8p0\\LocalCache\\local-packages\\Python39\\site-packages\\wandb\\sdk\\service\\service.py\", line 250, in start\n",
      "\u001b[34m\u001b[1mwandb\u001b[0m: \u001b[32m\u001b[41mERROR\u001b[0m     self._launch_server()\n",
      "\u001b[34m\u001b[1mwandb\u001b[0m: \u001b[32m\u001b[41mERROR\u001b[0m   File \"C:\\Users\\jespe\\AppData\\Local\\Packages\\PythonSoftwareFoundation.Python.3.9_qbz5n2kfra8p0\\LocalCache\\local-packages\\Python39\\site-packages\\wandb\\sdk\\service\\service.py\", line 244, in _launch_server\n",
      "\u001b[34m\u001b[1mwandb\u001b[0m: \u001b[32m\u001b[41mERROR\u001b[0m     _sentry.reraise(e)\n",
      "\u001b[34m\u001b[1mwandb\u001b[0m: \u001b[32m\u001b[41mERROR\u001b[0m   File \"C:\\Users\\jespe\\AppData\\Local\\Packages\\PythonSoftwareFoundation.Python.3.9_qbz5n2kfra8p0\\LocalCache\\local-packages\\Python39\\site-packages\\wandb\\analytics\\sentry.py\", line 154, in reraise\n",
      "\u001b[34m\u001b[1mwandb\u001b[0m: \u001b[32m\u001b[41mERROR\u001b[0m     raise exc.with_traceback(sys.exc_info()[2])\n",
      "\u001b[34m\u001b[1mwandb\u001b[0m: \u001b[32m\u001b[41mERROR\u001b[0m   File \"C:\\Users\\jespe\\AppData\\Local\\Packages\\PythonSoftwareFoundation.Python.3.9_qbz5n2kfra8p0\\LocalCache\\local-packages\\Python39\\site-packages\\wandb\\sdk\\service\\service.py\", line 242, in _launch_server\n",
      "\u001b[34m\u001b[1mwandb\u001b[0m: \u001b[32m\u001b[41mERROR\u001b[0m     self._wait_for_ports(fname, proc=internal_proc)\n",
      "\u001b[34m\u001b[1mwandb\u001b[0m: \u001b[32m\u001b[41mERROR\u001b[0m   File \"C:\\Users\\jespe\\AppData\\Local\\Packages\\PythonSoftwareFoundation.Python.3.9_qbz5n2kfra8p0\\LocalCache\\local-packages\\Python39\\site-packages\\wandb\\sdk\\service\\service.py\", line 132, in _wait_for_ports\n",
      "\u001b[34m\u001b[1mwandb\u001b[0m: \u001b[32m\u001b[41mERROR\u001b[0m     raise ServiceStartTimeoutError(\n",
      "\u001b[34m\u001b[1mwandb\u001b[0m: \u001b[32m\u001b[41mERROR\u001b[0m wandb.sdk.service.service.ServiceStartTimeoutError: Timed out waiting for wandb service to start after 30.0 seconds. Try increasing the timeout with the `_service_wait` setting.\n",
      "\u001b[34m\u001b[1mwandb\u001b[0m: \u001b[32m\u001b[41mERROR\u001b[0m \n",
      "\u001b[34m\u001b[1mwandb\u001b[0m: Agent Starting Run: hdka1wx3 with config:\n",
      "\u001b[34m\u001b[1mwandb\u001b[0m: \tbatch_size: 120\n",
      "\u001b[34m\u001b[1mwandb\u001b[0m: \tbow: tf_idf\n",
      "\u001b[34m\u001b[1mwandb\u001b[0m: \thidden_size: 683\n",
      "\u001b[34m\u001b[1mwandb\u001b[0m: \tlearning_rate: 0.007173752821982754\n",
      "\u001b[34m\u001b[1mwandb\u001b[0m: \tnrows: 272\n",
      "\u001b[34m\u001b[1mwandb\u001b[0m: \tnum_epochs: 33\n",
      "\u001b[34m\u001b[1mwandb\u001b[0m: \tnum_layers: 2\n",
      "Failed to detect the name of this notebook, you can set it manually with the WANDB_NOTEBOOK_NAME environment variable to enable code saving.\n",
      "\u001b[34m\u001b[1mwandb\u001b[0m: Currently logged in as: \u001b[33mj-soberg\u001b[0m (\u001b[33mjespermagnus\u001b[0m). Use \u001b[1m`wandb login --relogin`\u001b[0m to force relogin\n"
     ]
    },
    {
     "data": {
      "text/html": [
       "wandb version 0.16.6 is available!  To upgrade, please run:\n",
       " $ pip install wandb --upgrade"
      ],
      "text/plain": [
       "<IPython.core.display.HTML object>"
      ]
     },
     "metadata": {},
     "output_type": "display_data"
    },
    {
     "data": {
      "text/html": [
       "Tracking run with wandb version 0.16.4"
      ],
      "text/plain": [
       "<IPython.core.display.HTML object>"
      ]
     },
     "metadata": {},
     "output_type": "display_data"
    },
    {
     "data": {
      "text/html": [
       "Run data is saved locally in <code>c:\\Users\\jespe\\git\\550dat\\prosjekt\\wandb\\run-20240419_145550-hdka1wx3</code>"
      ],
      "text/plain": [
       "<IPython.core.display.HTML object>"
      ]
     },
     "metadata": {},
     "output_type": "display_data"
    },
    {
     "data": {
      "text/html": [
       "Syncing run <strong><a href='https://wandb.ai/jespermagnus/Epochs%20and%20You/runs/hdka1wx3' target=\"_blank\">expert-sweep-2</a></strong> to <a href='https://wandb.ai/jespermagnus/Epochs%20and%20You' target=\"_blank\">Weights & Biases</a> (<a href='https://wandb.me/run' target=\"_blank\">docs</a>)<br/>Sweep page: <a href='https://wandb.ai/jespermagnus/Epochs%20and%20You/sweeps/cxle7d20' target=\"_blank\">https://wandb.ai/jespermagnus/Epochs%20and%20You/sweeps/cxle7d20</a>"
      ],
      "text/plain": [
       "<IPython.core.display.HTML object>"
      ]
     },
     "metadata": {},
     "output_type": "display_data"
    },
    {
     "data": {
      "text/html": [
       " View project at <a href='https://wandb.ai/jespermagnus/Epochs%20and%20You' target=\"_blank\">https://wandb.ai/jespermagnus/Epochs%20and%20You</a>"
      ],
      "text/plain": [
       "<IPython.core.display.HTML object>"
      ]
     },
     "metadata": {},
     "output_type": "display_data"
    },
    {
     "data": {
      "text/html": [
       " View sweep at <a href='https://wandb.ai/jespermagnus/Epochs%20and%20You/sweeps/cxle7d20' target=\"_blank\">https://wandb.ai/jespermagnus/Epochs%20and%20You/sweeps/cxle7d20</a>"
      ],
      "text/plain": [
       "<IPython.core.display.HTML object>"
      ]
     },
     "metadata": {},
     "output_type": "display_data"
    },
    {
     "data": {
      "text/html": [
       " View run at <a href='https://wandb.ai/jespermagnus/Epochs%20and%20You/runs/hdka1wx3' target=\"_blank\">https://wandb.ai/jespermagnus/Epochs%20and%20You/runs/hdka1wx3</a>"
      ],
      "text/plain": [
       "<IPython.core.display.HTML object>"
      ]
     },
     "metadata": {},
     "output_type": "display_data"
    },
    {
     "data": {
      "text/html": [
       "<style>\n",
       "    table.wandb td:nth-child(1) { padding: 0 10px; text-align: left ; width: auto;} td:nth-child(2) {text-align: left ; width: 100%}\n",
       "    .wandb-row { display: flex; flex-direction: row; flex-wrap: wrap; justify-content: flex-start; width: 100% }\n",
       "    .wandb-col { display: flex; flex-direction: column; flex-basis: 100%; flex: 1; padding: 10px; }\n",
       "    </style>\n",
       "<div class=\"wandb-row\"><div class=\"wandb-col\"><h3>Run history:</h3><br/><table class=\"wandb\"><tr><td>Accuracy</td><td>▄▅▅▆▇▂▅▃▃▄▃▆▆▄▆▃▂█▄▃▅▄▄▃▃▃▃▄▄▄▁▂▆</td></tr><tr><td>Macro-f1-score</td><td>▄▆▄▇▇▁▅▂▃▃▃▇▆▃▄▃▂█▅▄▅▅▄▄▄▃▃▅▄▃▁▂▅</td></tr><tr><td>Precision</td><td>▂▃▃▇▅▄▆▁▂▂▄█▆▂▅▂▆▄▅▃▃▄▂▄▂▂▂█▄▄▁▁▃</td></tr><tr><td>Recall</td><td>▃▄▄▅▆▂▅▃▃▄▃▆▆▃▅▂▁█▄▃▅▄▄▃▃▃▃▄▄▃▁▂▅</td></tr><tr><td>Test loss</td><td>▅▃▆▂▂▁▅▄▆█▂▆▃▅▆▅▂▆▅▄▅▁▃▄▅▃▅▁▅▆█▆▇</td></tr><tr><td>Training loss</td><td>▅▄▆▅▆▅▆▅▄▆██▂▇▁▅▅▅▅▆▆█▆▆█▇█▆▃▆▆▄▇</td></tr></table><br/></div><div class=\"wandb-col\"><h3>Run summary:</h3><br/><table class=\"wandb\"><tr><td>Accuracy</td><td>0.12868</td></tr><tr><td>Macro-f1-score</td><td>0.08791</td></tr><tr><td>Precision</td><td>0.08391</td></tr><tr><td>Recall</td><td>0.12698</td></tr><tr><td>Test loss</td><td>2.30834</td></tr><tr><td>Training loss</td><td>2.30537</td></tr></table><br/></div></div>"
      ],
      "text/plain": [
       "<IPython.core.display.HTML object>"
      ]
     },
     "metadata": {},
     "output_type": "display_data"
    },
    {
     "data": {
      "text/html": [
       " View run <strong style=\"color:#cdcd00\">expert-sweep-2</strong> at: <a href='https://wandb.ai/jespermagnus/Epochs%20and%20You/runs/hdka1wx3' target=\"_blank\">https://wandb.ai/jespermagnus/Epochs%20and%20You/runs/hdka1wx3</a><br/>Synced 4 W&B file(s), 0 media file(s), 0 artifact file(s) and 0 other file(s)"
      ],
      "text/plain": [
       "<IPython.core.display.HTML object>"
      ]
     },
     "metadata": {},
     "output_type": "display_data"
    },
    {
     "data": {
      "text/html": [
       "Find logs at: <code>.\\wandb\\run-20240419_145550-hdka1wx3\\logs</code>"
      ],
      "text/plain": [
       "<IPython.core.display.HTML object>"
      ]
     },
     "metadata": {},
     "output_type": "display_data"
    },
    {
     "name": "stderr",
     "output_type": "stream",
     "text": [
      "\u001b[34m\u001b[1mwandb\u001b[0m: Agent Starting Run: whnbzhl3 with config:\n",
      "\u001b[34m\u001b[1mwandb\u001b[0m: \tbatch_size: 163\n",
      "\u001b[34m\u001b[1mwandb\u001b[0m: \tbow: tf_idf\n",
      "\u001b[34m\u001b[1mwandb\u001b[0m: \thidden_size: 704\n",
      "\u001b[34m\u001b[1mwandb\u001b[0m: \tlearning_rate: 0.0014765994335545415\n",
      "\u001b[34m\u001b[1mwandb\u001b[0m: \tnrows: 131\n",
      "\u001b[34m\u001b[1mwandb\u001b[0m: \tnum_epochs: 9\n",
      "\u001b[34m\u001b[1mwandb\u001b[0m: \tnum_layers: 2\n",
      "Failed to detect the name of this notebook, you can set it manually with the WANDB_NOTEBOOK_NAME environment variable to enable code saving.\n",
      "Timed out waiting for wandb service to start after 30.0 seconds. Try increasing the timeout with the `_service_wait` setting.\n",
      "Traceback (most recent call last):\n",
      "  File \"C:\\Users\\jespe\\AppData\\Local\\Packages\\PythonSoftwareFoundation.Python.3.9_qbz5n2kfra8p0\\LocalCache\\local-packages\\Python39\\site-packages\\wandb\\sdk\\wandb_init.py\", line 1172, in init\n",
      "    wi.setup(kwargs)\n",
      "  File \"C:\\Users\\jespe\\AppData\\Local\\Packages\\PythonSoftwareFoundation.Python.3.9_qbz5n2kfra8p0\\LocalCache\\local-packages\\Python39\\site-packages\\wandb\\sdk\\wandb_init.py\", line 189, in setup\n",
      "    self._wl = wandb_setup.setup(settings=setup_settings)\n",
      "  File \"C:\\Users\\jespe\\AppData\\Local\\Packages\\PythonSoftwareFoundation.Python.3.9_qbz5n2kfra8p0\\LocalCache\\local-packages\\Python39\\site-packages\\wandb\\sdk\\wandb_setup.py\", line 327, in setup\n",
      "    ret = _setup(settings=settings)\n",
      "  File \"C:\\Users\\jespe\\AppData\\Local\\Packages\\PythonSoftwareFoundation.Python.3.9_qbz5n2kfra8p0\\LocalCache\\local-packages\\Python39\\site-packages\\wandb\\sdk\\wandb_setup.py\", line 320, in _setup\n",
      "    wl = _WandbSetup(settings=settings)\n",
      "  File \"C:\\Users\\jespe\\AppData\\Local\\Packages\\PythonSoftwareFoundation.Python.3.9_qbz5n2kfra8p0\\LocalCache\\local-packages\\Python39\\site-packages\\wandb\\sdk\\wandb_setup.py\", line 303, in __init__\n",
      "    _WandbSetup._instance = _WandbSetup__WandbSetup(settings=settings, pid=pid)\n",
      "  File \"C:\\Users\\jespe\\AppData\\Local\\Packages\\PythonSoftwareFoundation.Python.3.9_qbz5n2kfra8p0\\LocalCache\\local-packages\\Python39\\site-packages\\wandb\\sdk\\wandb_setup.py\", line 114, in __init__\n",
      "    self._setup()\n",
      "  File \"C:\\Users\\jespe\\AppData\\Local\\Packages\\PythonSoftwareFoundation.Python.3.9_qbz5n2kfra8p0\\LocalCache\\local-packages\\Python39\\site-packages\\wandb\\sdk\\wandb_setup.py\", line 250, in _setup\n",
      "    self._setup_manager()\n",
      "  File \"C:\\Users\\jespe\\AppData\\Local\\Packages\\PythonSoftwareFoundation.Python.3.9_qbz5n2kfra8p0\\LocalCache\\local-packages\\Python39\\site-packages\\wandb\\sdk\\wandb_setup.py\", line 277, in _setup_manager\n",
      "    self._manager = wandb_manager._Manager(settings=self._settings)\n",
      "  File \"C:\\Users\\jespe\\AppData\\Local\\Packages\\PythonSoftwareFoundation.Python.3.9_qbz5n2kfra8p0\\LocalCache\\local-packages\\Python39\\site-packages\\wandb\\sdk\\wandb_manager.py\", line 139, in __init__\n",
      "    self._service.start()\n",
      "  File \"C:\\Users\\jespe\\AppData\\Local\\Packages\\PythonSoftwareFoundation.Python.3.9_qbz5n2kfra8p0\\LocalCache\\local-packages\\Python39\\site-packages\\wandb\\sdk\\service\\service.py\", line 250, in start\n",
      "    self._launch_server()\n",
      "  File \"C:\\Users\\jespe\\AppData\\Local\\Packages\\PythonSoftwareFoundation.Python.3.9_qbz5n2kfra8p0\\LocalCache\\local-packages\\Python39\\site-packages\\wandb\\sdk\\service\\service.py\", line 244, in _launch_server\n",
      "    _sentry.reraise(e)\n",
      "  File \"C:\\Users\\jespe\\AppData\\Local\\Packages\\PythonSoftwareFoundation.Python.3.9_qbz5n2kfra8p0\\LocalCache\\local-packages\\Python39\\site-packages\\wandb\\analytics\\sentry.py\", line 154, in reraise\n",
      "    raise exc.with_traceback(sys.exc_info()[2])\n",
      "  File \"C:\\Users\\jespe\\AppData\\Local\\Packages\\PythonSoftwareFoundation.Python.3.9_qbz5n2kfra8p0\\LocalCache\\local-packages\\Python39\\site-packages\\wandb\\sdk\\service\\service.py\", line 242, in _launch_server\n",
      "    self._wait_for_ports(fname, proc=internal_proc)\n",
      "  File \"C:\\Users\\jespe\\AppData\\Local\\Packages\\PythonSoftwareFoundation.Python.3.9_qbz5n2kfra8p0\\LocalCache\\local-packages\\Python39\\site-packages\\wandb\\sdk\\service\\service.py\", line 132, in _wait_for_ports\n",
      "    raise ServiceStartTimeoutError(\n",
      "wandb.sdk.service.service.ServiceStartTimeoutError: Timed out waiting for wandb service to start after 30.0 seconds. Try increasing the timeout with the `_service_wait` setting.\n",
      "Run whnbzhl3 errored:\n",
      "Traceback (most recent call last):\n",
      "  File \"C:\\Users\\jespe\\AppData\\Local\\Packages\\PythonSoftwareFoundation.Python.3.9_qbz5n2kfra8p0\\LocalCache\\local-packages\\Python39\\site-packages\\wandb\\agents\\pyagent.py\", line 308, in _run_job\n",
      "    self._function()\n",
      "  File \"C:\\Users\\jespe\\AppData\\Local\\Temp\\ipykernel_11472\\942634981.py\", line 19, in sweep\n",
      "    with wandb.init(config=config):\n",
      "  File \"C:\\Users\\jespe\\AppData\\Local\\Packages\\PythonSoftwareFoundation.Python.3.9_qbz5n2kfra8p0\\LocalCache\\local-packages\\Python39\\site-packages\\wandb\\sdk\\wandb_init.py\", line 1195, in init\n",
      "    raise e\n",
      "  File \"C:\\Users\\jespe\\AppData\\Local\\Packages\\PythonSoftwareFoundation.Python.3.9_qbz5n2kfra8p0\\LocalCache\\local-packages\\Python39\\site-packages\\wandb\\sdk\\wandb_init.py\", line 1172, in init\n",
      "    wi.setup(kwargs)\n",
      "  File \"C:\\Users\\jespe\\AppData\\Local\\Packages\\PythonSoftwareFoundation.Python.3.9_qbz5n2kfra8p0\\LocalCache\\local-packages\\Python39\\site-packages\\wandb\\sdk\\wandb_init.py\", line 189, in setup\n",
      "    self._wl = wandb_setup.setup(settings=setup_settings)\n",
      "  File \"C:\\Users\\jespe\\AppData\\Local\\Packages\\PythonSoftwareFoundation.Python.3.9_qbz5n2kfra8p0\\LocalCache\\local-packages\\Python39\\site-packages\\wandb\\sdk\\wandb_setup.py\", line 327, in setup\n",
      "    ret = _setup(settings=settings)\n",
      "  File \"C:\\Users\\jespe\\AppData\\Local\\Packages\\PythonSoftwareFoundation.Python.3.9_qbz5n2kfra8p0\\LocalCache\\local-packages\\Python39\\site-packages\\wandb\\sdk\\wandb_setup.py\", line 320, in _setup\n",
      "    wl = _WandbSetup(settings=settings)\n",
      "  File \"C:\\Users\\jespe\\AppData\\Local\\Packages\\PythonSoftwareFoundation.Python.3.9_qbz5n2kfra8p0\\LocalCache\\local-packages\\Python39\\site-packages\\wandb\\sdk\\wandb_setup.py\", line 303, in __init__\n",
      "    _WandbSetup._instance = _WandbSetup__WandbSetup(settings=settings, pid=pid)\n",
      "  File \"C:\\Users\\jespe\\AppData\\Local\\Packages\\PythonSoftwareFoundation.Python.3.9_qbz5n2kfra8p0\\LocalCache\\local-packages\\Python39\\site-packages\\wandb\\sdk\\wandb_setup.py\", line 114, in __init__\n",
      "    self._setup()\n",
      "  File \"C:\\Users\\jespe\\AppData\\Local\\Packages\\PythonSoftwareFoundation.Python.3.9_qbz5n2kfra8p0\\LocalCache\\local-packages\\Python39\\site-packages\\wandb\\sdk\\wandb_setup.py\", line 250, in _setup\n",
      "    self._setup_manager()\n",
      "  File \"C:\\Users\\jespe\\AppData\\Local\\Packages\\PythonSoftwareFoundation.Python.3.9_qbz5n2kfra8p0\\LocalCache\\local-packages\\Python39\\site-packages\\wandb\\sdk\\wandb_setup.py\", line 277, in _setup_manager\n",
      "    self._manager = wandb_manager._Manager(settings=self._settings)\n",
      "  File \"C:\\Users\\jespe\\AppData\\Local\\Packages\\PythonSoftwareFoundation.Python.3.9_qbz5n2kfra8p0\\LocalCache\\local-packages\\Python39\\site-packages\\wandb\\sdk\\wandb_manager.py\", line 139, in __init__\n",
      "    self._service.start()\n",
      "  File \"C:\\Users\\jespe\\AppData\\Local\\Packages\\PythonSoftwareFoundation.Python.3.9_qbz5n2kfra8p0\\LocalCache\\local-packages\\Python39\\site-packages\\wandb\\sdk\\service\\service.py\", line 250, in start\n",
      "    self._launch_server()\n",
      "  File \"C:\\Users\\jespe\\AppData\\Local\\Packages\\PythonSoftwareFoundation.Python.3.9_qbz5n2kfra8p0\\LocalCache\\local-packages\\Python39\\site-packages\\wandb\\sdk\\service\\service.py\", line 244, in _launch_server\n",
      "    _sentry.reraise(e)\n",
      "  File \"C:\\Users\\jespe\\AppData\\Local\\Packages\\PythonSoftwareFoundation.Python.3.9_qbz5n2kfra8p0\\LocalCache\\local-packages\\Python39\\site-packages\\wandb\\analytics\\sentry.py\", line 154, in reraise\n",
      "    raise exc.with_traceback(sys.exc_info()[2])\n",
      "  File \"C:\\Users\\jespe\\AppData\\Local\\Packages\\PythonSoftwareFoundation.Python.3.9_qbz5n2kfra8p0\\LocalCache\\local-packages\\Python39\\site-packages\\wandb\\sdk\\service\\service.py\", line 242, in _launch_server\n",
      "    self._wait_for_ports(fname, proc=internal_proc)\n",
      "  File \"C:\\Users\\jespe\\AppData\\Local\\Packages\\PythonSoftwareFoundation.Python.3.9_qbz5n2kfra8p0\\LocalCache\\local-packages\\Python39\\site-packages\\wandb\\sdk\\service\\service.py\", line 132, in _wait_for_ports\n",
      "    raise ServiceStartTimeoutError(\n",
      "wandb.sdk.service.service.ServiceStartTimeoutError: Timed out waiting for wandb service to start after 30.0 seconds. Try increasing the timeout with the `_service_wait` setting.\n",
      "\n",
      "\u001b[34m\u001b[1mwandb\u001b[0m: \u001b[32m\u001b[41mERROR\u001b[0m Run whnbzhl3 errored:\n",
      "\u001b[34m\u001b[1mwandb\u001b[0m: \u001b[32m\u001b[41mERROR\u001b[0m Traceback (most recent call last):\n",
      "\u001b[34m\u001b[1mwandb\u001b[0m: \u001b[32m\u001b[41mERROR\u001b[0m   File \"C:\\Users\\jespe\\AppData\\Local\\Packages\\PythonSoftwareFoundation.Python.3.9_qbz5n2kfra8p0\\LocalCache\\local-packages\\Python39\\site-packages\\wandb\\agents\\pyagent.py\", line 308, in _run_job\n",
      "\u001b[34m\u001b[1mwandb\u001b[0m: \u001b[32m\u001b[41mERROR\u001b[0m     self._function()\n",
      "\u001b[34m\u001b[1mwandb\u001b[0m: \u001b[32m\u001b[41mERROR\u001b[0m   File \"C:\\Users\\jespe\\AppData\\Local\\Temp\\ipykernel_11472\\942634981.py\", line 19, in sweep\n",
      "\u001b[34m\u001b[1mwandb\u001b[0m: \u001b[32m\u001b[41mERROR\u001b[0m     with wandb.init(config=config):\n",
      "\u001b[34m\u001b[1mwandb\u001b[0m: \u001b[32m\u001b[41mERROR\u001b[0m   File \"C:\\Users\\jespe\\AppData\\Local\\Packages\\PythonSoftwareFoundation.Python.3.9_qbz5n2kfra8p0\\LocalCache\\local-packages\\Python39\\site-packages\\wandb\\sdk\\wandb_init.py\", line 1195, in init\n",
      "\u001b[34m\u001b[1mwandb\u001b[0m: \u001b[32m\u001b[41mERROR\u001b[0m     raise e\n",
      "\u001b[34m\u001b[1mwandb\u001b[0m: \u001b[32m\u001b[41mERROR\u001b[0m   File \"C:\\Users\\jespe\\AppData\\Local\\Packages\\PythonSoftwareFoundation.Python.3.9_qbz5n2kfra8p0\\LocalCache\\local-packages\\Python39\\site-packages\\wandb\\sdk\\wandb_init.py\", line 1172, in init\n",
      "\u001b[34m\u001b[1mwandb\u001b[0m: \u001b[32m\u001b[41mERROR\u001b[0m     wi.setup(kwargs)\n",
      "\u001b[34m\u001b[1mwandb\u001b[0m: \u001b[32m\u001b[41mERROR\u001b[0m   File \"C:\\Users\\jespe\\AppData\\Local\\Packages\\PythonSoftwareFoundation.Python.3.9_qbz5n2kfra8p0\\LocalCache\\local-packages\\Python39\\site-packages\\wandb\\sdk\\wandb_init.py\", line 189, in setup\n",
      "\u001b[34m\u001b[1mwandb\u001b[0m: \u001b[32m\u001b[41mERROR\u001b[0m     self._wl = wandb_setup.setup(settings=setup_settings)\n",
      "\u001b[34m\u001b[1mwandb\u001b[0m: \u001b[32m\u001b[41mERROR\u001b[0m   File \"C:\\Users\\jespe\\AppData\\Local\\Packages\\PythonSoftwareFoundation.Python.3.9_qbz5n2kfra8p0\\LocalCache\\local-packages\\Python39\\site-packages\\wandb\\sdk\\wandb_setup.py\", line 327, in setup\n",
      "\u001b[34m\u001b[1mwandb\u001b[0m: \u001b[32m\u001b[41mERROR\u001b[0m     ret = _setup(settings=settings)\n",
      "\u001b[34m\u001b[1mwandb\u001b[0m: \u001b[32m\u001b[41mERROR\u001b[0m   File \"C:\\Users\\jespe\\AppData\\Local\\Packages\\PythonSoftwareFoundation.Python.3.9_qbz5n2kfra8p0\\LocalCache\\local-packages\\Python39\\site-packages\\wandb\\sdk\\wandb_setup.py\", line 320, in _setup\n",
      "\u001b[34m\u001b[1mwandb\u001b[0m: \u001b[32m\u001b[41mERROR\u001b[0m     wl = _WandbSetup(settings=settings)\n",
      "\u001b[34m\u001b[1mwandb\u001b[0m: \u001b[32m\u001b[41mERROR\u001b[0m   File \"C:\\Users\\jespe\\AppData\\Local\\Packages\\PythonSoftwareFoundation.Python.3.9_qbz5n2kfra8p0\\LocalCache\\local-packages\\Python39\\site-packages\\wandb\\sdk\\wandb_setup.py\", line 303, in __init__\n",
      "\u001b[34m\u001b[1mwandb\u001b[0m: \u001b[32m\u001b[41mERROR\u001b[0m     _WandbSetup._instance = _WandbSetup__WandbSetup(settings=settings, pid=pid)\n",
      "\u001b[34m\u001b[1mwandb\u001b[0m: \u001b[32m\u001b[41mERROR\u001b[0m   File \"C:\\Users\\jespe\\AppData\\Local\\Packages\\PythonSoftwareFoundation.Python.3.9_qbz5n2kfra8p0\\LocalCache\\local-packages\\Python39\\site-packages\\wandb\\sdk\\wandb_setup.py\", line 114, in __init__\n",
      "\u001b[34m\u001b[1mwandb\u001b[0m: \u001b[32m\u001b[41mERROR\u001b[0m     self._setup()\n",
      "\u001b[34m\u001b[1mwandb\u001b[0m: \u001b[32m\u001b[41mERROR\u001b[0m   File \"C:\\Users\\jespe\\AppData\\Local\\Packages\\PythonSoftwareFoundation.Python.3.9_qbz5n2kfra8p0\\LocalCache\\local-packages\\Python39\\site-packages\\wandb\\sdk\\wandb_setup.py\", line 250, in _setup\n",
      "\u001b[34m\u001b[1mwandb\u001b[0m: \u001b[32m\u001b[41mERROR\u001b[0m     self._setup_manager()\n",
      "\u001b[34m\u001b[1mwandb\u001b[0m: \u001b[32m\u001b[41mERROR\u001b[0m   File \"C:\\Users\\jespe\\AppData\\Local\\Packages\\PythonSoftwareFoundation.Python.3.9_qbz5n2kfra8p0\\LocalCache\\local-packages\\Python39\\site-packages\\wandb\\sdk\\wandb_setup.py\", line 277, in _setup_manager\n",
      "\u001b[34m\u001b[1mwandb\u001b[0m: \u001b[32m\u001b[41mERROR\u001b[0m     self._manager = wandb_manager._Manager(settings=self._settings)\n",
      "\u001b[34m\u001b[1mwandb\u001b[0m: \u001b[32m\u001b[41mERROR\u001b[0m   File \"C:\\Users\\jespe\\AppData\\Local\\Packages\\PythonSoftwareFoundation.Python.3.9_qbz5n2kfra8p0\\LocalCache\\local-packages\\Python39\\site-packages\\wandb\\sdk\\wandb_manager.py\", line 139, in __init__\n",
      "\u001b[34m\u001b[1mwandb\u001b[0m: \u001b[32m\u001b[41mERROR\u001b[0m     self._service.start()\n",
      "\u001b[34m\u001b[1mwandb\u001b[0m: \u001b[32m\u001b[41mERROR\u001b[0m   File \"C:\\Users\\jespe\\AppData\\Local\\Packages\\PythonSoftwareFoundation.Python.3.9_qbz5n2kfra8p0\\LocalCache\\local-packages\\Python39\\site-packages\\wandb\\sdk\\service\\service.py\", line 250, in start\n",
      "\u001b[34m\u001b[1mwandb\u001b[0m: \u001b[32m\u001b[41mERROR\u001b[0m     self._launch_server()\n",
      "\u001b[34m\u001b[1mwandb\u001b[0m: \u001b[32m\u001b[41mERROR\u001b[0m   File \"C:\\Users\\jespe\\AppData\\Local\\Packages\\PythonSoftwareFoundation.Python.3.9_qbz5n2kfra8p0\\LocalCache\\local-packages\\Python39\\site-packages\\wandb\\sdk\\service\\service.py\", line 244, in _launch_server\n",
      "\u001b[34m\u001b[1mwandb\u001b[0m: \u001b[32m\u001b[41mERROR\u001b[0m     _sentry.reraise(e)\n",
      "\u001b[34m\u001b[1mwandb\u001b[0m: \u001b[32m\u001b[41mERROR\u001b[0m   File \"C:\\Users\\jespe\\AppData\\Local\\Packages\\PythonSoftwareFoundation.Python.3.9_qbz5n2kfra8p0\\LocalCache\\local-packages\\Python39\\site-packages\\wandb\\analytics\\sentry.py\", line 154, in reraise\n",
      "\u001b[34m\u001b[1mwandb\u001b[0m: \u001b[32m\u001b[41mERROR\u001b[0m     raise exc.with_traceback(sys.exc_info()[2])\n",
      "\u001b[34m\u001b[1mwandb\u001b[0m: \u001b[32m\u001b[41mERROR\u001b[0m   File \"C:\\Users\\jespe\\AppData\\Local\\Packages\\PythonSoftwareFoundation.Python.3.9_qbz5n2kfra8p0\\LocalCache\\local-packages\\Python39\\site-packages\\wandb\\sdk\\service\\service.py\", line 242, in _launch_server\n",
      "\u001b[34m\u001b[1mwandb\u001b[0m: \u001b[32m\u001b[41mERROR\u001b[0m     self._wait_for_ports(fname, proc=internal_proc)\n",
      "\u001b[34m\u001b[1mwandb\u001b[0m: \u001b[32m\u001b[41mERROR\u001b[0m   File \"C:\\Users\\jespe\\AppData\\Local\\Packages\\PythonSoftwareFoundation.Python.3.9_qbz5n2kfra8p0\\LocalCache\\local-packages\\Python39\\site-packages\\wandb\\sdk\\service\\service.py\", line 132, in _wait_for_ports\n",
      "\u001b[34m\u001b[1mwandb\u001b[0m: \u001b[32m\u001b[41mERROR\u001b[0m     raise ServiceStartTimeoutError(\n",
      "\u001b[34m\u001b[1mwandb\u001b[0m: \u001b[32m\u001b[41mERROR\u001b[0m wandb.sdk.service.service.ServiceStartTimeoutError: Timed out waiting for wandb service to start after 30.0 seconds. Try increasing the timeout with the `_service_wait` setting.\n",
      "\u001b[34m\u001b[1mwandb\u001b[0m: \u001b[32m\u001b[41mERROR\u001b[0m \n",
      "\u001b[34m\u001b[1mwandb\u001b[0m: Agent Starting Run: iwe21gn5 with config:\n",
      "\u001b[34m\u001b[1mwandb\u001b[0m: \tbatch_size: 164\n",
      "\u001b[34m\u001b[1mwandb\u001b[0m: \tbow: countVector\n",
      "\u001b[34m\u001b[1mwandb\u001b[0m: \thidden_size: 636\n",
      "\u001b[34m\u001b[1mwandb\u001b[0m: \tlearning_rate: 0.007893600686688193\n",
      "\u001b[34m\u001b[1mwandb\u001b[0m: \tnrows: 339\n",
      "\u001b[34m\u001b[1mwandb\u001b[0m: \tnum_epochs: 43\n",
      "\u001b[34m\u001b[1mwandb\u001b[0m: \tnum_layers: 1\n",
      "Failed to detect the name of this notebook, you can set it manually with the WANDB_NOTEBOOK_NAME environment variable to enable code saving.\n"
     ]
    },
    {
     "data": {
      "text/html": [
       "wandb version 0.16.6 is available!  To upgrade, please run:\n",
       " $ pip install wandb --upgrade"
      ],
      "text/plain": [
       "<IPython.core.display.HTML object>"
      ]
     },
     "metadata": {},
     "output_type": "display_data"
    },
    {
     "data": {
      "text/html": [
       "Tracking run with wandb version 0.16.4"
      ],
      "text/plain": [
       "<IPython.core.display.HTML object>"
      ]
     },
     "metadata": {},
     "output_type": "display_data"
    },
    {
     "data": {
      "text/html": [
       "Run data is saved locally in <code>c:\\Users\\jespe\\git\\550dat\\prosjekt\\wandb\\run-20240419_150011-iwe21gn5</code>"
      ],
      "text/plain": [
       "<IPython.core.display.HTML object>"
      ]
     },
     "metadata": {},
     "output_type": "display_data"
    },
    {
     "data": {
      "text/html": [
       "Syncing run <strong><a href='https://wandb.ai/jespermagnus/Epochs%20and%20You/runs/iwe21gn5' target=\"_blank\">polished-sweep-4</a></strong> to <a href='https://wandb.ai/jespermagnus/Epochs%20and%20You' target=\"_blank\">Weights & Biases</a> (<a href='https://wandb.me/run' target=\"_blank\">docs</a>)<br/>Sweep page: <a href='https://wandb.ai/jespermagnus/Epochs%20and%20You/sweeps/cxle7d20' target=\"_blank\">https://wandb.ai/jespermagnus/Epochs%20and%20You/sweeps/cxle7d20</a>"
      ],
      "text/plain": [
       "<IPython.core.display.HTML object>"
      ]
     },
     "metadata": {},
     "output_type": "display_data"
    },
    {
     "data": {
      "text/html": [
       " View project at <a href='https://wandb.ai/jespermagnus/Epochs%20and%20You' target=\"_blank\">https://wandb.ai/jespermagnus/Epochs%20and%20You</a>"
      ],
      "text/plain": [
       "<IPython.core.display.HTML object>"
      ]
     },
     "metadata": {},
     "output_type": "display_data"
    },
    {
     "data": {
      "text/html": [
       " View sweep at <a href='https://wandb.ai/jespermagnus/Epochs%20and%20You/sweeps/cxle7d20' target=\"_blank\">https://wandb.ai/jespermagnus/Epochs%20and%20You/sweeps/cxle7d20</a>"
      ],
      "text/plain": [
       "<IPython.core.display.HTML object>"
      ]
     },
     "metadata": {},
     "output_type": "display_data"
    },
    {
     "data": {
      "text/html": [
       " View run at <a href='https://wandb.ai/jespermagnus/Epochs%20and%20You/runs/iwe21gn5' target=\"_blank\">https://wandb.ai/jespermagnus/Epochs%20and%20You/runs/iwe21gn5</a>"
      ],
      "text/plain": [
       "<IPython.core.display.HTML object>"
      ]
     },
     "metadata": {},
     "output_type": "display_data"
    },
    {
     "data": {
      "text/html": [
       "<style>\n",
       "    table.wandb td:nth-child(1) { padding: 0 10px; text-align: left ; width: auto;} td:nth-child(2) {text-align: left ; width: 100%}\n",
       "    .wandb-row { display: flex; flex-direction: row; flex-wrap: wrap; justify-content: flex-start; width: 100% }\n",
       "    .wandb-col { display: flex; flex-direction: column; flex-basis: 100%; flex: 1; padding: 10px; }\n",
       "    </style>\n",
       "<div class=\"wandb-row\"><div class=\"wandb-col\"><h3>Run history:</h3><br/><table class=\"wandb\"><tr><td>Accuracy</td><td>▃▄▂▂▄▂▁▁▁▄▅▅▆▅▆█▇▇▇▆▇█▆▇▇▇▄▇▆▆▃▁▄▄▄▃▅▅▆▅</td></tr><tr><td>Macro-f1-score</td><td>▄▄▃▃▄▂▂▁▂▄▅▅▆▆▆█▇▇▇▆▇█▇▇▇▇▅▇▆▆▃▂▅▅▄▃▆▅▆▅</td></tr><tr><td>Precision</td><td>▄▄▃▂▄▃▂▁▃▆▆▅▇▆▆▇▇▇▇▆▇█▇▇█▆▆▇▇▇▄▃▅▆▆▅▇▇▇▆</td></tr><tr><td>Recall</td><td>▃▄▃▃▄▂▁▁▁▄▆▅▆▅▆█▇▇▇▇██▆▇▇▇▅▇▇▆▃▂▅▅▄▃▆▅▆▅</td></tr><tr><td>Test loss</td><td>▄▃▂▃▁█▅▅▄▄▅▂▄▆▄▅▄▆▂▁▅▄▂▃▄▄▄▄▅▄▄▄▄▁▆▄▂▅▄▅</td></tr><tr><td>Training loss</td><td>█▄▁▁▄▄▃▄▅▄▃▂▄▃▆▄▄▃▃▃▃▃▂▃▂▂▂▄▅▁▄▃▃▄▆▂▆▂▅▃</td></tr></table><br/></div><div class=\"wandb-col\"><h3>Run summary:</h3><br/><table class=\"wandb\"><tr><td>Accuracy</td><td>0.46903</td></tr><tr><td>Macro-f1-score</td><td>0.4442</td></tr><tr><td>Precision</td><td>0.49985</td></tr><tr><td>Recall</td><td>0.46073</td></tr><tr><td>Test loss</td><td>2.26822</td></tr><tr><td>Training loss</td><td>2.12239</td></tr></table><br/></div></div>"
      ],
      "text/plain": [
       "<IPython.core.display.HTML object>"
      ]
     },
     "metadata": {},
     "output_type": "display_data"
    },
    {
     "data": {
      "text/html": [
       " View run <strong style=\"color:#cdcd00\">polished-sweep-4</strong> at: <a href='https://wandb.ai/jespermagnus/Epochs%20and%20You/runs/iwe21gn5' target=\"_blank\">https://wandb.ai/jespermagnus/Epochs%20and%20You/runs/iwe21gn5</a><br/>Synced 4 W&B file(s), 0 media file(s), 0 artifact file(s) and 0 other file(s)"
      ],
      "text/plain": [
       "<IPython.core.display.HTML object>"
      ]
     },
     "metadata": {},
     "output_type": "display_data"
    },
    {
     "data": {
      "text/html": [
       "Find logs at: <code>.\\wandb\\run-20240419_150011-iwe21gn5\\logs</code>"
      ],
      "text/plain": [
       "<IPython.core.display.HTML object>"
      ]
     },
     "metadata": {},
     "output_type": "display_data"
    },
    {
     "name": "stderr",
     "output_type": "stream",
     "text": [
      "\u001b[34m\u001b[1mwandb\u001b[0m: Agent Starting Run: tu61nm5f with config:\n",
      "\u001b[34m\u001b[1mwandb\u001b[0m: \tbatch_size: 85\n",
      "\u001b[34m\u001b[1mwandb\u001b[0m: \tbow: countVector\n",
      "\u001b[34m\u001b[1mwandb\u001b[0m: \thidden_size: 541\n",
      "\u001b[34m\u001b[1mwandb\u001b[0m: \tlearning_rate: 0.008416324837240126\n",
      "\u001b[34m\u001b[1mwandb\u001b[0m: \tnrows: 377\n",
      "\u001b[34m\u001b[1mwandb\u001b[0m: \tnum_epochs: 37\n",
      "\u001b[34m\u001b[1mwandb\u001b[0m: \tnum_layers: 1\n",
      "Failed to detect the name of this notebook, you can set it manually with the WANDB_NOTEBOOK_NAME environment variable to enable code saving.\n"
     ]
    },
    {
     "data": {
      "text/html": [
       "wandb version 0.16.6 is available!  To upgrade, please run:\n",
       " $ pip install wandb --upgrade"
      ],
      "text/plain": [
       "<IPython.core.display.HTML object>"
      ]
     },
     "metadata": {},
     "output_type": "display_data"
    },
    {
     "data": {
      "text/html": [
       "Tracking run with wandb version 0.16.4"
      ],
      "text/plain": [
       "<IPython.core.display.HTML object>"
      ]
     },
     "metadata": {},
     "output_type": "display_data"
    },
    {
     "data": {
      "text/html": [
       "Run data is saved locally in <code>c:\\Users\\jespe\\git\\550dat\\prosjekt\\wandb\\run-20240419_150412-tu61nm5f</code>"
      ],
      "text/plain": [
       "<IPython.core.display.HTML object>"
      ]
     },
     "metadata": {},
     "output_type": "display_data"
    },
    {
     "data": {
      "text/html": [
       "Syncing run <strong><a href='https://wandb.ai/jespermagnus/Epochs%20and%20You/runs/tu61nm5f' target=\"_blank\">denim-sweep-5</a></strong> to <a href='https://wandb.ai/jespermagnus/Epochs%20and%20You' target=\"_blank\">Weights & Biases</a> (<a href='https://wandb.me/run' target=\"_blank\">docs</a>)<br/>Sweep page: <a href='https://wandb.ai/jespermagnus/Epochs%20and%20You/sweeps/cxle7d20' target=\"_blank\">https://wandb.ai/jespermagnus/Epochs%20and%20You/sweeps/cxle7d20</a>"
      ],
      "text/plain": [
       "<IPython.core.display.HTML object>"
      ]
     },
     "metadata": {},
     "output_type": "display_data"
    },
    {
     "data": {
      "text/html": [
       " View project at <a href='https://wandb.ai/jespermagnus/Epochs%20and%20You' target=\"_blank\">https://wandb.ai/jespermagnus/Epochs%20and%20You</a>"
      ],
      "text/plain": [
       "<IPython.core.display.HTML object>"
      ]
     },
     "metadata": {},
     "output_type": "display_data"
    },
    {
     "data": {
      "text/html": [
       " View sweep at <a href='https://wandb.ai/jespermagnus/Epochs%20and%20You/sweeps/cxle7d20' target=\"_blank\">https://wandb.ai/jespermagnus/Epochs%20and%20You/sweeps/cxle7d20</a>"
      ],
      "text/plain": [
       "<IPython.core.display.HTML object>"
      ]
     },
     "metadata": {},
     "output_type": "display_data"
    },
    {
     "data": {
      "text/html": [
       " View run at <a href='https://wandb.ai/jespermagnus/Epochs%20and%20You/runs/tu61nm5f' target=\"_blank\">https://wandb.ai/jespermagnus/Epochs%20and%20You/runs/tu61nm5f</a>"
      ],
      "text/plain": [
       "<IPython.core.display.HTML object>"
      ]
     },
     "metadata": {},
     "output_type": "display_data"
    },
    {
     "data": {
      "text/html": [
       "<style>\n",
       "    table.wandb td:nth-child(1) { padding: 0 10px; text-align: left ; width: auto;} td:nth-child(2) {text-align: left ; width: 100%}\n",
       "    .wandb-row { display: flex; flex-direction: row; flex-wrap: wrap; justify-content: flex-start; width: 100% }\n",
       "    .wandb-col { display: flex; flex-direction: column; flex-basis: 100%; flex: 1; padding: 10px; }\n",
       "    </style>\n",
       "<div class=\"wandb-row\"><div class=\"wandb-col\"><h3>Run history:</h3><br/><table class=\"wandb\"><tr><td>Accuracy</td><td>▂▂▅▃▁▂▅▄▅▆▇▇▅▅▅▇▄▇▆▆▇▆▆▅█▄▅▇█▅▄▆▆▇▅▆▇</td></tr><tr><td>Macro-f1-score</td><td>▂▃▄▃▁▂▅▄▄▇▆▆▅▅▆▆▅▆▆▆▆▆▆▆█▄▅▇█▅▄▆▆█▅▆▆</td></tr><tr><td>Precision</td><td>▃▃▅▃▁▃▄▄▄▆▅▅▅▄▅▅▄▆▆▅▅▆▇▇█▅▅▇▇▅▅▆▅█▅▅▅</td></tr><tr><td>Recall</td><td>▃▃▅▃▁▃▅▄▅▆▆▆▅▅▆▆▅▇▇▆▇▆▆▆▇▄▅▇█▅▄▆▆█▄▆▇</td></tr><tr><td>Test loss</td><td>█▅▃▃▅▄▆▅▆▄▆▄▄▅▄▁▃▆▃▄▆▄▃▁▂▃▃▃▃▃▄▅▄▂▄▂▄</td></tr><tr><td>Training loss</td><td>█▃▁▂▁▂▁▁▁▁▁▁▁▁▁▁▂▁▁▁▁▁▁▁▁▁▁▁▁▁▂▁▁▁▁▁▁</td></tr></table><br/></div><div class=\"wandb-col\"><h3>Run summary:</h3><br/><table class=\"wandb\"><tr><td>Accuracy</td><td>0.53581</td></tr><tr><td>Macro-f1-score</td><td>0.52631</td></tr><tr><td>Precision</td><td>0.54394</td></tr><tr><td>Recall</td><td>0.53092</td></tr><tr><td>Test loss</td><td>2.24059</td></tr><tr><td>Training loss</td><td>2.17401</td></tr></table><br/></div></div>"
      ],
      "text/plain": [
       "<IPython.core.display.HTML object>"
      ]
     },
     "metadata": {},
     "output_type": "display_data"
    },
    {
     "data": {
      "text/html": [
       " View run <strong style=\"color:#cdcd00\">denim-sweep-5</strong> at: <a href='https://wandb.ai/jespermagnus/Epochs%20and%20You/runs/tu61nm5f' target=\"_blank\">https://wandb.ai/jespermagnus/Epochs%20and%20You/runs/tu61nm5f</a><br/>Synced 4 W&B file(s), 0 media file(s), 0 artifact file(s) and 0 other file(s)"
      ],
      "text/plain": [
       "<IPython.core.display.HTML object>"
      ]
     },
     "metadata": {},
     "output_type": "display_data"
    },
    {
     "data": {
      "text/html": [
       "Find logs at: <code>.\\wandb\\run-20240419_150412-tu61nm5f\\logs</code>"
      ],
      "text/plain": [
       "<IPython.core.display.HTML object>"
      ]
     },
     "metadata": {},
     "output_type": "display_data"
    },
    {
     "name": "stderr",
     "output_type": "stream",
     "text": [
      "\u001b[34m\u001b[1mwandb\u001b[0m: Sweep Agent: Waiting for job.\n",
      "\u001b[34m\u001b[1mwandb\u001b[0m: Job received.\n",
      "\u001b[34m\u001b[1mwandb\u001b[0m: Agent Starting Run: fyfes9pl with config:\n",
      "\u001b[34m\u001b[1mwandb\u001b[0m: \tbatch_size: 114\n",
      "\u001b[34m\u001b[1mwandb\u001b[0m: \tbow: tf_idf\n",
      "\u001b[34m\u001b[1mwandb\u001b[0m: \thidden_size: 100\n",
      "\u001b[34m\u001b[1mwandb\u001b[0m: \tlearning_rate: 0.009725182731641076\n",
      "\u001b[34m\u001b[1mwandb\u001b[0m: \tnrows: 390\n",
      "\u001b[34m\u001b[1mwandb\u001b[0m: \tnum_epochs: 54\n",
      "\u001b[34m\u001b[1mwandb\u001b[0m: \tnum_layers: 2\n",
      "Failed to detect the name of this notebook, you can set it manually with the WANDB_NOTEBOOK_NAME environment variable to enable code saving.\n",
      "Timed out waiting for wandb service to start after 30.0 seconds. Try increasing the timeout with the `_service_wait` setting.\n",
      "Traceback (most recent call last):\n",
      "  File \"C:\\Users\\jespe\\AppData\\Local\\Packages\\PythonSoftwareFoundation.Python.3.9_qbz5n2kfra8p0\\LocalCache\\local-packages\\Python39\\site-packages\\wandb\\sdk\\wandb_init.py\", line 1172, in init\n",
      "    wi.setup(kwargs)\n",
      "  File \"C:\\Users\\jespe\\AppData\\Local\\Packages\\PythonSoftwareFoundation.Python.3.9_qbz5n2kfra8p0\\LocalCache\\local-packages\\Python39\\site-packages\\wandb\\sdk\\wandb_init.py\", line 189, in setup\n",
      "    self._wl = wandb_setup.setup(settings=setup_settings)\n",
      "  File \"C:\\Users\\jespe\\AppData\\Local\\Packages\\PythonSoftwareFoundation.Python.3.9_qbz5n2kfra8p0\\LocalCache\\local-packages\\Python39\\site-packages\\wandb\\sdk\\wandb_setup.py\", line 327, in setup\n",
      "    ret = _setup(settings=settings)\n",
      "  File \"C:\\Users\\jespe\\AppData\\Local\\Packages\\PythonSoftwareFoundation.Python.3.9_qbz5n2kfra8p0\\LocalCache\\local-packages\\Python39\\site-packages\\wandb\\sdk\\wandb_setup.py\", line 320, in _setup\n",
      "    wl = _WandbSetup(settings=settings)\n",
      "  File \"C:\\Users\\jespe\\AppData\\Local\\Packages\\PythonSoftwareFoundation.Python.3.9_qbz5n2kfra8p0\\LocalCache\\local-packages\\Python39\\site-packages\\wandb\\sdk\\wandb_setup.py\", line 303, in __init__\n",
      "    _WandbSetup._instance = _WandbSetup__WandbSetup(settings=settings, pid=pid)\n",
      "  File \"C:\\Users\\jespe\\AppData\\Local\\Packages\\PythonSoftwareFoundation.Python.3.9_qbz5n2kfra8p0\\LocalCache\\local-packages\\Python39\\site-packages\\wandb\\sdk\\wandb_setup.py\", line 114, in __init__\n",
      "    self._setup()\n",
      "  File \"C:\\Users\\jespe\\AppData\\Local\\Packages\\PythonSoftwareFoundation.Python.3.9_qbz5n2kfra8p0\\LocalCache\\local-packages\\Python39\\site-packages\\wandb\\sdk\\wandb_setup.py\", line 250, in _setup\n",
      "    self._setup_manager()\n",
      "  File \"C:\\Users\\jespe\\AppData\\Local\\Packages\\PythonSoftwareFoundation.Python.3.9_qbz5n2kfra8p0\\LocalCache\\local-packages\\Python39\\site-packages\\wandb\\sdk\\wandb_setup.py\", line 277, in _setup_manager\n",
      "    self._manager = wandb_manager._Manager(settings=self._settings)\n",
      "  File \"C:\\Users\\jespe\\AppData\\Local\\Packages\\PythonSoftwareFoundation.Python.3.9_qbz5n2kfra8p0\\LocalCache\\local-packages\\Python39\\site-packages\\wandb\\sdk\\wandb_manager.py\", line 139, in __init__\n",
      "    self._service.start()\n",
      "  File \"C:\\Users\\jespe\\AppData\\Local\\Packages\\PythonSoftwareFoundation.Python.3.9_qbz5n2kfra8p0\\LocalCache\\local-packages\\Python39\\site-packages\\wandb\\sdk\\service\\service.py\", line 250, in start\n",
      "    self._launch_server()\n",
      "  File \"C:\\Users\\jespe\\AppData\\Local\\Packages\\PythonSoftwareFoundation.Python.3.9_qbz5n2kfra8p0\\LocalCache\\local-packages\\Python39\\site-packages\\wandb\\sdk\\service\\service.py\", line 244, in _launch_server\n",
      "    _sentry.reraise(e)\n",
      "  File \"C:\\Users\\jespe\\AppData\\Local\\Packages\\PythonSoftwareFoundation.Python.3.9_qbz5n2kfra8p0\\LocalCache\\local-packages\\Python39\\site-packages\\wandb\\analytics\\sentry.py\", line 154, in reraise\n",
      "    raise exc.with_traceback(sys.exc_info()[2])\n",
      "  File \"C:\\Users\\jespe\\AppData\\Local\\Packages\\PythonSoftwareFoundation.Python.3.9_qbz5n2kfra8p0\\LocalCache\\local-packages\\Python39\\site-packages\\wandb\\sdk\\service\\service.py\", line 242, in _launch_server\n",
      "    self._wait_for_ports(fname, proc=internal_proc)\n",
      "  File \"C:\\Users\\jespe\\AppData\\Local\\Packages\\PythonSoftwareFoundation.Python.3.9_qbz5n2kfra8p0\\LocalCache\\local-packages\\Python39\\site-packages\\wandb\\sdk\\service\\service.py\", line 132, in _wait_for_ports\n",
      "    raise ServiceStartTimeoutError(\n",
      "wandb.sdk.service.service.ServiceStartTimeoutError: Timed out waiting for wandb service to start after 30.0 seconds. Try increasing the timeout with the `_service_wait` setting.\n",
      "Run fyfes9pl errored:\n",
      "Traceback (most recent call last):\n",
      "  File \"C:\\Users\\jespe\\AppData\\Local\\Packages\\PythonSoftwareFoundation.Python.3.9_qbz5n2kfra8p0\\LocalCache\\local-packages\\Python39\\site-packages\\wandb\\agents\\pyagent.py\", line 308, in _run_job\n",
      "    self._function()\n",
      "  File \"C:\\Users\\jespe\\AppData\\Local\\Temp\\ipykernel_11472\\942634981.py\", line 19, in sweep\n",
      "    with wandb.init(config=config):\n",
      "  File \"C:\\Users\\jespe\\AppData\\Local\\Packages\\PythonSoftwareFoundation.Python.3.9_qbz5n2kfra8p0\\LocalCache\\local-packages\\Python39\\site-packages\\wandb\\sdk\\wandb_init.py\", line 1195, in init\n",
      "    raise e\n",
      "  File \"C:\\Users\\jespe\\AppData\\Local\\Packages\\PythonSoftwareFoundation.Python.3.9_qbz5n2kfra8p0\\LocalCache\\local-packages\\Python39\\site-packages\\wandb\\sdk\\wandb_init.py\", line 1172, in init\n",
      "    wi.setup(kwargs)\n",
      "  File \"C:\\Users\\jespe\\AppData\\Local\\Packages\\PythonSoftwareFoundation.Python.3.9_qbz5n2kfra8p0\\LocalCache\\local-packages\\Python39\\site-packages\\wandb\\sdk\\wandb_init.py\", line 189, in setup\n",
      "    self._wl = wandb_setup.setup(settings=setup_settings)\n",
      "  File \"C:\\Users\\jespe\\AppData\\Local\\Packages\\PythonSoftwareFoundation.Python.3.9_qbz5n2kfra8p0\\LocalCache\\local-packages\\Python39\\site-packages\\wandb\\sdk\\wandb_setup.py\", line 327, in setup\n",
      "    ret = _setup(settings=settings)\n",
      "  File \"C:\\Users\\jespe\\AppData\\Local\\Packages\\PythonSoftwareFoundation.Python.3.9_qbz5n2kfra8p0\\LocalCache\\local-packages\\Python39\\site-packages\\wandb\\sdk\\wandb_setup.py\", line 320, in _setup\n",
      "    wl = _WandbSetup(settings=settings)\n",
      "  File \"C:\\Users\\jespe\\AppData\\Local\\Packages\\PythonSoftwareFoundation.Python.3.9_qbz5n2kfra8p0\\LocalCache\\local-packages\\Python39\\site-packages\\wandb\\sdk\\wandb_setup.py\", line 303, in __init__\n",
      "    _WandbSetup._instance = _WandbSetup__WandbSetup(settings=settings, pid=pid)\n",
      "  File \"C:\\Users\\jespe\\AppData\\Local\\Packages\\PythonSoftwareFoundation.Python.3.9_qbz5n2kfra8p0\\LocalCache\\local-packages\\Python39\\site-packages\\wandb\\sdk\\wandb_setup.py\", line 114, in __init__\n",
      "    self._setup()\n",
      "  File \"C:\\Users\\jespe\\AppData\\Local\\Packages\\PythonSoftwareFoundation.Python.3.9_qbz5n2kfra8p0\\LocalCache\\local-packages\\Python39\\site-packages\\wandb\\sdk\\wandb_setup.py\", line 250, in _setup\n",
      "    self._setup_manager()\n",
      "  File \"C:\\Users\\jespe\\AppData\\Local\\Packages\\PythonSoftwareFoundation.Python.3.9_qbz5n2kfra8p0\\LocalCache\\local-packages\\Python39\\site-packages\\wandb\\sdk\\wandb_setup.py\", line 277, in _setup_manager\n",
      "    self._manager = wandb_manager._Manager(settings=self._settings)\n",
      "  File \"C:\\Users\\jespe\\AppData\\Local\\Packages\\PythonSoftwareFoundation.Python.3.9_qbz5n2kfra8p0\\LocalCache\\local-packages\\Python39\\site-packages\\wandb\\sdk\\wandb_manager.py\", line 139, in __init__\n",
      "    self._service.start()\n",
      "  File \"C:\\Users\\jespe\\AppData\\Local\\Packages\\PythonSoftwareFoundation.Python.3.9_qbz5n2kfra8p0\\LocalCache\\local-packages\\Python39\\site-packages\\wandb\\sdk\\service\\service.py\", line 250, in start\n",
      "    self._launch_server()\n",
      "  File \"C:\\Users\\jespe\\AppData\\Local\\Packages\\PythonSoftwareFoundation.Python.3.9_qbz5n2kfra8p0\\LocalCache\\local-packages\\Python39\\site-packages\\wandb\\sdk\\service\\service.py\", line 244, in _launch_server\n",
      "    _sentry.reraise(e)\n",
      "  File \"C:\\Users\\jespe\\AppData\\Local\\Packages\\PythonSoftwareFoundation.Python.3.9_qbz5n2kfra8p0\\LocalCache\\local-packages\\Python39\\site-packages\\wandb\\analytics\\sentry.py\", line 154, in reraise\n",
      "    raise exc.with_traceback(sys.exc_info()[2])\n",
      "  File \"C:\\Users\\jespe\\AppData\\Local\\Packages\\PythonSoftwareFoundation.Python.3.9_qbz5n2kfra8p0\\LocalCache\\local-packages\\Python39\\site-packages\\wandb\\sdk\\service\\service.py\", line 242, in _launch_server\n",
      "    self._wait_for_ports(fname, proc=internal_proc)\n",
      "  File \"C:\\Users\\jespe\\AppData\\Local\\Packages\\PythonSoftwareFoundation.Python.3.9_qbz5n2kfra8p0\\LocalCache\\local-packages\\Python39\\site-packages\\wandb\\sdk\\service\\service.py\", line 132, in _wait_for_ports\n",
      "    raise ServiceStartTimeoutError(\n",
      "wandb.sdk.service.service.ServiceStartTimeoutError: Timed out waiting for wandb service to start after 30.0 seconds. Try increasing the timeout with the `_service_wait` setting.\n",
      "\n",
      "\u001b[34m\u001b[1mwandb\u001b[0m: \u001b[32m\u001b[41mERROR\u001b[0m Run fyfes9pl errored:\n",
      "\u001b[34m\u001b[1mwandb\u001b[0m: \u001b[32m\u001b[41mERROR\u001b[0m Traceback (most recent call last):\n",
      "\u001b[34m\u001b[1mwandb\u001b[0m: \u001b[32m\u001b[41mERROR\u001b[0m   File \"C:\\Users\\jespe\\AppData\\Local\\Packages\\PythonSoftwareFoundation.Python.3.9_qbz5n2kfra8p0\\LocalCache\\local-packages\\Python39\\site-packages\\wandb\\agents\\pyagent.py\", line 308, in _run_job\n",
      "\u001b[34m\u001b[1mwandb\u001b[0m: \u001b[32m\u001b[41mERROR\u001b[0m     self._function()\n",
      "\u001b[34m\u001b[1mwandb\u001b[0m: \u001b[32m\u001b[41mERROR\u001b[0m   File \"C:\\Users\\jespe\\AppData\\Local\\Temp\\ipykernel_11472\\942634981.py\", line 19, in sweep\n",
      "\u001b[34m\u001b[1mwandb\u001b[0m: \u001b[32m\u001b[41mERROR\u001b[0m     with wandb.init(config=config):\n",
      "\u001b[34m\u001b[1mwandb\u001b[0m: \u001b[32m\u001b[41mERROR\u001b[0m   File \"C:\\Users\\jespe\\AppData\\Local\\Packages\\PythonSoftwareFoundation.Python.3.9_qbz5n2kfra8p0\\LocalCache\\local-packages\\Python39\\site-packages\\wandb\\sdk\\wandb_init.py\", line 1195, in init\n",
      "\u001b[34m\u001b[1mwandb\u001b[0m: \u001b[32m\u001b[41mERROR\u001b[0m     raise e\n",
      "\u001b[34m\u001b[1mwandb\u001b[0m: \u001b[32m\u001b[41mERROR\u001b[0m   File \"C:\\Users\\jespe\\AppData\\Local\\Packages\\PythonSoftwareFoundation.Python.3.9_qbz5n2kfra8p0\\LocalCache\\local-packages\\Python39\\site-packages\\wandb\\sdk\\wandb_init.py\", line 1172, in init\n",
      "\u001b[34m\u001b[1mwandb\u001b[0m: \u001b[32m\u001b[41mERROR\u001b[0m     wi.setup(kwargs)\n",
      "\u001b[34m\u001b[1mwandb\u001b[0m: \u001b[32m\u001b[41mERROR\u001b[0m   File \"C:\\Users\\jespe\\AppData\\Local\\Packages\\PythonSoftwareFoundation.Python.3.9_qbz5n2kfra8p0\\LocalCache\\local-packages\\Python39\\site-packages\\wandb\\sdk\\wandb_init.py\", line 189, in setup\n",
      "\u001b[34m\u001b[1mwandb\u001b[0m: \u001b[32m\u001b[41mERROR\u001b[0m     self._wl = wandb_setup.setup(settings=setup_settings)\n",
      "\u001b[34m\u001b[1mwandb\u001b[0m: \u001b[32m\u001b[41mERROR\u001b[0m   File \"C:\\Users\\jespe\\AppData\\Local\\Packages\\PythonSoftwareFoundation.Python.3.9_qbz5n2kfra8p0\\LocalCache\\local-packages\\Python39\\site-packages\\wandb\\sdk\\wandb_setup.py\", line 327, in setup\n",
      "\u001b[34m\u001b[1mwandb\u001b[0m: \u001b[32m\u001b[41mERROR\u001b[0m     ret = _setup(settings=settings)\n",
      "\u001b[34m\u001b[1mwandb\u001b[0m: \u001b[32m\u001b[41mERROR\u001b[0m   File \"C:\\Users\\jespe\\AppData\\Local\\Packages\\PythonSoftwareFoundation.Python.3.9_qbz5n2kfra8p0\\LocalCache\\local-packages\\Python39\\site-packages\\wandb\\sdk\\wandb_setup.py\", line 320, in _setup\n",
      "\u001b[34m\u001b[1mwandb\u001b[0m: \u001b[32m\u001b[41mERROR\u001b[0m     wl = _WandbSetup(settings=settings)\n",
      "\u001b[34m\u001b[1mwandb\u001b[0m: \u001b[32m\u001b[41mERROR\u001b[0m   File \"C:\\Users\\jespe\\AppData\\Local\\Packages\\PythonSoftwareFoundation.Python.3.9_qbz5n2kfra8p0\\LocalCache\\local-packages\\Python39\\site-packages\\wandb\\sdk\\wandb_setup.py\", line 303, in __init__\n",
      "\u001b[34m\u001b[1mwandb\u001b[0m: \u001b[32m\u001b[41mERROR\u001b[0m     _WandbSetup._instance = _WandbSetup__WandbSetup(settings=settings, pid=pid)\n",
      "\u001b[34m\u001b[1mwandb\u001b[0m: \u001b[32m\u001b[41mERROR\u001b[0m   File \"C:\\Users\\jespe\\AppData\\Local\\Packages\\PythonSoftwareFoundation.Python.3.9_qbz5n2kfra8p0\\LocalCache\\local-packages\\Python39\\site-packages\\wandb\\sdk\\wandb_setup.py\", line 114, in __init__\n",
      "\u001b[34m\u001b[1mwandb\u001b[0m: \u001b[32m\u001b[41mERROR\u001b[0m     self._setup()\n",
      "\u001b[34m\u001b[1mwandb\u001b[0m: \u001b[32m\u001b[41mERROR\u001b[0m   File \"C:\\Users\\jespe\\AppData\\Local\\Packages\\PythonSoftwareFoundation.Python.3.9_qbz5n2kfra8p0\\LocalCache\\local-packages\\Python39\\site-packages\\wandb\\sdk\\wandb_setup.py\", line 250, in _setup\n",
      "\u001b[34m\u001b[1mwandb\u001b[0m: \u001b[32m\u001b[41mERROR\u001b[0m     self._setup_manager()\n",
      "\u001b[34m\u001b[1mwandb\u001b[0m: \u001b[32m\u001b[41mERROR\u001b[0m   File \"C:\\Users\\jespe\\AppData\\Local\\Packages\\PythonSoftwareFoundation.Python.3.9_qbz5n2kfra8p0\\LocalCache\\local-packages\\Python39\\site-packages\\wandb\\sdk\\wandb_setup.py\", line 277, in _setup_manager\n",
      "\u001b[34m\u001b[1mwandb\u001b[0m: \u001b[32m\u001b[41mERROR\u001b[0m     self._manager = wandb_manager._Manager(settings=self._settings)\n",
      "\u001b[34m\u001b[1mwandb\u001b[0m: \u001b[32m\u001b[41mERROR\u001b[0m   File \"C:\\Users\\jespe\\AppData\\Local\\Packages\\PythonSoftwareFoundation.Python.3.9_qbz5n2kfra8p0\\LocalCache\\local-packages\\Python39\\site-packages\\wandb\\sdk\\wandb_manager.py\", line 139, in __init__\n",
      "\u001b[34m\u001b[1mwandb\u001b[0m: \u001b[32m\u001b[41mERROR\u001b[0m     self._service.start()\n",
      "\u001b[34m\u001b[1mwandb\u001b[0m: \u001b[32m\u001b[41mERROR\u001b[0m   File \"C:\\Users\\jespe\\AppData\\Local\\Packages\\PythonSoftwareFoundation.Python.3.9_qbz5n2kfra8p0\\LocalCache\\local-packages\\Python39\\site-packages\\wandb\\sdk\\service\\service.py\", line 250, in start\n",
      "\u001b[34m\u001b[1mwandb\u001b[0m: \u001b[32m\u001b[41mERROR\u001b[0m     self._launch_server()\n",
      "\u001b[34m\u001b[1mwandb\u001b[0m: \u001b[32m\u001b[41mERROR\u001b[0m   File \"C:\\Users\\jespe\\AppData\\Local\\Packages\\PythonSoftwareFoundation.Python.3.9_qbz5n2kfra8p0\\LocalCache\\local-packages\\Python39\\site-packages\\wandb\\sdk\\service\\service.py\", line 244, in _launch_server\n",
      "\u001b[34m\u001b[1mwandb\u001b[0m: \u001b[32m\u001b[41mERROR\u001b[0m     _sentry.reraise(e)\n",
      "\u001b[34m\u001b[1mwandb\u001b[0m: \u001b[32m\u001b[41mERROR\u001b[0m   File \"C:\\Users\\jespe\\AppData\\Local\\Packages\\PythonSoftwareFoundation.Python.3.9_qbz5n2kfra8p0\\LocalCache\\local-packages\\Python39\\site-packages\\wandb\\analytics\\sentry.py\", line 154, in reraise\n",
      "\u001b[34m\u001b[1mwandb\u001b[0m: \u001b[32m\u001b[41mERROR\u001b[0m     raise exc.with_traceback(sys.exc_info()[2])\n",
      "\u001b[34m\u001b[1mwandb\u001b[0m: \u001b[32m\u001b[41mERROR\u001b[0m   File \"C:\\Users\\jespe\\AppData\\Local\\Packages\\PythonSoftwareFoundation.Python.3.9_qbz5n2kfra8p0\\LocalCache\\local-packages\\Python39\\site-packages\\wandb\\sdk\\service\\service.py\", line 242, in _launch_server\n",
      "\u001b[34m\u001b[1mwandb\u001b[0m: \u001b[32m\u001b[41mERROR\u001b[0m     self._wait_for_ports(fname, proc=internal_proc)\n",
      "\u001b[34m\u001b[1mwandb\u001b[0m: \u001b[32m\u001b[41mERROR\u001b[0m   File \"C:\\Users\\jespe\\AppData\\Local\\Packages\\PythonSoftwareFoundation.Python.3.9_qbz5n2kfra8p0\\LocalCache\\local-packages\\Python39\\site-packages\\wandb\\sdk\\service\\service.py\", line 132, in _wait_for_ports\n",
      "\u001b[34m\u001b[1mwandb\u001b[0m: \u001b[32m\u001b[41mERROR\u001b[0m     raise ServiceStartTimeoutError(\n",
      "\u001b[34m\u001b[1mwandb\u001b[0m: \u001b[32m\u001b[41mERROR\u001b[0m wandb.sdk.service.service.ServiceStartTimeoutError: Timed out waiting for wandb service to start after 30.0 seconds. Try increasing the timeout with the `_service_wait` setting.\n",
      "\u001b[34m\u001b[1mwandb\u001b[0m: \u001b[32m\u001b[41mERROR\u001b[0m \n",
      "\u001b[34m\u001b[1mwandb\u001b[0m: Sweep Agent: Waiting for job.\n",
      "\u001b[34m\u001b[1mwandb\u001b[0m: Job received.\n",
      "\u001b[34m\u001b[1mwandb\u001b[0m: Agent Starting Run: 99j5n44l with config:\n",
      "\u001b[34m\u001b[1mwandb\u001b[0m: \tbatch_size: 146\n",
      "\u001b[34m\u001b[1mwandb\u001b[0m: \tbow: countVector\n",
      "\u001b[34m\u001b[1mwandb\u001b[0m: \thidden_size: 478\n",
      "\u001b[34m\u001b[1mwandb\u001b[0m: \tlearning_rate: 0.003578058678668507\n",
      "\u001b[34m\u001b[1mwandb\u001b[0m: \tnrows: 576\n",
      "\u001b[34m\u001b[1mwandb\u001b[0m: \tnum_epochs: 19\n",
      "\u001b[34m\u001b[1mwandb\u001b[0m: \tnum_layers: 2\n",
      "Failed to detect the name of this notebook, you can set it manually with the WANDB_NOTEBOOK_NAME environment variable to enable code saving.\n"
     ]
    },
    {
     "data": {
      "text/html": [
       "wandb version 0.16.6 is available!  To upgrade, please run:\n",
       " $ pip install wandb --upgrade"
      ],
      "text/plain": [
       "<IPython.core.display.HTML object>"
      ]
     },
     "metadata": {},
     "output_type": "display_data"
    },
    {
     "data": {
      "text/html": [
       "Tracking run with wandb version 0.16.4"
      ],
      "text/plain": [
       "<IPython.core.display.HTML object>"
      ]
     },
     "metadata": {},
     "output_type": "display_data"
    },
    {
     "data": {
      "text/html": [
       "Run data is saved locally in <code>c:\\Users\\jespe\\git\\550dat\\prosjekt\\wandb\\run-20240419_150812-99j5n44l</code>"
      ],
      "text/plain": [
       "<IPython.core.display.HTML object>"
      ]
     },
     "metadata": {},
     "output_type": "display_data"
    },
    {
     "data": {
      "text/html": [
       "Syncing run <strong><a href='https://wandb.ai/jespermagnus/Epochs%20and%20You/runs/99j5n44l' target=\"_blank\">kind-sweep-7</a></strong> to <a href='https://wandb.ai/jespermagnus/Epochs%20and%20You' target=\"_blank\">Weights & Biases</a> (<a href='https://wandb.me/run' target=\"_blank\">docs</a>)<br/>Sweep page: <a href='https://wandb.ai/jespermagnus/Epochs%20and%20You/sweeps/cxle7d20' target=\"_blank\">https://wandb.ai/jespermagnus/Epochs%20and%20You/sweeps/cxle7d20</a>"
      ],
      "text/plain": [
       "<IPython.core.display.HTML object>"
      ]
     },
     "metadata": {},
     "output_type": "display_data"
    },
    {
     "data": {
      "text/html": [
       " View project at <a href='https://wandb.ai/jespermagnus/Epochs%20and%20You' target=\"_blank\">https://wandb.ai/jespermagnus/Epochs%20and%20You</a>"
      ],
      "text/plain": [
       "<IPython.core.display.HTML object>"
      ]
     },
     "metadata": {},
     "output_type": "display_data"
    },
    {
     "data": {
      "text/html": [
       " View sweep at <a href='https://wandb.ai/jespermagnus/Epochs%20and%20You/sweeps/cxle7d20' target=\"_blank\">https://wandb.ai/jespermagnus/Epochs%20and%20You/sweeps/cxle7d20</a>"
      ],
      "text/plain": [
       "<IPython.core.display.HTML object>"
      ]
     },
     "metadata": {},
     "output_type": "display_data"
    },
    {
     "data": {
      "text/html": [
       " View run at <a href='https://wandb.ai/jespermagnus/Epochs%20and%20You/runs/99j5n44l' target=\"_blank\">https://wandb.ai/jespermagnus/Epochs%20and%20You/runs/99j5n44l</a>"
      ],
      "text/plain": [
       "<IPython.core.display.HTML object>"
      ]
     },
     "metadata": {},
     "output_type": "display_data"
    },
    {
     "data": {
      "text/html": [
       "<style>\n",
       "    table.wandb td:nth-child(1) { padding: 0 10px; text-align: left ; width: auto;} td:nth-child(2) {text-align: left ; width: 100%}\n",
       "    .wandb-row { display: flex; flex-direction: row; flex-wrap: wrap; justify-content: flex-start; width: 100% }\n",
       "    .wandb-col { display: flex; flex-direction: column; flex-basis: 100%; flex: 1; padding: 10px; }\n",
       "    </style>\n",
       "<div class=\"wandb-row\"><div class=\"wandb-col\"><h3>Run history:</h3><br/><table class=\"wandb\"><tr><td>Accuracy</td><td>▁▄▅▄▄▄▅▅▅▅▄▄▅▅█▇▇█▇</td></tr><tr><td>Macro-f1-score</td><td>▁▄▅▄▄▃▅▄▅▅▄▄▄▅▇▇▇█▇</td></tr><tr><td>Precision</td><td>▁▄▅▃▄▄▅▄▅▅▄▄▄▅▇▇▇█▇</td></tr><tr><td>Recall</td><td>▁▄▅▄▄▃▅▅▅▅▄▄▄▅█▇▇█▇</td></tr><tr><td>Test loss</td><td>█▅▄▂▂▂▁▃▂▂▂▂▂▃▂▁▂▂▁</td></tr><tr><td>Training loss</td><td>█▄▁▁▁▁▁▁▁▁▁▁▁▁▁▁▁▁▁</td></tr></table><br/></div><div class=\"wandb-col\"><h3>Run summary:</h3><br/><table class=\"wandb\"><tr><td>Accuracy</td><td>0.52778</td></tr><tr><td>Macro-f1-score</td><td>0.53066</td></tr><tr><td>Precision</td><td>0.56981</td></tr><tr><td>Recall</td><td>0.52587</td></tr><tr><td>Test loss</td><td>2.25322</td></tr><tr><td>Training loss</td><td>2.24121</td></tr></table><br/></div></div>"
      ],
      "text/plain": [
       "<IPython.core.display.HTML object>"
      ]
     },
     "metadata": {},
     "output_type": "display_data"
    },
    {
     "data": {
      "text/html": [
       " View run <strong style=\"color:#cdcd00\">kind-sweep-7</strong> at: <a href='https://wandb.ai/jespermagnus/Epochs%20and%20You/runs/99j5n44l' target=\"_blank\">https://wandb.ai/jespermagnus/Epochs%20and%20You/runs/99j5n44l</a><br/>Synced 4 W&B file(s), 0 media file(s), 0 artifact file(s) and 0 other file(s)"
      ],
      "text/plain": [
       "<IPython.core.display.HTML object>"
      ]
     },
     "metadata": {},
     "output_type": "display_data"
    },
    {
     "data": {
      "text/html": [
       "Find logs at: <code>.\\wandb\\run-20240419_150812-99j5n44l\\logs</code>"
      ],
      "text/plain": [
       "<IPython.core.display.HTML object>"
      ]
     },
     "metadata": {},
     "output_type": "display_data"
    },
    {
     "name": "stderr",
     "output_type": "stream",
     "text": [
      "\u001b[34m\u001b[1mwandb\u001b[0m: Agent Starting Run: rixan2b3 with config:\n",
      "\u001b[34m\u001b[1mwandb\u001b[0m: \tbatch_size: 94\n",
      "\u001b[34m\u001b[1mwandb\u001b[0m: \tbow: countVector\n",
      "\u001b[34m\u001b[1mwandb\u001b[0m: \thidden_size: 630\n",
      "\u001b[34m\u001b[1mwandb\u001b[0m: \tlearning_rate: 0.00426548683291671\n",
      "\u001b[34m\u001b[1mwandb\u001b[0m: \tnrows: 928\n",
      "\u001b[34m\u001b[1mwandb\u001b[0m: \tnum_epochs: 48\n",
      "\u001b[34m\u001b[1mwandb\u001b[0m: \tnum_layers: 1\n",
      "Failed to detect the name of this notebook, you can set it manually with the WANDB_NOTEBOOK_NAME environment variable to enable code saving.\n"
     ]
    },
    {
     "data": {
      "text/html": [
       "wandb version 0.16.6 is available!  To upgrade, please run:\n",
       " $ pip install wandb --upgrade"
      ],
      "text/plain": [
       "<IPython.core.display.HTML object>"
      ]
     },
     "metadata": {},
     "output_type": "display_data"
    },
    {
     "data": {
      "text/html": [
       "Tracking run with wandb version 0.16.4"
      ],
      "text/plain": [
       "<IPython.core.display.HTML object>"
      ]
     },
     "metadata": {},
     "output_type": "display_data"
    },
    {
     "data": {
      "text/html": [
       "Run data is saved locally in <code>c:\\Users\\jespe\\git\\550dat\\prosjekt\\wandb\\run-20240419_151046-rixan2b3</code>"
      ],
      "text/plain": [
       "<IPython.core.display.HTML object>"
      ]
     },
     "metadata": {},
     "output_type": "display_data"
    },
    {
     "data": {
      "text/html": [
       "Syncing run <strong><a href='https://wandb.ai/jespermagnus/Epochs%20and%20You/runs/rixan2b3' target=\"_blank\">generous-sweep-8</a></strong> to <a href='https://wandb.ai/jespermagnus/Epochs%20and%20You' target=\"_blank\">Weights & Biases</a> (<a href='https://wandb.me/run' target=\"_blank\">docs</a>)<br/>Sweep page: <a href='https://wandb.ai/jespermagnus/Epochs%20and%20You/sweeps/cxle7d20' target=\"_blank\">https://wandb.ai/jespermagnus/Epochs%20and%20You/sweeps/cxle7d20</a>"
      ],
      "text/plain": [
       "<IPython.core.display.HTML object>"
      ]
     },
     "metadata": {},
     "output_type": "display_data"
    },
    {
     "data": {
      "text/html": [
       " View project at <a href='https://wandb.ai/jespermagnus/Epochs%20and%20You' target=\"_blank\">https://wandb.ai/jespermagnus/Epochs%20and%20You</a>"
      ],
      "text/plain": [
       "<IPython.core.display.HTML object>"
      ]
     },
     "metadata": {},
     "output_type": "display_data"
    },
    {
     "data": {
      "text/html": [
       " View sweep at <a href='https://wandb.ai/jespermagnus/Epochs%20and%20You/sweeps/cxle7d20' target=\"_blank\">https://wandb.ai/jespermagnus/Epochs%20and%20You/sweeps/cxle7d20</a>"
      ],
      "text/plain": [
       "<IPython.core.display.HTML object>"
      ]
     },
     "metadata": {},
     "output_type": "display_data"
    },
    {
     "data": {
      "text/html": [
       " View run at <a href='https://wandb.ai/jespermagnus/Epochs%20and%20You/runs/rixan2b3' target=\"_blank\">https://wandb.ai/jespermagnus/Epochs%20and%20You/runs/rixan2b3</a>"
      ],
      "text/plain": [
       "<IPython.core.display.HTML object>"
      ]
     },
     "metadata": {},
     "output_type": "display_data"
    },
    {
     "data": {
      "text/html": [
       "<style>\n",
       "    table.wandb td:nth-child(1) { padding: 0 10px; text-align: left ; width: auto;} td:nth-child(2) {text-align: left ; width: 100%}\n",
       "    .wandb-row { display: flex; flex-direction: row; flex-wrap: wrap; justify-content: flex-start; width: 100% }\n",
       "    .wandb-col { display: flex; flex-direction: column; flex-basis: 100%; flex: 1; padding: 10px; }\n",
       "    </style>\n",
       "<div class=\"wandb-row\"><div class=\"wandb-col\"><h3>Run history:</h3><br/><table class=\"wandb\"><tr><td>Accuracy</td><td>▁▁▄▅▅▅▆▅▇▅▆▅▆▆▇▇▇▇▇▇█▇▇███▇▇▇▇▇█▇██▇▇▇▇█</td></tr><tr><td>Macro-f1-score</td><td>▁▁▄▅▅▆▆▆▇▆▆▆▆▆▇▇▇▇▇▇█▇▇███▇▇▇▇▇█▇██▇▇▇██</td></tr><tr><td>Precision</td><td>▂▁▄▆▅▆▆▆▆▆▆▆▆▆▇▇▇▇▇█▇▇▇███▇█▇▇██▇██▇▇▇▇█</td></tr><tr><td>Recall</td><td>▁▁▄▅▅▆▆▆▇▆▆▆▆▆▇▆▇▇▇▇█▇▇█▇█▇▇▇▇▇█▇██▇▇▇▇█</td></tr><tr><td>Test loss</td><td>█▇▅▄▃▃▃▃▂▂▃▃▂▃▂▂▂▁▁▁▂▂▃▂▁▁▂▂▃▂▂▁▂▂▂▁▁▂▁▁</td></tr><tr><td>Training loss</td><td>█▂▂▁▁▁▁▁▁▁▁▁▁▁▁▁▁▁▁▁▁▁▁▁▁▁▁▁▁▁▁▁▁▁▁▁▁▁▁▁</td></tr></table><br/></div><div class=\"wandb-col\"><h3>Run summary:</h3><br/><table class=\"wandb\"><tr><td>Accuracy</td><td>0.62716</td></tr><tr><td>Macro-f1-score</td><td>0.64103</td></tr><tr><td>Precision</td><td>0.68464</td></tr><tr><td>Recall</td><td>0.62911</td></tr><tr><td>Test loss</td><td>2.22603</td></tr><tr><td>Training loss</td><td>2.20676</td></tr></table><br/></div></div>"
      ],
      "text/plain": [
       "<IPython.core.display.HTML object>"
      ]
     },
     "metadata": {},
     "output_type": "display_data"
    },
    {
     "data": {
      "text/html": [
       " View run <strong style=\"color:#cdcd00\">generous-sweep-8</strong> at: <a href='https://wandb.ai/jespermagnus/Epochs%20and%20You/runs/rixan2b3' target=\"_blank\">https://wandb.ai/jespermagnus/Epochs%20and%20You/runs/rixan2b3</a><br/>Synced 4 W&B file(s), 0 media file(s), 0 artifact file(s) and 0 other file(s)"
      ],
      "text/plain": [
       "<IPython.core.display.HTML object>"
      ]
     },
     "metadata": {},
     "output_type": "display_data"
    },
    {
     "data": {
      "text/html": [
       "Find logs at: <code>.\\wandb\\run-20240419_151046-rixan2b3\\logs</code>"
      ],
      "text/plain": [
       "<IPython.core.display.HTML object>"
      ]
     },
     "metadata": {},
     "output_type": "display_data"
    },
    {
     "name": "stderr",
     "output_type": "stream",
     "text": [
      "\u001b[34m\u001b[1mwandb\u001b[0m: Agent Starting Run: uzhx6ldy with config:\n",
      "\u001b[34m\u001b[1mwandb\u001b[0m: \tbatch_size: 119\n",
      "\u001b[34m\u001b[1mwandb\u001b[0m: \tbow: countVector\n",
      "\u001b[34m\u001b[1mwandb\u001b[0m: \thidden_size: 970\n",
      "\u001b[34m\u001b[1mwandb\u001b[0m: \tlearning_rate: 0.007926661884061126\n",
      "\u001b[34m\u001b[1mwandb\u001b[0m: \tnrows: 224\n",
      "\u001b[34m\u001b[1mwandb\u001b[0m: \tnum_epochs: 32\n",
      "\u001b[34m\u001b[1mwandb\u001b[0m: \tnum_layers: 1\n",
      "Failed to detect the name of this notebook, you can set it manually with the WANDB_NOTEBOOK_NAME environment variable to enable code saving.\n",
      "Timed out waiting for wandb service to start after 30.0 seconds. Try increasing the timeout with the `_service_wait` setting.\n",
      "Traceback (most recent call last):\n",
      "  File \"C:\\Users\\jespe\\AppData\\Local\\Packages\\PythonSoftwareFoundation.Python.3.9_qbz5n2kfra8p0\\LocalCache\\local-packages\\Python39\\site-packages\\wandb\\sdk\\wandb_init.py\", line 1172, in init\n",
      "    wi.setup(kwargs)\n",
      "  File \"C:\\Users\\jespe\\AppData\\Local\\Packages\\PythonSoftwareFoundation.Python.3.9_qbz5n2kfra8p0\\LocalCache\\local-packages\\Python39\\site-packages\\wandb\\sdk\\wandb_init.py\", line 189, in setup\n",
      "    self._wl = wandb_setup.setup(settings=setup_settings)\n",
      "  File \"C:\\Users\\jespe\\AppData\\Local\\Packages\\PythonSoftwareFoundation.Python.3.9_qbz5n2kfra8p0\\LocalCache\\local-packages\\Python39\\site-packages\\wandb\\sdk\\wandb_setup.py\", line 327, in setup\n",
      "    ret = _setup(settings=settings)\n",
      "  File \"C:\\Users\\jespe\\AppData\\Local\\Packages\\PythonSoftwareFoundation.Python.3.9_qbz5n2kfra8p0\\LocalCache\\local-packages\\Python39\\site-packages\\wandb\\sdk\\wandb_setup.py\", line 320, in _setup\n",
      "    wl = _WandbSetup(settings=settings)\n",
      "  File \"C:\\Users\\jespe\\AppData\\Local\\Packages\\PythonSoftwareFoundation.Python.3.9_qbz5n2kfra8p0\\LocalCache\\local-packages\\Python39\\site-packages\\wandb\\sdk\\wandb_setup.py\", line 303, in __init__\n",
      "    _WandbSetup._instance = _WandbSetup__WandbSetup(settings=settings, pid=pid)\n",
      "  File \"C:\\Users\\jespe\\AppData\\Local\\Packages\\PythonSoftwareFoundation.Python.3.9_qbz5n2kfra8p0\\LocalCache\\local-packages\\Python39\\site-packages\\wandb\\sdk\\wandb_setup.py\", line 114, in __init__\n",
      "    self._setup()\n",
      "  File \"C:\\Users\\jespe\\AppData\\Local\\Packages\\PythonSoftwareFoundation.Python.3.9_qbz5n2kfra8p0\\LocalCache\\local-packages\\Python39\\site-packages\\wandb\\sdk\\wandb_setup.py\", line 250, in _setup\n",
      "    self._setup_manager()\n",
      "  File \"C:\\Users\\jespe\\AppData\\Local\\Packages\\PythonSoftwareFoundation.Python.3.9_qbz5n2kfra8p0\\LocalCache\\local-packages\\Python39\\site-packages\\wandb\\sdk\\wandb_setup.py\", line 277, in _setup_manager\n",
      "    self._manager = wandb_manager._Manager(settings=self._settings)\n",
      "  File \"C:\\Users\\jespe\\AppData\\Local\\Packages\\PythonSoftwareFoundation.Python.3.9_qbz5n2kfra8p0\\LocalCache\\local-packages\\Python39\\site-packages\\wandb\\sdk\\wandb_manager.py\", line 139, in __init__\n",
      "    self._service.start()\n",
      "  File \"C:\\Users\\jespe\\AppData\\Local\\Packages\\PythonSoftwareFoundation.Python.3.9_qbz5n2kfra8p0\\LocalCache\\local-packages\\Python39\\site-packages\\wandb\\sdk\\service\\service.py\", line 250, in start\n",
      "    self._launch_server()\n",
      "  File \"C:\\Users\\jespe\\AppData\\Local\\Packages\\PythonSoftwareFoundation.Python.3.9_qbz5n2kfra8p0\\LocalCache\\local-packages\\Python39\\site-packages\\wandb\\sdk\\service\\service.py\", line 244, in _launch_server\n",
      "    _sentry.reraise(e)\n",
      "  File \"C:\\Users\\jespe\\AppData\\Local\\Packages\\PythonSoftwareFoundation.Python.3.9_qbz5n2kfra8p0\\LocalCache\\local-packages\\Python39\\site-packages\\wandb\\analytics\\sentry.py\", line 154, in reraise\n",
      "    raise exc.with_traceback(sys.exc_info()[2])\n",
      "  File \"C:\\Users\\jespe\\AppData\\Local\\Packages\\PythonSoftwareFoundation.Python.3.9_qbz5n2kfra8p0\\LocalCache\\local-packages\\Python39\\site-packages\\wandb\\sdk\\service\\service.py\", line 242, in _launch_server\n",
      "    self._wait_for_ports(fname, proc=internal_proc)\n",
      "  File \"C:\\Users\\jespe\\AppData\\Local\\Packages\\PythonSoftwareFoundation.Python.3.9_qbz5n2kfra8p0\\LocalCache\\local-packages\\Python39\\site-packages\\wandb\\sdk\\service\\service.py\", line 132, in _wait_for_ports\n",
      "    raise ServiceStartTimeoutError(\n",
      "wandb.sdk.service.service.ServiceStartTimeoutError: Timed out waiting for wandb service to start after 30.0 seconds. Try increasing the timeout with the `_service_wait` setting.\n",
      "Run uzhx6ldy errored:\n",
      "Traceback (most recent call last):\n",
      "  File \"C:\\Users\\jespe\\AppData\\Local\\Packages\\PythonSoftwareFoundation.Python.3.9_qbz5n2kfra8p0\\LocalCache\\local-packages\\Python39\\site-packages\\wandb\\agents\\pyagent.py\", line 308, in _run_job\n",
      "    self._function()\n",
      "  File \"C:\\Users\\jespe\\AppData\\Local\\Temp\\ipykernel_11472\\942634981.py\", line 19, in sweep\n",
      "    with wandb.init(config=config):\n",
      "  File \"C:\\Users\\jespe\\AppData\\Local\\Packages\\PythonSoftwareFoundation.Python.3.9_qbz5n2kfra8p0\\LocalCache\\local-packages\\Python39\\site-packages\\wandb\\sdk\\wandb_init.py\", line 1195, in init\n",
      "    raise e\n",
      "  File \"C:\\Users\\jespe\\AppData\\Local\\Packages\\PythonSoftwareFoundation.Python.3.9_qbz5n2kfra8p0\\LocalCache\\local-packages\\Python39\\site-packages\\wandb\\sdk\\wandb_init.py\", line 1172, in init\n",
      "    wi.setup(kwargs)\n",
      "  File \"C:\\Users\\jespe\\AppData\\Local\\Packages\\PythonSoftwareFoundation.Python.3.9_qbz5n2kfra8p0\\LocalCache\\local-packages\\Python39\\site-packages\\wandb\\sdk\\wandb_init.py\", line 189, in setup\n",
      "    self._wl = wandb_setup.setup(settings=setup_settings)\n",
      "  File \"C:\\Users\\jespe\\AppData\\Local\\Packages\\PythonSoftwareFoundation.Python.3.9_qbz5n2kfra8p0\\LocalCache\\local-packages\\Python39\\site-packages\\wandb\\sdk\\wandb_setup.py\", line 327, in setup\n",
      "    ret = _setup(settings=settings)\n",
      "  File \"C:\\Users\\jespe\\AppData\\Local\\Packages\\PythonSoftwareFoundation.Python.3.9_qbz5n2kfra8p0\\LocalCache\\local-packages\\Python39\\site-packages\\wandb\\sdk\\wandb_setup.py\", line 320, in _setup\n",
      "    wl = _WandbSetup(settings=settings)\n",
      "  File \"C:\\Users\\jespe\\AppData\\Local\\Packages\\PythonSoftwareFoundation.Python.3.9_qbz5n2kfra8p0\\LocalCache\\local-packages\\Python39\\site-packages\\wandb\\sdk\\wandb_setup.py\", line 303, in __init__\n",
      "    _WandbSetup._instance = _WandbSetup__WandbSetup(settings=settings, pid=pid)\n",
      "  File \"C:\\Users\\jespe\\AppData\\Local\\Packages\\PythonSoftwareFoundation.Python.3.9_qbz5n2kfra8p0\\LocalCache\\local-packages\\Python39\\site-packages\\wandb\\sdk\\wandb_setup.py\", line 114, in __init__\n",
      "    self._setup()\n",
      "  File \"C:\\Users\\jespe\\AppData\\Local\\Packages\\PythonSoftwareFoundation.Python.3.9_qbz5n2kfra8p0\\LocalCache\\local-packages\\Python39\\site-packages\\wandb\\sdk\\wandb_setup.py\", line 250, in _setup\n",
      "    self._setup_manager()\n",
      "  File \"C:\\Users\\jespe\\AppData\\Local\\Packages\\PythonSoftwareFoundation.Python.3.9_qbz5n2kfra8p0\\LocalCache\\local-packages\\Python39\\site-packages\\wandb\\sdk\\wandb_setup.py\", line 277, in _setup_manager\n",
      "    self._manager = wandb_manager._Manager(settings=self._settings)\n",
      "  File \"C:\\Users\\jespe\\AppData\\Local\\Packages\\PythonSoftwareFoundation.Python.3.9_qbz5n2kfra8p0\\LocalCache\\local-packages\\Python39\\site-packages\\wandb\\sdk\\wandb_manager.py\", line 139, in __init__\n",
      "    self._service.start()\n",
      "  File \"C:\\Users\\jespe\\AppData\\Local\\Packages\\PythonSoftwareFoundation.Python.3.9_qbz5n2kfra8p0\\LocalCache\\local-packages\\Python39\\site-packages\\wandb\\sdk\\service\\service.py\", line 250, in start\n",
      "    self._launch_server()\n",
      "  File \"C:\\Users\\jespe\\AppData\\Local\\Packages\\PythonSoftwareFoundation.Python.3.9_qbz5n2kfra8p0\\LocalCache\\local-packages\\Python39\\site-packages\\wandb\\sdk\\service\\service.py\", line 244, in _launch_server\n",
      "    _sentry.reraise(e)\n",
      "  File \"C:\\Users\\jespe\\AppData\\Local\\Packages\\PythonSoftwareFoundation.Python.3.9_qbz5n2kfra8p0\\LocalCache\\local-packages\\Python39\\site-packages\\wandb\\analytics\\sentry.py\", line 154, in reraise\n",
      "    raise exc.with_traceback(sys.exc_info()[2])\n",
      "  File \"C:\\Users\\jespe\\AppData\\Local\\Packages\\PythonSoftwareFoundation.Python.3.9_qbz5n2kfra8p0\\LocalCache\\local-packages\\Python39\\site-packages\\wandb\\sdk\\service\\service.py\", line 242, in _launch_server\n",
      "    self._wait_for_ports(fname, proc=internal_proc)\n",
      "  File \"C:\\Users\\jespe\\AppData\\Local\\Packages\\PythonSoftwareFoundation.Python.3.9_qbz5n2kfra8p0\\LocalCache\\local-packages\\Python39\\site-packages\\wandb\\sdk\\service\\service.py\", line 132, in _wait_for_ports\n",
      "    raise ServiceStartTimeoutError(\n",
      "wandb.sdk.service.service.ServiceStartTimeoutError: Timed out waiting for wandb service to start after 30.0 seconds. Try increasing the timeout with the `_service_wait` setting.\n",
      "\n",
      "\u001b[34m\u001b[1mwandb\u001b[0m: \u001b[32m\u001b[41mERROR\u001b[0m Run uzhx6ldy errored:\n",
      "\u001b[34m\u001b[1mwandb\u001b[0m: \u001b[32m\u001b[41mERROR\u001b[0m Traceback (most recent call last):\n",
      "\u001b[34m\u001b[1mwandb\u001b[0m: \u001b[32m\u001b[41mERROR\u001b[0m   File \"C:\\Users\\jespe\\AppData\\Local\\Packages\\PythonSoftwareFoundation.Python.3.9_qbz5n2kfra8p0\\LocalCache\\local-packages\\Python39\\site-packages\\wandb\\agents\\pyagent.py\", line 308, in _run_job\n",
      "\u001b[34m\u001b[1mwandb\u001b[0m: \u001b[32m\u001b[41mERROR\u001b[0m     self._function()\n",
      "\u001b[34m\u001b[1mwandb\u001b[0m: \u001b[32m\u001b[41mERROR\u001b[0m   File \"C:\\Users\\jespe\\AppData\\Local\\Temp\\ipykernel_11472\\942634981.py\", line 19, in sweep\n",
      "\u001b[34m\u001b[1mwandb\u001b[0m: \u001b[32m\u001b[41mERROR\u001b[0m     with wandb.init(config=config):\n",
      "\u001b[34m\u001b[1mwandb\u001b[0m: \u001b[32m\u001b[41mERROR\u001b[0m   File \"C:\\Users\\jespe\\AppData\\Local\\Packages\\PythonSoftwareFoundation.Python.3.9_qbz5n2kfra8p0\\LocalCache\\local-packages\\Python39\\site-packages\\wandb\\sdk\\wandb_init.py\", line 1195, in init\n",
      "\u001b[34m\u001b[1mwandb\u001b[0m: \u001b[32m\u001b[41mERROR\u001b[0m     raise e\n",
      "\u001b[34m\u001b[1mwandb\u001b[0m: \u001b[32m\u001b[41mERROR\u001b[0m   File \"C:\\Users\\jespe\\AppData\\Local\\Packages\\PythonSoftwareFoundation.Python.3.9_qbz5n2kfra8p0\\LocalCache\\local-packages\\Python39\\site-packages\\wandb\\sdk\\wandb_init.py\", line 1172, in init\n",
      "\u001b[34m\u001b[1mwandb\u001b[0m: \u001b[32m\u001b[41mERROR\u001b[0m     wi.setup(kwargs)\n",
      "\u001b[34m\u001b[1mwandb\u001b[0m: \u001b[32m\u001b[41mERROR\u001b[0m   File \"C:\\Users\\jespe\\AppData\\Local\\Packages\\PythonSoftwareFoundation.Python.3.9_qbz5n2kfra8p0\\LocalCache\\local-packages\\Python39\\site-packages\\wandb\\sdk\\wandb_init.py\", line 189, in setup\n",
      "\u001b[34m\u001b[1mwandb\u001b[0m: \u001b[32m\u001b[41mERROR\u001b[0m     self._wl = wandb_setup.setup(settings=setup_settings)\n",
      "\u001b[34m\u001b[1mwandb\u001b[0m: \u001b[32m\u001b[41mERROR\u001b[0m   File \"C:\\Users\\jespe\\AppData\\Local\\Packages\\PythonSoftwareFoundation.Python.3.9_qbz5n2kfra8p0\\LocalCache\\local-packages\\Python39\\site-packages\\wandb\\sdk\\wandb_setup.py\", line 327, in setup\n",
      "\u001b[34m\u001b[1mwandb\u001b[0m: \u001b[32m\u001b[41mERROR\u001b[0m     ret = _setup(settings=settings)\n",
      "\u001b[34m\u001b[1mwandb\u001b[0m: \u001b[32m\u001b[41mERROR\u001b[0m   File \"C:\\Users\\jespe\\AppData\\Local\\Packages\\PythonSoftwareFoundation.Python.3.9_qbz5n2kfra8p0\\LocalCache\\local-packages\\Python39\\site-packages\\wandb\\sdk\\wandb_setup.py\", line 320, in _setup\n",
      "\u001b[34m\u001b[1mwandb\u001b[0m: \u001b[32m\u001b[41mERROR\u001b[0m     wl = _WandbSetup(settings=settings)\n",
      "\u001b[34m\u001b[1mwandb\u001b[0m: \u001b[32m\u001b[41mERROR\u001b[0m   File \"C:\\Users\\jespe\\AppData\\Local\\Packages\\PythonSoftwareFoundation.Python.3.9_qbz5n2kfra8p0\\LocalCache\\local-packages\\Python39\\site-packages\\wandb\\sdk\\wandb_setup.py\", line 303, in __init__\n",
      "\u001b[34m\u001b[1mwandb\u001b[0m: \u001b[32m\u001b[41mERROR\u001b[0m     _WandbSetup._instance = _WandbSetup__WandbSetup(settings=settings, pid=pid)\n",
      "\u001b[34m\u001b[1mwandb\u001b[0m: \u001b[32m\u001b[41mERROR\u001b[0m   File \"C:\\Users\\jespe\\AppData\\Local\\Packages\\PythonSoftwareFoundation.Python.3.9_qbz5n2kfra8p0\\LocalCache\\local-packages\\Python39\\site-packages\\wandb\\sdk\\wandb_setup.py\", line 114, in __init__\n",
      "\u001b[34m\u001b[1mwandb\u001b[0m: \u001b[32m\u001b[41mERROR\u001b[0m     self._setup()\n",
      "\u001b[34m\u001b[1mwandb\u001b[0m: \u001b[32m\u001b[41mERROR\u001b[0m   File \"C:\\Users\\jespe\\AppData\\Local\\Packages\\PythonSoftwareFoundation.Python.3.9_qbz5n2kfra8p0\\LocalCache\\local-packages\\Python39\\site-packages\\wandb\\sdk\\wandb_setup.py\", line 250, in _setup\n",
      "\u001b[34m\u001b[1mwandb\u001b[0m: \u001b[32m\u001b[41mERROR\u001b[0m     self._setup_manager()\n",
      "\u001b[34m\u001b[1mwandb\u001b[0m: \u001b[32m\u001b[41mERROR\u001b[0m   File \"C:\\Users\\jespe\\AppData\\Local\\Packages\\PythonSoftwareFoundation.Python.3.9_qbz5n2kfra8p0\\LocalCache\\local-packages\\Python39\\site-packages\\wandb\\sdk\\wandb_setup.py\", line 277, in _setup_manager\n",
      "\u001b[34m\u001b[1mwandb\u001b[0m: \u001b[32m\u001b[41mERROR\u001b[0m     self._manager = wandb_manager._Manager(settings=self._settings)\n",
      "\u001b[34m\u001b[1mwandb\u001b[0m: \u001b[32m\u001b[41mERROR\u001b[0m   File \"C:\\Users\\jespe\\AppData\\Local\\Packages\\PythonSoftwareFoundation.Python.3.9_qbz5n2kfra8p0\\LocalCache\\local-packages\\Python39\\site-packages\\wandb\\sdk\\wandb_manager.py\", line 139, in __init__\n",
      "\u001b[34m\u001b[1mwandb\u001b[0m: \u001b[32m\u001b[41mERROR\u001b[0m     self._service.start()\n",
      "\u001b[34m\u001b[1mwandb\u001b[0m: \u001b[32m\u001b[41mERROR\u001b[0m   File \"C:\\Users\\jespe\\AppData\\Local\\Packages\\PythonSoftwareFoundation.Python.3.9_qbz5n2kfra8p0\\LocalCache\\local-packages\\Python39\\site-packages\\wandb\\sdk\\service\\service.py\", line 250, in start\n",
      "\u001b[34m\u001b[1mwandb\u001b[0m: \u001b[32m\u001b[41mERROR\u001b[0m     self._launch_server()\n",
      "\u001b[34m\u001b[1mwandb\u001b[0m: \u001b[32m\u001b[41mERROR\u001b[0m   File \"C:\\Users\\jespe\\AppData\\Local\\Packages\\PythonSoftwareFoundation.Python.3.9_qbz5n2kfra8p0\\LocalCache\\local-packages\\Python39\\site-packages\\wandb\\sdk\\service\\service.py\", line 244, in _launch_server\n",
      "\u001b[34m\u001b[1mwandb\u001b[0m: \u001b[32m\u001b[41mERROR\u001b[0m     _sentry.reraise(e)\n",
      "\u001b[34m\u001b[1mwandb\u001b[0m: \u001b[32m\u001b[41mERROR\u001b[0m   File \"C:\\Users\\jespe\\AppData\\Local\\Packages\\PythonSoftwareFoundation.Python.3.9_qbz5n2kfra8p0\\LocalCache\\local-packages\\Python39\\site-packages\\wandb\\analytics\\sentry.py\", line 154, in reraise\n",
      "\u001b[34m\u001b[1mwandb\u001b[0m: \u001b[32m\u001b[41mERROR\u001b[0m     raise exc.with_traceback(sys.exc_info()[2])\n",
      "\u001b[34m\u001b[1mwandb\u001b[0m: \u001b[32m\u001b[41mERROR\u001b[0m   File \"C:\\Users\\jespe\\AppData\\Local\\Packages\\PythonSoftwareFoundation.Python.3.9_qbz5n2kfra8p0\\LocalCache\\local-packages\\Python39\\site-packages\\wandb\\sdk\\service\\service.py\", line 242, in _launch_server\n",
      "\u001b[34m\u001b[1mwandb\u001b[0m: \u001b[32m\u001b[41mERROR\u001b[0m     self._wait_for_ports(fname, proc=internal_proc)\n",
      "\u001b[34m\u001b[1mwandb\u001b[0m: \u001b[32m\u001b[41mERROR\u001b[0m   File \"C:\\Users\\jespe\\AppData\\Local\\Packages\\PythonSoftwareFoundation.Python.3.9_qbz5n2kfra8p0\\LocalCache\\local-packages\\Python39\\site-packages\\wandb\\sdk\\service\\service.py\", line 132, in _wait_for_ports\n",
      "\u001b[34m\u001b[1mwandb\u001b[0m: \u001b[32m\u001b[41mERROR\u001b[0m     raise ServiceStartTimeoutError(\n",
      "\u001b[34m\u001b[1mwandb\u001b[0m: \u001b[32m\u001b[41mERROR\u001b[0m wandb.sdk.service.service.ServiceStartTimeoutError: Timed out waiting for wandb service to start after 30.0 seconds. Try increasing the timeout with the `_service_wait` setting.\n",
      "\u001b[34m\u001b[1mwandb\u001b[0m: \u001b[32m\u001b[41mERROR\u001b[0m \n",
      "\u001b[34m\u001b[1mwandb\u001b[0m: Sweep Agent: Waiting for job.\n",
      "\u001b[34m\u001b[1mwandb\u001b[0m: Job received.\n",
      "\u001b[34m\u001b[1mwandb\u001b[0m: Agent Starting Run: whnbzhl3 with config:\n",
      "\u001b[34m\u001b[1mwandb\u001b[0m: \tbatch_size: 163\n",
      "\u001b[34m\u001b[1mwandb\u001b[0m: \tbow: tf_idf\n",
      "\u001b[34m\u001b[1mwandb\u001b[0m: \thidden_size: 704\n",
      "\u001b[34m\u001b[1mwandb\u001b[0m: \tlearning_rate: 0.0014765994335545415\n",
      "\u001b[34m\u001b[1mwandb\u001b[0m: \tnrows: 131\n",
      "\u001b[34m\u001b[1mwandb\u001b[0m: \tnum_epochs: 9\n",
      "\u001b[34m\u001b[1mwandb\u001b[0m: \tnum_layers: 2\n",
      "Failed to detect the name of this notebook, you can set it manually with the WANDB_NOTEBOOK_NAME environment variable to enable code saving.\n"
     ]
    },
    {
     "data": {
      "text/html": [
       "wandb version 0.16.6 is available!  To upgrade, please run:\n",
       " $ pip install wandb --upgrade"
      ],
      "text/plain": [
       "<IPython.core.display.HTML object>"
      ]
     },
     "metadata": {},
     "output_type": "display_data"
    },
    {
     "data": {
      "text/html": [
       "Tracking run with wandb version 0.16.4"
      ],
      "text/plain": [
       "<IPython.core.display.HTML object>"
      ]
     },
     "metadata": {},
     "output_type": "display_data"
    },
    {
     "data": {
      "text/html": [
       "Run data is saved locally in <code>c:\\Users\\jespe\\git\\550dat\\prosjekt\\wandb\\run-20240419_162851-whnbzhl3</code>"
      ],
      "text/plain": [
       "<IPython.core.display.HTML object>"
      ]
     },
     "metadata": {},
     "output_type": "display_data"
    },
    {
     "data": {
      "text/html": [
       "Syncing run <strong><a href='https://wandb.ai/jespermagnus/Epochs%20and%20You/runs/whnbzhl3' target=\"_blank\">sage-sweep-3</a></strong> to <a href='https://wandb.ai/jespermagnus/Epochs%20and%20You' target=\"_blank\">Weights & Biases</a> (<a href='https://wandb.me/run' target=\"_blank\">docs</a>)<br/>Sweep page: <a href='https://wandb.ai/jespermagnus/Epochs%20and%20You/sweeps/cxle7d20' target=\"_blank\">https://wandb.ai/jespermagnus/Epochs%20and%20You/sweeps/cxle7d20</a>"
      ],
      "text/plain": [
       "<IPython.core.display.HTML object>"
      ]
     },
     "metadata": {},
     "output_type": "display_data"
    },
    {
     "data": {
      "text/html": [
       " View project at <a href='https://wandb.ai/jespermagnus/Epochs%20and%20You' target=\"_blank\">https://wandb.ai/jespermagnus/Epochs%20and%20You</a>"
      ],
      "text/plain": [
       "<IPython.core.display.HTML object>"
      ]
     },
     "metadata": {},
     "output_type": "display_data"
    },
    {
     "data": {
      "text/html": [
       " View sweep at <a href='https://wandb.ai/jespermagnus/Epochs%20and%20You/sweeps/cxle7d20' target=\"_blank\">https://wandb.ai/jespermagnus/Epochs%20and%20You/sweeps/cxle7d20</a>"
      ],
      "text/plain": [
       "<IPython.core.display.HTML object>"
      ]
     },
     "metadata": {},
     "output_type": "display_data"
    },
    {
     "data": {
      "text/html": [
       " View run at <a href='https://wandb.ai/jespermagnus/Epochs%20and%20You/runs/whnbzhl3' target=\"_blank\">https://wandb.ai/jespermagnus/Epochs%20and%20You/runs/whnbzhl3</a>"
      ],
      "text/plain": [
       "<IPython.core.display.HTML object>"
      ]
     },
     "metadata": {},
     "output_type": "display_data"
    },
    {
     "data": {
      "text/html": [
       "<style>\n",
       "    table.wandb td:nth-child(1) { padding: 0 10px; text-align: left ; width: auto;} td:nth-child(2) {text-align: left ; width: 100%}\n",
       "    .wandb-row { display: flex; flex-direction: row; flex-wrap: wrap; justify-content: flex-start; width: 100% }\n",
       "    .wandb-col { display: flex; flex-direction: column; flex-basis: 100%; flex: 1; padding: 10px; }\n",
       "    </style>\n",
       "<div class=\"wandb-row\"><div class=\"wandb-col\"><h3>Run history:</h3><br/><table class=\"wandb\"><tr><td>Accuracy</td><td>▁▅▃▄▄█▅▃▃</td></tr><tr><td>Macro-f1-score</td><td>▁▄▃▄▄█▄▃▃</td></tr><tr><td>Precision</td><td>▁▄▂▄▃█▅▃▃</td></tr><tr><td>Recall</td><td>▁▄▃▄▃█▄▃▃</td></tr><tr><td>Test loss</td><td>██▇▇▆▅▃▂▁</td></tr><tr><td>Training loss</td><td>██▇▇▆▅▄▃▁</td></tr></table><br/></div><div class=\"wandb-col\"><h3>Run summary:</h3><br/><table class=\"wandb\"><tr><td>Accuracy</td><td>0.30534</td></tr><tr><td>Macro-f1-score</td><td>0.28369</td></tr><tr><td>Precision</td><td>0.28423</td></tr><tr><td>Recall</td><td>0.31506</td></tr><tr><td>Test loss</td><td>2.29996</td></tr><tr><td>Training loss</td><td>2.29043</td></tr></table><br/></div></div>"
      ],
      "text/plain": [
       "<IPython.core.display.HTML object>"
      ]
     },
     "metadata": {},
     "output_type": "display_data"
    },
    {
     "data": {
      "text/html": [
       " View run <strong style=\"color:#cdcd00\">sage-sweep-3</strong> at: <a href='https://wandb.ai/jespermagnus/Epochs%20and%20You/runs/whnbzhl3' target=\"_blank\">https://wandb.ai/jespermagnus/Epochs%20and%20You/runs/whnbzhl3</a><br/>Synced 4 W&B file(s), 0 media file(s), 0 artifact file(s) and 0 other file(s)"
      ],
      "text/plain": [
       "<IPython.core.display.HTML object>"
      ]
     },
     "metadata": {},
     "output_type": "display_data"
    },
    {
     "data": {
      "text/html": [
       "Find logs at: <code>.\\wandb\\run-20240419_162851-whnbzhl3\\logs</code>"
      ],
      "text/plain": [
       "<IPython.core.display.HTML object>"
      ]
     },
     "metadata": {},
     "output_type": "display_data"
    },
    {
     "name": "stderr",
     "output_type": "stream",
     "text": [
      "\u001b[34m\u001b[1mwandb\u001b[0m: Sweep Agent: Waiting for job.\n",
      "\u001b[34m\u001b[1mwandb\u001b[0m: Job received.\n",
      "\u001b[34m\u001b[1mwandb\u001b[0m: Agent Starting Run: fyfes9pl with config:\n",
      "\u001b[34m\u001b[1mwandb\u001b[0m: \tbatch_size: 114\n",
      "\u001b[34m\u001b[1mwandb\u001b[0m: \tbow: tf_idf\n",
      "\u001b[34m\u001b[1mwandb\u001b[0m: \thidden_size: 100\n",
      "\u001b[34m\u001b[1mwandb\u001b[0m: \tlearning_rate: 0.009725182731641076\n",
      "\u001b[34m\u001b[1mwandb\u001b[0m: \tnrows: 390\n",
      "\u001b[34m\u001b[1mwandb\u001b[0m: \tnum_epochs: 54\n",
      "\u001b[34m\u001b[1mwandb\u001b[0m: \tnum_layers: 2\n",
      "Failed to detect the name of this notebook, you can set it manually with the WANDB_NOTEBOOK_NAME environment variable to enable code saving.\n",
      "Timed out waiting for wandb service to start after 30.0 seconds. Try increasing the timeout with the `_service_wait` setting.\n",
      "Traceback (most recent call last):\n",
      "  File \"C:\\Users\\jespe\\AppData\\Local\\Packages\\PythonSoftwareFoundation.Python.3.9_qbz5n2kfra8p0\\LocalCache\\local-packages\\Python39\\site-packages\\wandb\\sdk\\wandb_init.py\", line 1172, in init\n",
      "    wi.setup(kwargs)\n",
      "  File \"C:\\Users\\jespe\\AppData\\Local\\Packages\\PythonSoftwareFoundation.Python.3.9_qbz5n2kfra8p0\\LocalCache\\local-packages\\Python39\\site-packages\\wandb\\sdk\\wandb_init.py\", line 189, in setup\n",
      "    self._wl = wandb_setup.setup(settings=setup_settings)\n",
      "  File \"C:\\Users\\jespe\\AppData\\Local\\Packages\\PythonSoftwareFoundation.Python.3.9_qbz5n2kfra8p0\\LocalCache\\local-packages\\Python39\\site-packages\\wandb\\sdk\\wandb_setup.py\", line 327, in setup\n",
      "    ret = _setup(settings=settings)\n",
      "  File \"C:\\Users\\jespe\\AppData\\Local\\Packages\\PythonSoftwareFoundation.Python.3.9_qbz5n2kfra8p0\\LocalCache\\local-packages\\Python39\\site-packages\\wandb\\sdk\\wandb_setup.py\", line 320, in _setup\n",
      "    wl = _WandbSetup(settings=settings)\n",
      "  File \"C:\\Users\\jespe\\AppData\\Local\\Packages\\PythonSoftwareFoundation.Python.3.9_qbz5n2kfra8p0\\LocalCache\\local-packages\\Python39\\site-packages\\wandb\\sdk\\wandb_setup.py\", line 303, in __init__\n",
      "    _WandbSetup._instance = _WandbSetup__WandbSetup(settings=settings, pid=pid)\n",
      "  File \"C:\\Users\\jespe\\AppData\\Local\\Packages\\PythonSoftwareFoundation.Python.3.9_qbz5n2kfra8p0\\LocalCache\\local-packages\\Python39\\site-packages\\wandb\\sdk\\wandb_setup.py\", line 114, in __init__\n",
      "    self._setup()\n",
      "  File \"C:\\Users\\jespe\\AppData\\Local\\Packages\\PythonSoftwareFoundation.Python.3.9_qbz5n2kfra8p0\\LocalCache\\local-packages\\Python39\\site-packages\\wandb\\sdk\\wandb_setup.py\", line 250, in _setup\n",
      "    self._setup_manager()\n",
      "  File \"C:\\Users\\jespe\\AppData\\Local\\Packages\\PythonSoftwareFoundation.Python.3.9_qbz5n2kfra8p0\\LocalCache\\local-packages\\Python39\\site-packages\\wandb\\sdk\\wandb_setup.py\", line 277, in _setup_manager\n",
      "    self._manager = wandb_manager._Manager(settings=self._settings)\n",
      "  File \"C:\\Users\\jespe\\AppData\\Local\\Packages\\PythonSoftwareFoundation.Python.3.9_qbz5n2kfra8p0\\LocalCache\\local-packages\\Python39\\site-packages\\wandb\\sdk\\wandb_manager.py\", line 139, in __init__\n",
      "    self._service.start()\n",
      "  File \"C:\\Users\\jespe\\AppData\\Local\\Packages\\PythonSoftwareFoundation.Python.3.9_qbz5n2kfra8p0\\LocalCache\\local-packages\\Python39\\site-packages\\wandb\\sdk\\service\\service.py\", line 250, in start\n",
      "    self._launch_server()\n",
      "  File \"C:\\Users\\jespe\\AppData\\Local\\Packages\\PythonSoftwareFoundation.Python.3.9_qbz5n2kfra8p0\\LocalCache\\local-packages\\Python39\\site-packages\\wandb\\sdk\\service\\service.py\", line 244, in _launch_server\n",
      "    _sentry.reraise(e)\n",
      "  File \"C:\\Users\\jespe\\AppData\\Local\\Packages\\PythonSoftwareFoundation.Python.3.9_qbz5n2kfra8p0\\LocalCache\\local-packages\\Python39\\site-packages\\wandb\\analytics\\sentry.py\", line 154, in reraise\n",
      "    raise exc.with_traceback(sys.exc_info()[2])\n",
      "  File \"C:\\Users\\jespe\\AppData\\Local\\Packages\\PythonSoftwareFoundation.Python.3.9_qbz5n2kfra8p0\\LocalCache\\local-packages\\Python39\\site-packages\\wandb\\sdk\\service\\service.py\", line 242, in _launch_server\n",
      "    self._wait_for_ports(fname, proc=internal_proc)\n",
      "  File \"C:\\Users\\jespe\\AppData\\Local\\Packages\\PythonSoftwareFoundation.Python.3.9_qbz5n2kfra8p0\\LocalCache\\local-packages\\Python39\\site-packages\\wandb\\sdk\\service\\service.py\", line 132, in _wait_for_ports\n",
      "    raise ServiceStartTimeoutError(\n",
      "wandb.sdk.service.service.ServiceStartTimeoutError: Timed out waiting for wandb service to start after 30.0 seconds. Try increasing the timeout with the `_service_wait` setting.\n",
      "Run fyfes9pl errored:\n",
      "Traceback (most recent call last):\n",
      "  File \"C:\\Users\\jespe\\AppData\\Local\\Packages\\PythonSoftwareFoundation.Python.3.9_qbz5n2kfra8p0\\LocalCache\\local-packages\\Python39\\site-packages\\wandb\\agents\\pyagent.py\", line 308, in _run_job\n",
      "    self._function()\n",
      "  File \"C:\\Users\\jespe\\AppData\\Local\\Temp\\ipykernel_11472\\942634981.py\", line 19, in sweep\n",
      "    with wandb.init(config=config):\n",
      "  File \"C:\\Users\\jespe\\AppData\\Local\\Packages\\PythonSoftwareFoundation.Python.3.9_qbz5n2kfra8p0\\LocalCache\\local-packages\\Python39\\site-packages\\wandb\\sdk\\wandb_init.py\", line 1195, in init\n",
      "    raise e\n",
      "  File \"C:\\Users\\jespe\\AppData\\Local\\Packages\\PythonSoftwareFoundation.Python.3.9_qbz5n2kfra8p0\\LocalCache\\local-packages\\Python39\\site-packages\\wandb\\sdk\\wandb_init.py\", line 1172, in init\n",
      "    wi.setup(kwargs)\n",
      "  File \"C:\\Users\\jespe\\AppData\\Local\\Packages\\PythonSoftwareFoundation.Python.3.9_qbz5n2kfra8p0\\LocalCache\\local-packages\\Python39\\site-packages\\wandb\\sdk\\wandb_init.py\", line 189, in setup\n",
      "    self._wl = wandb_setup.setup(settings=setup_settings)\n",
      "  File \"C:\\Users\\jespe\\AppData\\Local\\Packages\\PythonSoftwareFoundation.Python.3.9_qbz5n2kfra8p0\\LocalCache\\local-packages\\Python39\\site-packages\\wandb\\sdk\\wandb_setup.py\", line 327, in setup\n",
      "    ret = _setup(settings=settings)\n",
      "  File \"C:\\Users\\jespe\\AppData\\Local\\Packages\\PythonSoftwareFoundation.Python.3.9_qbz5n2kfra8p0\\LocalCache\\local-packages\\Python39\\site-packages\\wandb\\sdk\\wandb_setup.py\", line 320, in _setup\n",
      "    wl = _WandbSetup(settings=settings)\n",
      "  File \"C:\\Users\\jespe\\AppData\\Local\\Packages\\PythonSoftwareFoundation.Python.3.9_qbz5n2kfra8p0\\LocalCache\\local-packages\\Python39\\site-packages\\wandb\\sdk\\wandb_setup.py\", line 303, in __init__\n",
      "    _WandbSetup._instance = _WandbSetup__WandbSetup(settings=settings, pid=pid)\n",
      "  File \"C:\\Users\\jespe\\AppData\\Local\\Packages\\PythonSoftwareFoundation.Python.3.9_qbz5n2kfra8p0\\LocalCache\\local-packages\\Python39\\site-packages\\wandb\\sdk\\wandb_setup.py\", line 114, in __init__\n",
      "    self._setup()\n",
      "  File \"C:\\Users\\jespe\\AppData\\Local\\Packages\\PythonSoftwareFoundation.Python.3.9_qbz5n2kfra8p0\\LocalCache\\local-packages\\Python39\\site-packages\\wandb\\sdk\\wandb_setup.py\", line 250, in _setup\n",
      "    self._setup_manager()\n",
      "  File \"C:\\Users\\jespe\\AppData\\Local\\Packages\\PythonSoftwareFoundation.Python.3.9_qbz5n2kfra8p0\\LocalCache\\local-packages\\Python39\\site-packages\\wandb\\sdk\\wandb_setup.py\", line 277, in _setup_manager\n",
      "    self._manager = wandb_manager._Manager(settings=self._settings)\n",
      "  File \"C:\\Users\\jespe\\AppData\\Local\\Packages\\PythonSoftwareFoundation.Python.3.9_qbz5n2kfra8p0\\LocalCache\\local-packages\\Python39\\site-packages\\wandb\\sdk\\wandb_manager.py\", line 139, in __init__\n",
      "    self._service.start()\n",
      "  File \"C:\\Users\\jespe\\AppData\\Local\\Packages\\PythonSoftwareFoundation.Python.3.9_qbz5n2kfra8p0\\LocalCache\\local-packages\\Python39\\site-packages\\wandb\\sdk\\service\\service.py\", line 250, in start\n",
      "    self._launch_server()\n",
      "  File \"C:\\Users\\jespe\\AppData\\Local\\Packages\\PythonSoftwareFoundation.Python.3.9_qbz5n2kfra8p0\\LocalCache\\local-packages\\Python39\\site-packages\\wandb\\sdk\\service\\service.py\", line 244, in _launch_server\n",
      "    _sentry.reraise(e)\n",
      "  File \"C:\\Users\\jespe\\AppData\\Local\\Packages\\PythonSoftwareFoundation.Python.3.9_qbz5n2kfra8p0\\LocalCache\\local-packages\\Python39\\site-packages\\wandb\\analytics\\sentry.py\", line 154, in reraise\n",
      "    raise exc.with_traceback(sys.exc_info()[2])\n",
      "  File \"C:\\Users\\jespe\\AppData\\Local\\Packages\\PythonSoftwareFoundation.Python.3.9_qbz5n2kfra8p0\\LocalCache\\local-packages\\Python39\\site-packages\\wandb\\sdk\\service\\service.py\", line 242, in _launch_server\n",
      "    self._wait_for_ports(fname, proc=internal_proc)\n",
      "  File \"C:\\Users\\jespe\\AppData\\Local\\Packages\\PythonSoftwareFoundation.Python.3.9_qbz5n2kfra8p0\\LocalCache\\local-packages\\Python39\\site-packages\\wandb\\sdk\\service\\service.py\", line 132, in _wait_for_ports\n",
      "    raise ServiceStartTimeoutError(\n",
      "wandb.sdk.service.service.ServiceStartTimeoutError: Timed out waiting for wandb service to start after 30.0 seconds. Try increasing the timeout with the `_service_wait` setting.\n",
      "\n",
      "\u001b[34m\u001b[1mwandb\u001b[0m: \u001b[32m\u001b[41mERROR\u001b[0m Run fyfes9pl errored:\n",
      "\u001b[34m\u001b[1mwandb\u001b[0m: \u001b[32m\u001b[41mERROR\u001b[0m Traceback (most recent call last):\n",
      "\u001b[34m\u001b[1mwandb\u001b[0m: \u001b[32m\u001b[41mERROR\u001b[0m   File \"C:\\Users\\jespe\\AppData\\Local\\Packages\\PythonSoftwareFoundation.Python.3.9_qbz5n2kfra8p0\\LocalCache\\local-packages\\Python39\\site-packages\\wandb\\agents\\pyagent.py\", line 308, in _run_job\n",
      "\u001b[34m\u001b[1mwandb\u001b[0m: \u001b[32m\u001b[41mERROR\u001b[0m     self._function()\n",
      "\u001b[34m\u001b[1mwandb\u001b[0m: \u001b[32m\u001b[41mERROR\u001b[0m   File \"C:\\Users\\jespe\\AppData\\Local\\Temp\\ipykernel_11472\\942634981.py\", line 19, in sweep\n",
      "\u001b[34m\u001b[1mwandb\u001b[0m: \u001b[32m\u001b[41mERROR\u001b[0m     with wandb.init(config=config):\n",
      "\u001b[34m\u001b[1mwandb\u001b[0m: \u001b[32m\u001b[41mERROR\u001b[0m   File \"C:\\Users\\jespe\\AppData\\Local\\Packages\\PythonSoftwareFoundation.Python.3.9_qbz5n2kfra8p0\\LocalCache\\local-packages\\Python39\\site-packages\\wandb\\sdk\\wandb_init.py\", line 1195, in init\n",
      "\u001b[34m\u001b[1mwandb\u001b[0m: \u001b[32m\u001b[41mERROR\u001b[0m     raise e\n",
      "\u001b[34m\u001b[1mwandb\u001b[0m: \u001b[32m\u001b[41mERROR\u001b[0m   File \"C:\\Users\\jespe\\AppData\\Local\\Packages\\PythonSoftwareFoundation.Python.3.9_qbz5n2kfra8p0\\LocalCache\\local-packages\\Python39\\site-packages\\wandb\\sdk\\wandb_init.py\", line 1172, in init\n",
      "\u001b[34m\u001b[1mwandb\u001b[0m: \u001b[32m\u001b[41mERROR\u001b[0m     wi.setup(kwargs)\n",
      "\u001b[34m\u001b[1mwandb\u001b[0m: \u001b[32m\u001b[41mERROR\u001b[0m   File \"C:\\Users\\jespe\\AppData\\Local\\Packages\\PythonSoftwareFoundation.Python.3.9_qbz5n2kfra8p0\\LocalCache\\local-packages\\Python39\\site-packages\\wandb\\sdk\\wandb_init.py\", line 189, in setup\n",
      "\u001b[34m\u001b[1mwandb\u001b[0m: \u001b[32m\u001b[41mERROR\u001b[0m     self._wl = wandb_setup.setup(settings=setup_settings)\n",
      "\u001b[34m\u001b[1mwandb\u001b[0m: \u001b[32m\u001b[41mERROR\u001b[0m   File \"C:\\Users\\jespe\\AppData\\Local\\Packages\\PythonSoftwareFoundation.Python.3.9_qbz5n2kfra8p0\\LocalCache\\local-packages\\Python39\\site-packages\\wandb\\sdk\\wandb_setup.py\", line 327, in setup\n",
      "\u001b[34m\u001b[1mwandb\u001b[0m: \u001b[32m\u001b[41mERROR\u001b[0m     ret = _setup(settings=settings)\n",
      "\u001b[34m\u001b[1mwandb\u001b[0m: \u001b[32m\u001b[41mERROR\u001b[0m   File \"C:\\Users\\jespe\\AppData\\Local\\Packages\\PythonSoftwareFoundation.Python.3.9_qbz5n2kfra8p0\\LocalCache\\local-packages\\Python39\\site-packages\\wandb\\sdk\\wandb_setup.py\", line 320, in _setup\n",
      "\u001b[34m\u001b[1mwandb\u001b[0m: \u001b[32m\u001b[41mERROR\u001b[0m     wl = _WandbSetup(settings=settings)\n",
      "\u001b[34m\u001b[1mwandb\u001b[0m: \u001b[32m\u001b[41mERROR\u001b[0m   File \"C:\\Users\\jespe\\AppData\\Local\\Packages\\PythonSoftwareFoundation.Python.3.9_qbz5n2kfra8p0\\LocalCache\\local-packages\\Python39\\site-packages\\wandb\\sdk\\wandb_setup.py\", line 303, in __init__\n",
      "\u001b[34m\u001b[1mwandb\u001b[0m: \u001b[32m\u001b[41mERROR\u001b[0m     _WandbSetup._instance = _WandbSetup__WandbSetup(settings=settings, pid=pid)\n",
      "\u001b[34m\u001b[1mwandb\u001b[0m: \u001b[32m\u001b[41mERROR\u001b[0m   File \"C:\\Users\\jespe\\AppData\\Local\\Packages\\PythonSoftwareFoundation.Python.3.9_qbz5n2kfra8p0\\LocalCache\\local-packages\\Python39\\site-packages\\wandb\\sdk\\wandb_setup.py\", line 114, in __init__\n",
      "\u001b[34m\u001b[1mwandb\u001b[0m: \u001b[32m\u001b[41mERROR\u001b[0m     self._setup()\n",
      "\u001b[34m\u001b[1mwandb\u001b[0m: \u001b[32m\u001b[41mERROR\u001b[0m   File \"C:\\Users\\jespe\\AppData\\Local\\Packages\\PythonSoftwareFoundation.Python.3.9_qbz5n2kfra8p0\\LocalCache\\local-packages\\Python39\\site-packages\\wandb\\sdk\\wandb_setup.py\", line 250, in _setup\n",
      "\u001b[34m\u001b[1mwandb\u001b[0m: \u001b[32m\u001b[41mERROR\u001b[0m     self._setup_manager()\n",
      "\u001b[34m\u001b[1mwandb\u001b[0m: \u001b[32m\u001b[41mERROR\u001b[0m   File \"C:\\Users\\jespe\\AppData\\Local\\Packages\\PythonSoftwareFoundation.Python.3.9_qbz5n2kfra8p0\\LocalCache\\local-packages\\Python39\\site-packages\\wandb\\sdk\\wandb_setup.py\", line 277, in _setup_manager\n",
      "\u001b[34m\u001b[1mwandb\u001b[0m: \u001b[32m\u001b[41mERROR\u001b[0m     self._manager = wandb_manager._Manager(settings=self._settings)\n",
      "\u001b[34m\u001b[1mwandb\u001b[0m: \u001b[32m\u001b[41mERROR\u001b[0m   File \"C:\\Users\\jespe\\AppData\\Local\\Packages\\PythonSoftwareFoundation.Python.3.9_qbz5n2kfra8p0\\LocalCache\\local-packages\\Python39\\site-packages\\wandb\\sdk\\wandb_manager.py\", line 139, in __init__\n",
      "\u001b[34m\u001b[1mwandb\u001b[0m: \u001b[32m\u001b[41mERROR\u001b[0m     self._service.start()\n",
      "\u001b[34m\u001b[1mwandb\u001b[0m: \u001b[32m\u001b[41mERROR\u001b[0m   File \"C:\\Users\\jespe\\AppData\\Local\\Packages\\PythonSoftwareFoundation.Python.3.9_qbz5n2kfra8p0\\LocalCache\\local-packages\\Python39\\site-packages\\wandb\\sdk\\service\\service.py\", line 250, in start\n",
      "\u001b[34m\u001b[1mwandb\u001b[0m: \u001b[32m\u001b[41mERROR\u001b[0m     self._launch_server()\n",
      "\u001b[34m\u001b[1mwandb\u001b[0m: \u001b[32m\u001b[41mERROR\u001b[0m   File \"C:\\Users\\jespe\\AppData\\Local\\Packages\\PythonSoftwareFoundation.Python.3.9_qbz5n2kfra8p0\\LocalCache\\local-packages\\Python39\\site-packages\\wandb\\sdk\\service\\service.py\", line 244, in _launch_server\n",
      "\u001b[34m\u001b[1mwandb\u001b[0m: \u001b[32m\u001b[41mERROR\u001b[0m     _sentry.reraise(e)\n",
      "\u001b[34m\u001b[1mwandb\u001b[0m: \u001b[32m\u001b[41mERROR\u001b[0m   File \"C:\\Users\\jespe\\AppData\\Local\\Packages\\PythonSoftwareFoundation.Python.3.9_qbz5n2kfra8p0\\LocalCache\\local-packages\\Python39\\site-packages\\wandb\\analytics\\sentry.py\", line 154, in reraise\n",
      "\u001b[34m\u001b[1mwandb\u001b[0m: \u001b[32m\u001b[41mERROR\u001b[0m     raise exc.with_traceback(sys.exc_info()[2])\n",
      "\u001b[34m\u001b[1mwandb\u001b[0m: \u001b[32m\u001b[41mERROR\u001b[0m   File \"C:\\Users\\jespe\\AppData\\Local\\Packages\\PythonSoftwareFoundation.Python.3.9_qbz5n2kfra8p0\\LocalCache\\local-packages\\Python39\\site-packages\\wandb\\sdk\\service\\service.py\", line 242, in _launch_server\n",
      "\u001b[34m\u001b[1mwandb\u001b[0m: \u001b[32m\u001b[41mERROR\u001b[0m     self._wait_for_ports(fname, proc=internal_proc)\n",
      "\u001b[34m\u001b[1mwandb\u001b[0m: \u001b[32m\u001b[41mERROR\u001b[0m   File \"C:\\Users\\jespe\\AppData\\Local\\Packages\\PythonSoftwareFoundation.Python.3.9_qbz5n2kfra8p0\\LocalCache\\local-packages\\Python39\\site-packages\\wandb\\sdk\\service\\service.py\", line 132, in _wait_for_ports\n",
      "\u001b[34m\u001b[1mwandb\u001b[0m: \u001b[32m\u001b[41mERROR\u001b[0m     raise ServiceStartTimeoutError(\n",
      "\u001b[34m\u001b[1mwandb\u001b[0m: \u001b[32m\u001b[41mERROR\u001b[0m wandb.sdk.service.service.ServiceStartTimeoutError: Timed out waiting for wandb service to start after 30.0 seconds. Try increasing the timeout with the `_service_wait` setting.\n",
      "\u001b[34m\u001b[1mwandb\u001b[0m: \u001b[32m\u001b[41mERROR\u001b[0m \n",
      "\u001b[34m\u001b[1mwandb\u001b[0m: Agent Starting Run: 0ysbgrru with config:\n",
      "\u001b[34m\u001b[1mwandb\u001b[0m: \tbatch_size: 160\n",
      "\u001b[34m\u001b[1mwandb\u001b[0m: \tbow: tf_idf\n",
      "\u001b[34m\u001b[1mwandb\u001b[0m: \thidden_size: 87\n",
      "\u001b[34m\u001b[1mwandb\u001b[0m: \tlearning_rate: 0.007843947352354825\n",
      "\u001b[34m\u001b[1mwandb\u001b[0m: \tnrows: 172\n",
      "\u001b[34m\u001b[1mwandb\u001b[0m: \tnum_epochs: 48\n",
      "\u001b[34m\u001b[1mwandb\u001b[0m: \tnum_layers: 2\n",
      "Failed to detect the name of this notebook, you can set it manually with the WANDB_NOTEBOOK_NAME environment variable to enable code saving.\n"
     ]
    },
    {
     "data": {
      "text/html": [
       "wandb version 0.16.6 is available!  To upgrade, please run:\n",
       " $ pip install wandb --upgrade"
      ],
      "text/plain": [
       "<IPython.core.display.HTML object>"
      ]
     },
     "metadata": {},
     "output_type": "display_data"
    },
    {
     "data": {
      "text/html": [
       "Tracking run with wandb version 0.16.4"
      ],
      "text/plain": [
       "<IPython.core.display.HTML object>"
      ]
     },
     "metadata": {},
     "output_type": "display_data"
    },
    {
     "data": {
      "text/html": [
       "Run data is saved locally in <code>c:\\Users\\jespe\\git\\550dat\\prosjekt\\wandb\\run-20240419_163156-0ysbgrru</code>"
      ],
      "text/plain": [
       "<IPython.core.display.HTML object>"
      ]
     },
     "metadata": {},
     "output_type": "display_data"
    },
    {
     "data": {
      "text/html": [
       "Syncing run <strong><a href='https://wandb.ai/jespermagnus/Epochs%20and%20You/runs/0ysbgrru' target=\"_blank\">young-sweep-9</a></strong> to <a href='https://wandb.ai/jespermagnus/Epochs%20and%20You' target=\"_blank\">Weights & Biases</a> (<a href='https://wandb.me/run' target=\"_blank\">docs</a>)<br/>Sweep page: <a href='https://wandb.ai/jespermagnus/Epochs%20and%20You/sweeps/cxle7d20' target=\"_blank\">https://wandb.ai/jespermagnus/Epochs%20and%20You/sweeps/cxle7d20</a>"
      ],
      "text/plain": [
       "<IPython.core.display.HTML object>"
      ]
     },
     "metadata": {},
     "output_type": "display_data"
    },
    {
     "data": {
      "text/html": [
       " View project at <a href='https://wandb.ai/jespermagnus/Epochs%20and%20You' target=\"_blank\">https://wandb.ai/jespermagnus/Epochs%20and%20You</a>"
      ],
      "text/plain": [
       "<IPython.core.display.HTML object>"
      ]
     },
     "metadata": {},
     "output_type": "display_data"
    },
    {
     "data": {
      "text/html": [
       " View sweep at <a href='https://wandb.ai/jespermagnus/Epochs%20and%20You/sweeps/cxle7d20' target=\"_blank\">https://wandb.ai/jespermagnus/Epochs%20and%20You/sweeps/cxle7d20</a>"
      ],
      "text/plain": [
       "<IPython.core.display.HTML object>"
      ]
     },
     "metadata": {},
     "output_type": "display_data"
    },
    {
     "data": {
      "text/html": [
       " View run at <a href='https://wandb.ai/jespermagnus/Epochs%20and%20You/runs/0ysbgrru' target=\"_blank\">https://wandb.ai/jespermagnus/Epochs%20and%20You/runs/0ysbgrru</a>"
      ],
      "text/plain": [
       "<IPython.core.display.HTML object>"
      ]
     },
     "metadata": {},
     "output_type": "display_data"
    },
    {
     "data": {
      "text/html": [
       "<style>\n",
       "    table.wandb td:nth-child(1) { padding: 0 10px; text-align: left ; width: auto;} td:nth-child(2) {text-align: left ; width: 100%}\n",
       "    .wandb-row { display: flex; flex-direction: row; flex-wrap: wrap; justify-content: flex-start; width: 100% }\n",
       "    .wandb-col { display: flex; flex-direction: column; flex-basis: 100%; flex: 1; padding: 10px; }\n",
       "    </style>\n",
       "<div class=\"wandb-row\"><div class=\"wandb-col\"><h3>Run history:</h3><br/><table class=\"wandb\"><tr><td>Accuracy</td><td>▅█▇▃▃▃▃▂▃▃▁▄▄▃▁▅▅▅▄▄▄▄▄▄▄▇▆▆▇▆▇▆▅▄▆▃▄▄▄▅</td></tr><tr><td>Macro-f1-score</td><td>▅█▆▂▃▃▃▂▂▃▂▄▃▄▁▄▄▅▄▄▄▄▄▄▄▇▆▆▇▆▇▆▆▅▆▃▄▄▄▅</td></tr><tr><td>Precision</td><td>▄█▅▂▂▂▂▂▃▃▁▃▂▃▂▅▄▄▄▅▄▃▄▄▄▇▆▆▆▅▇▆▅▅▆▄▄▅▄▄</td></tr><tr><td>Recall</td><td>▅█▆▃▃▃▃▃▃▃▂▄▃▄▁▅▄▅▄▄▄▄▃▄▄▇▆▅█▅▆▆▅▄▆▃▄▃▄▄</td></tr><tr><td>Test loss</td><td>█▇▇▇▇▇▇▇▆█▆▅▂▇▃▂▄▂▄▃▇▃▂▄▂▂▁▄▄▃▆▄▂▄▄▆▅▄▆▃</td></tr><tr><td>Training loss</td><td>███▇▇▆▆▇▇▅▅▆▅▅▄▄▃▆▄▅▅▄▃▂▅▅▃▂▃▄▂▂▄▁▃▂▂▃▄▁</td></tr></table><br/></div><div class=\"wandb-col\"><h3>Run summary:</h3><br/><table class=\"wandb\"><tr><td>Accuracy</td><td>0.26163</td></tr><tr><td>Macro-f1-score</td><td>0.23626</td></tr><tr><td>Precision</td><td>0.24217</td></tr><tr><td>Recall</td><td>0.23977</td></tr><tr><td>Test loss</td><td>2.24061</td></tr><tr><td>Training loss</td><td>2.07126</td></tr></table><br/></div></div>"
      ],
      "text/plain": [
       "<IPython.core.display.HTML object>"
      ]
     },
     "metadata": {},
     "output_type": "display_data"
    },
    {
     "data": {
      "text/html": [
       " View run <strong style=\"color:#cdcd00\">young-sweep-9</strong> at: <a href='https://wandb.ai/jespermagnus/Epochs%20and%20You/runs/0ysbgrru' target=\"_blank\">https://wandb.ai/jespermagnus/Epochs%20and%20You/runs/0ysbgrru</a><br/>Synced 4 W&B file(s), 0 media file(s), 0 artifact file(s) and 0 other file(s)"
      ],
      "text/plain": [
       "<IPython.core.display.HTML object>"
      ]
     },
     "metadata": {},
     "output_type": "display_data"
    },
    {
     "data": {
      "text/html": [
       "Find logs at: <code>.\\wandb\\run-20240419_163156-0ysbgrru\\logs</code>"
      ],
      "text/plain": [
       "<IPython.core.display.HTML object>"
      ]
     },
     "metadata": {},
     "output_type": "display_data"
    },
    {
     "name": "stderr",
     "output_type": "stream",
     "text": [
      "\u001b[34m\u001b[1mwandb\u001b[0m: Agent Starting Run: 7vurowpb with config:\n",
      "\u001b[34m\u001b[1mwandb\u001b[0m: \tbatch_size: 88\n",
      "\u001b[34m\u001b[1mwandb\u001b[0m: \tbow: tf_idf\n",
      "\u001b[34m\u001b[1mwandb\u001b[0m: \thidden_size: 743\n",
      "\u001b[34m\u001b[1mwandb\u001b[0m: \tlearning_rate: 0.0018407446904875793\n",
      "\u001b[34m\u001b[1mwandb\u001b[0m: \tnrows: 575\n",
      "\u001b[34m\u001b[1mwandb\u001b[0m: \tnum_epochs: 46\n",
      "\u001b[34m\u001b[1mwandb\u001b[0m: \tnum_layers: 1\n",
      "Failed to detect the name of this notebook, you can set it manually with the WANDB_NOTEBOOK_NAME environment variable to enable code saving.\n"
     ]
    },
    {
     "data": {
      "text/html": [
       "wandb version 0.16.6 is available!  To upgrade, please run:\n",
       " $ pip install wandb --upgrade"
      ],
      "text/plain": [
       "<IPython.core.display.HTML object>"
      ]
     },
     "metadata": {},
     "output_type": "display_data"
    },
    {
     "data": {
      "text/html": [
       "Tracking run with wandb version 0.16.4"
      ],
      "text/plain": [
       "<IPython.core.display.HTML object>"
      ]
     },
     "metadata": {},
     "output_type": "display_data"
    },
    {
     "data": {
      "text/html": [
       "Run data is saved locally in <code>c:\\Users\\jespe\\git\\550dat\\prosjekt\\wandb\\run-20240419_163409-7vurowpb</code>"
      ],
      "text/plain": [
       "<IPython.core.display.HTML object>"
      ]
     },
     "metadata": {},
     "output_type": "display_data"
    },
    {
     "data": {
      "text/html": [
       "Syncing run <strong><a href='https://wandb.ai/jespermagnus/Epochs%20and%20You/runs/7vurowpb' target=\"_blank\">skilled-sweep-10</a></strong> to <a href='https://wandb.ai/jespermagnus/Epochs%20and%20You' target=\"_blank\">Weights & Biases</a> (<a href='https://wandb.me/run' target=\"_blank\">docs</a>)<br/>Sweep page: <a href='https://wandb.ai/jespermagnus/Epochs%20and%20You/sweeps/cxle7d20' target=\"_blank\">https://wandb.ai/jespermagnus/Epochs%20and%20You/sweeps/cxle7d20</a>"
      ],
      "text/plain": [
       "<IPython.core.display.HTML object>"
      ]
     },
     "metadata": {},
     "output_type": "display_data"
    },
    {
     "data": {
      "text/html": [
       " View project at <a href='https://wandb.ai/jespermagnus/Epochs%20and%20You' target=\"_blank\">https://wandb.ai/jespermagnus/Epochs%20and%20You</a>"
      ],
      "text/plain": [
       "<IPython.core.display.HTML object>"
      ]
     },
     "metadata": {},
     "output_type": "display_data"
    },
    {
     "data": {
      "text/html": [
       " View sweep at <a href='https://wandb.ai/jespermagnus/Epochs%20and%20You/sweeps/cxle7d20' target=\"_blank\">https://wandb.ai/jespermagnus/Epochs%20and%20You/sweeps/cxle7d20</a>"
      ],
      "text/plain": [
       "<IPython.core.display.HTML object>"
      ]
     },
     "metadata": {},
     "output_type": "display_data"
    },
    {
     "data": {
      "text/html": [
       " View run at <a href='https://wandb.ai/jespermagnus/Epochs%20and%20You/runs/7vurowpb' target=\"_blank\">https://wandb.ai/jespermagnus/Epochs%20and%20You/runs/7vurowpb</a>"
      ],
      "text/plain": [
       "<IPython.core.display.HTML object>"
      ]
     },
     "metadata": {},
     "output_type": "display_data"
    }
   ],
   "source": [
    "wandb.agent(sweep_id, sweep)"
   ]
  }
 ],
 "metadata": {
  "kernelspec": {
   "display_name": "Python 3",
   "language": "python",
   "name": "python3"
  },
  "language_info": {
   "codemirror_mode": {
    "name": "ipython",
    "version": 3
   },
   "file_extension": ".py",
   "mimetype": "text/x-python",
   "name": "python",
   "nbconvert_exporter": "python",
   "pygments_lexer": "ipython3",
   "version": "3.9.13"
  }
 },
 "nbformat": 4,
 "nbformat_minor": 2
}
