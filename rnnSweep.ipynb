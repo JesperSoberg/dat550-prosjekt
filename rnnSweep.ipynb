{
 "cells": [
  {
   "cell_type": "markdown",
   "metadata": {},
   "source": [
    "# Define the configuration"
   ]
  },
  {
   "cell_type": "code",
   "execution_count": 9,
   "metadata": {},
   "outputs": [],
   "source": [
    "config = {\n",
    "    \"method\": \"random\",\n",
    "    \"metric\": {\n",
    "        \"goal\": \"maximize\",\n",
    "        \"name\": \"Macro-f1-score\"\n",
    "    },\n",
    "    \"parameters\": {\n",
    "        \"hidden_size\": {\n",
    "            \"distribution\": \"int_uniform\",\n",
    "            \"max\": 1000,\n",
    "            \"min\": 10\n",
    "        },\n",
    "        \"num_layers\": {\n",
    "            \"distribution\": \"int_uniform\",\n",
    "            \"max\": 2,\n",
    "            \"min\": 1\n",
    "        },\n",
    "        \"nrows\": {\n",
    "            \"distribution\": \"int_uniform\",\n",
    "            \"max\": 1000,\n",
    "            \"min\": 100\n",
    "        },\n",
    "        \"batch_size\": {\n",
    "            \"distribution\": \"int_uniform\",\n",
    "            \"max\": 200,\n",
    "            \"min\": 50\n",
    "        },\n",
    "        \"bow\": {\n",
    "            \"distribution\": \"categorical\",\n",
    "            \"values\": [\"tf_idf\", \"countVector\"]\n",
    "        },\n",
    "        \"learning_rate\": {\n",
    "            \"distribution\": \"uniform\",\n",
    "            \"max\": 0.01,\n",
    "            \"min\": 0.0001\n",
    "        },\n",
    "        \"num_epochs\": {\n",
    "            \"distribution\": \"int_uniform\",\n",
    "            \"max\": 60,\n",
    "            \"min\": 5\n",
    "        },\n",
    "    }\n",
    "}"
   ]
  },
  {
   "cell_type": "markdown",
   "metadata": {},
   "source": [
    "# Define the function to run"
   ]
  },
  {
   "cell_type": "code",
   "execution_count": 10,
   "metadata": {},
   "outputs": [],
   "source": [
    "import wandb\n",
    "import torch\n",
    "import torch.nn as nn\n",
    "import numpy as np\n",
    "\n",
    "from torch.utils.data import DataLoader\n",
    "\n",
    "from dataSet import CustomDataDataSet\n",
    "from rnn import RNN\n",
    "from ffnn import FFNN\n",
    "from Preprocessing import getDataFrameFromData\n",
    "from BoW import TF_IDF, getCountVector\n",
    "from networkFunctions import train, test\n",
    "\n",
    "def sweep(config=None):\n",
    "    torch.manual_seed(888)\n",
    "    np.random.seed(888)\n",
    "    \n",
    "    with wandb.init(config=config):\n",
    "\n",
    "        config = wandb.config\n",
    "\n",
    "        train_df, train_labels = getDataFrameFromData(\"Archive/arxiv_train.csv\", nrows=config.nrows)\n",
    "        test_df, test_labels = getDataFrameFromData(\"Archive/arxiv_test.csv\", nrows=config.nrows)\n",
    "\n",
    "        if config.bow == \"tf_idf\":\n",
    "            train_tensors, vocabulary = TF_IDF(train_df)\n",
    "            test_tensors, _ = TF_IDF(test_df, vocabulary=vocabulary)\n",
    "        elif config.bow == \"countVector\":\n",
    "            train_tensors, vocabulary = getCountVector(train_df)\n",
    "            test_tensors, _ = getCountVector(test_df, vocabulary=vocabulary)\n",
    "        else:\n",
    "            return\n",
    "        \n",
    "        train_dataset = CustomDataDataSet(train_tensors, train_labels)\n",
    "        test_dataset = CustomDataDataSet(test_tensors, test_labels)\n",
    "        train_dataloader = DataLoader(dataset=train_dataset,\n",
    "                                    batch_size=config.batch_size,\n",
    "                                    shuffle=True)\n",
    "        test_dataloader = DataLoader(dataset=test_dataset,\n",
    "                                    batch_size=config.batch_size,\n",
    "                                    shuffle=True)\n",
    "        \n",
    "        model = RNN(train_tensors.shape[1],\n",
    "                    config.hidden_size,\n",
    "                    config.num_layers)\n",
    "            \n",
    "        loss_function = nn.CrossEntropyLoss()\n",
    "\n",
    "        optimiser = torch.optim.Adam(model.parameters(),\n",
    "                                        lr=config.learning_rate)\n",
    "    \n",
    "        for _ in range(config.num_epochs):\n",
    "            train(train_dataloader, model, optimiser, loss_function)\n",
    "            test(test_dataloader, model, loss_function)\n",
    "\n",
    "\n"
   ]
  },
  {
   "cell_type": "markdown",
   "metadata": {},
   "source": [
    "# Inistialise the sweep. NB! Skip if already created"
   ]
  },
  {
   "cell_type": "code",
   "execution_count": 11,
   "metadata": {},
   "outputs": [
    {
     "name": "stdout",
     "output_type": "stream",
     "text": [
      "Create sweep with ID: g8ten13i\n",
      "Sweep URL: https://wandb.ai/j-soberg/RNNs%20and%20You/sweeps/g8ten13i\n"
     ]
    }
   ],
   "source": [
    "sweep_id = wandb.sweep(config, project=\"RNNs and You\")"
   ]
  },
  {
   "cell_type": "markdown",
   "metadata": {},
   "source": [
    "# Run a sweep agent, using count to specify how many runs (optional). If run already exists, then copy the id from W&B"
   ]
  },
  {
   "cell_type": "code",
   "execution_count": 12,
   "metadata": {},
   "outputs": [
    {
     "name": "stderr",
     "output_type": "stream",
     "text": [
      "\u001b[34m\u001b[1mwandb\u001b[0m: Agent Starting Run: mmk0sxlh with config:\n",
      "\u001b[34m\u001b[1mwandb\u001b[0m: \tbatch_size: 198\n",
      "\u001b[34m\u001b[1mwandb\u001b[0m: \tbow: countVector\n",
      "\u001b[34m\u001b[1mwandb\u001b[0m: \thidden_size: 89\n",
      "\u001b[34m\u001b[1mwandb\u001b[0m: \tlearning_rate: 0.006204759594465084\n",
      "\u001b[34m\u001b[1mwandb\u001b[0m: \tnrows: 31\n",
      "\u001b[34m\u001b[1mwandb\u001b[0m: \tnum_epochs: 7\n",
      "\u001b[34m\u001b[1mwandb\u001b[0m: \tnum_layers: 1\n",
      "Failed to detect the name of this notebook, you can set it manually with the WANDB_NOTEBOOK_NAME environment variable to enable code saving.\n"
     ]
    },
    {
     "data": {
      "text/html": [
       "wandb version 0.16.6 is available!  To upgrade, please run:\n",
       " $ pip install wandb --upgrade"
      ],
      "text/plain": [
       "<IPython.core.display.HTML object>"
      ]
     },
     "metadata": {},
     "output_type": "display_data"
    },
    {
     "data": {
      "text/html": [
       "Tracking run with wandb version 0.16.4"
      ],
      "text/plain": [
       "<IPython.core.display.HTML object>"
      ]
     },
     "metadata": {},
     "output_type": "display_data"
    },
    {
     "data": {
      "text/html": [
       "Run data is saved locally in <code>c:\\Users\\jespe\\git\\550dat\\prosjekt\\wandb\\run-20240419_132142-mmk0sxlh</code>"
      ],
      "text/plain": [
       "<IPython.core.display.HTML object>"
      ]
     },
     "metadata": {},
     "output_type": "display_data"
    },
    {
     "data": {
      "text/html": [
       "Syncing run <strong><a href='https://wandb.ai/j-soberg/RNNs%20and%20You/runs/mmk0sxlh' target=\"_blank\">expert-sweep-1</a></strong> to <a href='https://wandb.ai/j-soberg/RNNs%20and%20You' target=\"_blank\">Weights & Biases</a> (<a href='https://wandb.me/run' target=\"_blank\">docs</a>)<br/>Sweep page: <a href='https://wandb.ai/j-soberg/RNNs%20and%20You/sweeps/g8ten13i' target=\"_blank\">https://wandb.ai/j-soberg/RNNs%20and%20You/sweeps/g8ten13i</a>"
      ],
      "text/plain": [
       "<IPython.core.display.HTML object>"
      ]
     },
     "metadata": {},
     "output_type": "display_data"
    },
    {
     "data": {
      "text/html": [
       " View project at <a href='https://wandb.ai/j-soberg/RNNs%20and%20You' target=\"_blank\">https://wandb.ai/j-soberg/RNNs%20and%20You</a>"
      ],
      "text/plain": [
       "<IPython.core.display.HTML object>"
      ]
     },
     "metadata": {},
     "output_type": "display_data"
    },
    {
     "data": {
      "text/html": [
       " View sweep at <a href='https://wandb.ai/j-soberg/RNNs%20and%20You/sweeps/g8ten13i' target=\"_blank\">https://wandb.ai/j-soberg/RNNs%20and%20You/sweeps/g8ten13i</a>"
      ],
      "text/plain": [
       "<IPython.core.display.HTML object>"
      ]
     },
     "metadata": {},
     "output_type": "display_data"
    },
    {
     "data": {
      "text/html": [
       " View run at <a href='https://wandb.ai/j-soberg/RNNs%20and%20You/runs/mmk0sxlh' target=\"_blank\">https://wandb.ai/j-soberg/RNNs%20and%20You/runs/mmk0sxlh</a>"
      ],
      "text/plain": [
       "<IPython.core.display.HTML object>"
      ]
     },
     "metadata": {},
     "output_type": "display_data"
    },
    {
     "data": {
      "text/html": [
       "<style>\n",
       "    table.wandb td:nth-child(1) { padding: 0 10px; text-align: left ; width: auto;} td:nth-child(2) {text-align: left ; width: 100%}\n",
       "    .wandb-row { display: flex; flex-direction: row; flex-wrap: wrap; justify-content: flex-start; width: 100% }\n",
       "    .wandb-col { display: flex; flex-direction: column; flex-basis: 100%; flex: 1; padding: 10px; }\n",
       "    </style>\n",
       "<div class=\"wandb-row\"><div class=\"wandb-col\"><h3>Run history:</h3><br/><table class=\"wandb\"><tr><td>Accuracy</td><td>▃▁▆▆▁█▁</td></tr><tr><td>Macro-f1-score</td><td>▁▂█▆▄▅▅</td></tr><tr><td>Precision</td><td>▁▁█▇▃▂▇</td></tr><tr><td>Recall</td><td>▃▄█▁▃▇▄</td></tr><tr><td>Test loss</td><td>██▆▄▅▁▃</td></tr><tr><td>Training loss</td><td>█▇▅▃▂▁▁</td></tr></table><br/></div><div class=\"wandb-col\"><h3>Run summary:</h3><br/><table class=\"wandb\"><tr><td>Accuracy</td><td>0.19355</td></tr><tr><td>Macro-f1-score</td><td>0.22056</td></tr><tr><td>Precision</td><td>0.22</td></tr><tr><td>Recall</td><td>0.27</td></tr><tr><td>Test loss</td><td>2.28597</td></tr><tr><td>Training loss</td><td>2.03789</td></tr></table><br/></div></div>"
      ],
      "text/plain": [
       "<IPython.core.display.HTML object>"
      ]
     },
     "metadata": {},
     "output_type": "display_data"
    },
    {
     "data": {
      "text/html": [
       " View run <strong style=\"color:#cdcd00\">expert-sweep-1</strong> at: <a href='https://wandb.ai/j-soberg/RNNs%20and%20You/runs/mmk0sxlh' target=\"_blank\">https://wandb.ai/j-soberg/RNNs%20and%20You/runs/mmk0sxlh</a><br/>Synced 4 W&B file(s), 0 media file(s), 0 artifact file(s) and 0 other file(s)"
      ],
      "text/plain": [
       "<IPython.core.display.HTML object>"
      ]
     },
     "metadata": {},
     "output_type": "display_data"
    },
    {
     "data": {
      "text/html": [
       "Find logs at: <code>.\\wandb\\run-20240419_132142-mmk0sxlh\\logs</code>"
      ],
      "text/plain": [
       "<IPython.core.display.HTML object>"
      ]
     },
     "metadata": {},
     "output_type": "display_data"
    },
    {
     "name": "stderr",
     "output_type": "stream",
     "text": [
      "\u001b[34m\u001b[1mwandb\u001b[0m: Sweep Agent: Waiting for job.\n",
      "\u001b[34m\u001b[1mwandb\u001b[0m: Job received.\n",
      "\u001b[34m\u001b[1mwandb\u001b[0m: Agent Starting Run: nqcpf1bo with config:\n",
      "\u001b[34m\u001b[1mwandb\u001b[0m: \tbatch_size: 193\n",
      "\u001b[34m\u001b[1mwandb\u001b[0m: \tbow: countVector\n",
      "\u001b[34m\u001b[1mwandb\u001b[0m: \thidden_size: 783\n",
      "\u001b[34m\u001b[1mwandb\u001b[0m: \tlearning_rate: 0.004069366626899545\n",
      "\u001b[34m\u001b[1mwandb\u001b[0m: \tnrows: 70\n",
      "\u001b[34m\u001b[1mwandb\u001b[0m: \tnum_epochs: 26\n",
      "\u001b[34m\u001b[1mwandb\u001b[0m: \tnum_layers: 2\n",
      "Failed to detect the name of this notebook, you can set it manually with the WANDB_NOTEBOOK_NAME environment variable to enable code saving.\n"
     ]
    },
    {
     "data": {
      "text/html": [
       "wandb version 0.16.6 is available!  To upgrade, please run:\n",
       " $ pip install wandb --upgrade"
      ],
      "text/plain": [
       "<IPython.core.display.HTML object>"
      ]
     },
     "metadata": {},
     "output_type": "display_data"
    },
    {
     "data": {
      "text/html": [
       "Tracking run with wandb version 0.16.4"
      ],
      "text/plain": [
       "<IPython.core.display.HTML object>"
      ]
     },
     "metadata": {},
     "output_type": "display_data"
    },
    {
     "data": {
      "text/html": [
       "Run data is saved locally in <code>c:\\Users\\jespe\\git\\550dat\\prosjekt\\wandb\\run-20240419_132203-nqcpf1bo</code>"
      ],
      "text/plain": [
       "<IPython.core.display.HTML object>"
      ]
     },
     "metadata": {},
     "output_type": "display_data"
    },
    {
     "data": {
      "text/html": [
       "Syncing run <strong><a href='https://wandb.ai/j-soberg/RNNs%20and%20You/runs/nqcpf1bo' target=\"_blank\">icy-sweep-2</a></strong> to <a href='https://wandb.ai/j-soberg/RNNs%20and%20You' target=\"_blank\">Weights & Biases</a> (<a href='https://wandb.me/run' target=\"_blank\">docs</a>)<br/>Sweep page: <a href='https://wandb.ai/j-soberg/RNNs%20and%20You/sweeps/g8ten13i' target=\"_blank\">https://wandb.ai/j-soberg/RNNs%20and%20You/sweeps/g8ten13i</a>"
      ],
      "text/plain": [
       "<IPython.core.display.HTML object>"
      ]
     },
     "metadata": {},
     "output_type": "display_data"
    },
    {
     "data": {
      "text/html": [
       " View project at <a href='https://wandb.ai/j-soberg/RNNs%20and%20You' target=\"_blank\">https://wandb.ai/j-soberg/RNNs%20and%20You</a>"
      ],
      "text/plain": [
       "<IPython.core.display.HTML object>"
      ]
     },
     "metadata": {},
     "output_type": "display_data"
    },
    {
     "data": {
      "text/html": [
       " View sweep at <a href='https://wandb.ai/j-soberg/RNNs%20and%20You/sweeps/g8ten13i' target=\"_blank\">https://wandb.ai/j-soberg/RNNs%20and%20You/sweeps/g8ten13i</a>"
      ],
      "text/plain": [
       "<IPython.core.display.HTML object>"
      ]
     },
     "metadata": {},
     "output_type": "display_data"
    },
    {
     "data": {
      "text/html": [
       " View run at <a href='https://wandb.ai/j-soberg/RNNs%20and%20You/runs/nqcpf1bo' target=\"_blank\">https://wandb.ai/j-soberg/RNNs%20and%20You/runs/nqcpf1bo</a>"
      ],
      "text/plain": [
       "<IPython.core.display.HTML object>"
      ]
     },
     "metadata": {},
     "output_type": "display_data"
    },
    {
     "data": {
      "text/html": [
       "<style>\n",
       "    table.wandb td:nth-child(1) { padding: 0 10px; text-align: left ; width: auto;} td:nth-child(2) {text-align: left ; width: 100%}\n",
       "    .wandb-row { display: flex; flex-direction: row; flex-wrap: wrap; justify-content: flex-start; width: 100% }\n",
       "    .wandb-col { display: flex; flex-direction: column; flex-basis: 100%; flex: 1; padding: 10px; }\n",
       "    </style>\n",
       "<div class=\"wandb-row\"><div class=\"wandb-col\"><h3>Run history:</h3><br/><table class=\"wandb\"><tr><td>Accuracy</td><td>▆▃▄▆▆▆▄▃▄▁▆▄▆▃▆▆▇▆▇▅▇▇█▆█▆</td></tr><tr><td>Macro-f1-score</td><td>▅▃▄▆▅▅▅▃▄▁▅▄▆▄▆▆█▇▇▅▇▇▇▆█▆</td></tr><tr><td>Precision</td><td>▃▃▅▅▃▃▃▄▄▁▄▆▆▅▆▅█▆▇▅▅██▅▇▆</td></tr><tr><td>Recall</td><td>▅▂▄▆▅▅▅▄▄▁▅▄▇▃▇▆█▇█▅▇▆█▆█▆</td></tr><tr><td>Test loss</td><td>█▆▄▇▆▆▄▄▅▇▅▄▆▃▄▅▁▃▄▄▆▁▄▃▄▂</td></tr><tr><td>Training loss</td><td>█▅▃▂▂▁▁▁▁▂▁▁▁▁▁▁▁▁▁▁▁▁▁▁▁▁</td></tr></table><br/></div><div class=\"wandb-col\"><h3>Run summary:</h3><br/><table class=\"wandb\"><tr><td>Accuracy</td><td>0.24286</td></tr><tr><td>Macro-f1-score</td><td>0.24355</td></tr><tr><td>Precision</td><td>0.33345</td></tr><tr><td>Recall</td><td>0.25194</td></tr><tr><td>Test loss</td><td>2.27117</td></tr><tr><td>Training loss</td><td>2.17842</td></tr></table><br/></div></div>"
      ],
      "text/plain": [
       "<IPython.core.display.HTML object>"
      ]
     },
     "metadata": {},
     "output_type": "display_data"
    },
    {
     "data": {
      "text/html": [
       " View run <strong style=\"color:#cdcd00\">icy-sweep-2</strong> at: <a href='https://wandb.ai/j-soberg/RNNs%20and%20You/runs/nqcpf1bo' target=\"_blank\">https://wandb.ai/j-soberg/RNNs%20and%20You/runs/nqcpf1bo</a><br/>Synced 4 W&B file(s), 0 media file(s), 0 artifact file(s) and 0 other file(s)"
      ],
      "text/plain": [
       "<IPython.core.display.HTML object>"
      ]
     },
     "metadata": {},
     "output_type": "display_data"
    },
    {
     "data": {
      "text/html": [
       "Find logs at: <code>.\\wandb\\run-20240419_132203-nqcpf1bo\\logs</code>"
      ],
      "text/plain": [
       "<IPython.core.display.HTML object>"
      ]
     },
     "metadata": {},
     "output_type": "display_data"
    },
    {
     "name": "stderr",
     "output_type": "stream",
     "text": [
      "\u001b[34m\u001b[1mwandb\u001b[0m: Sweep Agent: Waiting for job.\n",
      "\u001b[34m\u001b[1mwandb\u001b[0m: Job received.\n",
      "\u001b[34m\u001b[1mwandb\u001b[0m: Agent Starting Run: fg8jqbny with config:\n",
      "\u001b[34m\u001b[1mwandb\u001b[0m: \tbatch_size: 141\n",
      "\u001b[34m\u001b[1mwandb\u001b[0m: \tbow: tf_idf\n",
      "\u001b[34m\u001b[1mwandb\u001b[0m: \thidden_size: 480\n",
      "\u001b[34m\u001b[1mwandb\u001b[0m: \tlearning_rate: 0.007218284065834039\n",
      "\u001b[34m\u001b[1mwandb\u001b[0m: \tnrows: 54\n",
      "\u001b[34m\u001b[1mwandb\u001b[0m: \tnum_epochs: 53\n",
      "\u001b[34m\u001b[1mwandb\u001b[0m: \tnum_layers: 2\n",
      "Failed to detect the name of this notebook, you can set it manually with the WANDB_NOTEBOOK_NAME environment variable to enable code saving.\n"
     ]
    },
    {
     "data": {
      "text/html": [
       "wandb version 0.16.6 is available!  To upgrade, please run:\n",
       " $ pip install wandb --upgrade"
      ],
      "text/plain": [
       "<IPython.core.display.HTML object>"
      ]
     },
     "metadata": {},
     "output_type": "display_data"
    },
    {
     "data": {
      "text/html": [
       "Tracking run with wandb version 0.16.4"
      ],
      "text/plain": [
       "<IPython.core.display.HTML object>"
      ]
     },
     "metadata": {},
     "output_type": "display_data"
    },
    {
     "data": {
      "text/html": [
       "Run data is saved locally in <code>c:\\Users\\jespe\\git\\550dat\\prosjekt\\wandb\\run-20240419_132228-fg8jqbny</code>"
      ],
      "text/plain": [
       "<IPython.core.display.HTML object>"
      ]
     },
     "metadata": {},
     "output_type": "display_data"
    },
    {
     "data": {
      "text/html": [
       "Syncing run <strong><a href='https://wandb.ai/j-soberg/RNNs%20and%20You/runs/fg8jqbny' target=\"_blank\">atomic-sweep-3</a></strong> to <a href='https://wandb.ai/j-soberg/RNNs%20and%20You' target=\"_blank\">Weights & Biases</a> (<a href='https://wandb.me/run' target=\"_blank\">docs</a>)<br/>Sweep page: <a href='https://wandb.ai/j-soberg/RNNs%20and%20You/sweeps/g8ten13i' target=\"_blank\">https://wandb.ai/j-soberg/RNNs%20and%20You/sweeps/g8ten13i</a>"
      ],
      "text/plain": [
       "<IPython.core.display.HTML object>"
      ]
     },
     "metadata": {},
     "output_type": "display_data"
    },
    {
     "data": {
      "text/html": [
       " View project at <a href='https://wandb.ai/j-soberg/RNNs%20and%20You' target=\"_blank\">https://wandb.ai/j-soberg/RNNs%20and%20You</a>"
      ],
      "text/plain": [
       "<IPython.core.display.HTML object>"
      ]
     },
     "metadata": {},
     "output_type": "display_data"
    },
    {
     "data": {
      "text/html": [
       " View sweep at <a href='https://wandb.ai/j-soberg/RNNs%20and%20You/sweeps/g8ten13i' target=\"_blank\">https://wandb.ai/j-soberg/RNNs%20and%20You/sweeps/g8ten13i</a>"
      ],
      "text/plain": [
       "<IPython.core.display.HTML object>"
      ]
     },
     "metadata": {},
     "output_type": "display_data"
    },
    {
     "data": {
      "text/html": [
       " View run at <a href='https://wandb.ai/j-soberg/RNNs%20and%20You/runs/fg8jqbny' target=\"_blank\">https://wandb.ai/j-soberg/RNNs%20and%20You/runs/fg8jqbny</a>"
      ],
      "text/plain": [
       "<IPython.core.display.HTML object>"
      ]
     },
     "metadata": {},
     "output_type": "display_data"
    },
    {
     "data": {
      "text/html": [
       "<style>\n",
       "    table.wandb td:nth-child(1) { padding: 0 10px; text-align: left ; width: auto;} td:nth-child(2) {text-align: left ; width: 100%}\n",
       "    .wandb-row { display: flex; flex-direction: row; flex-wrap: wrap; justify-content: flex-start; width: 100% }\n",
       "    .wandb-col { display: flex; flex-direction: column; flex-basis: 100%; flex: 1; padding: 10px; }\n",
       "    </style>\n",
       "<div class=\"wandb-row\"><div class=\"wandb-col\"><h3>Run history:</h3><br/><table class=\"wandb\"><tr><td>Accuracy</td><td>█▃▄▂▂▃▄▃▅▂▅▄▂▄▃▃▄▃▃▂▆▄▃▃▅▂▃▃▁▃▃▄▂▃▄▃▃▅▃▃</td></tr><tr><td>Macro-f1-score</td><td>█▂▃▂▃▃▄▂▄▂▅▄▂▄▂▃▄▃▃▂▅▃▃▂▄▂▂▄▁▃▃▄▂▃▄▂▃▅▃▄</td></tr><tr><td>Precision</td><td>█▂▄▃▆▃▃▂▆▁▅▅▂▄▂▃▃▃▃▁▆▄▄▂▄▂▃▄▁▂▃▄▂▃▄▂▃▅▃▃</td></tr><tr><td>Recall</td><td>█▂▃▂▂▂▄▂▄▂▆▃▂▃▂▃▄▄▂▂▅▃▃▃▅▂▂▄▁▃▃▃▂▃▄▂▃▅▂▄</td></tr><tr><td>Test loss</td><td>▃▄▂▁▄▅▃▄▄▄▂▃▅▃▆▆▃▂▇▅▁▄▃▂▄▇▄▃█▅▅▅▆▃▅▆▆▂▆▃</td></tr><tr><td>Training loss</td><td>▆▅▄▅▅▄▄▆▆▅▃▅▇▅▆▁▃▇▅▅▆▇▅▃▆▅▅▇▄▆▄▅▄▄▆▄▅█▃▆</td></tr></table><br/></div><div class=\"wandb-col\"><h3>Run summary:</h3><br/><table class=\"wandb\"><tr><td>Accuracy</td><td>0.09259</td></tr><tr><td>Macro-f1-score</td><td>0.09833</td></tr><tr><td>Precision</td><td>0.08857</td></tr><tr><td>Recall</td><td>0.13056</td></tr><tr><td>Test loss</td><td>2.30197</td></tr><tr><td>Training loss</td><td>2.30561</td></tr></table><br/></div></div>"
      ],
      "text/plain": [
       "<IPython.core.display.HTML object>"
      ]
     },
     "metadata": {},
     "output_type": "display_data"
    },
    {
     "data": {
      "text/html": [
       " View run <strong style=\"color:#cdcd00\">atomic-sweep-3</strong> at: <a href='https://wandb.ai/j-soberg/RNNs%20and%20You/runs/fg8jqbny' target=\"_blank\">https://wandb.ai/j-soberg/RNNs%20and%20You/runs/fg8jqbny</a><br/>Synced 4 W&B file(s), 0 media file(s), 0 artifact file(s) and 0 other file(s)"
      ],
      "text/plain": [
       "<IPython.core.display.HTML object>"
      ]
     },
     "metadata": {},
     "output_type": "display_data"
    },
    {
     "data": {
      "text/html": [
       "Find logs at: <code>.\\wandb\\run-20240419_132228-fg8jqbny\\logs</code>"
      ],
      "text/plain": [
       "<IPython.core.display.HTML object>"
      ]
     },
     "metadata": {},
     "output_type": "display_data"
    },
    {
     "name": "stderr",
     "output_type": "stream",
     "text": [
      "\u001b[34m\u001b[1mwandb\u001b[0m: Agent Starting Run: 1aj3jzs3 with config:\n",
      "\u001b[34m\u001b[1mwandb\u001b[0m: \tbatch_size: 197\n",
      "\u001b[34m\u001b[1mwandb\u001b[0m: \tbow: tf_idf\n",
      "\u001b[34m\u001b[1mwandb\u001b[0m: \thidden_size: 905\n",
      "\u001b[34m\u001b[1mwandb\u001b[0m: \tlearning_rate: 0.005480165798342292\n",
      "\u001b[34m\u001b[1mwandb\u001b[0m: \tnrows: 76\n",
      "\u001b[34m\u001b[1mwandb\u001b[0m: \tnum_epochs: 46\n",
      "\u001b[34m\u001b[1mwandb\u001b[0m: \tnum_layers: 2\n",
      "Failed to detect the name of this notebook, you can set it manually with the WANDB_NOTEBOOK_NAME environment variable to enable code saving.\n"
     ]
    },
    {
     "data": {
      "text/html": [
       "wandb version 0.16.6 is available!  To upgrade, please run:\n",
       " $ pip install wandb --upgrade"
      ],
      "text/plain": [
       "<IPython.core.display.HTML object>"
      ]
     },
     "metadata": {},
     "output_type": "display_data"
    },
    {
     "data": {
      "text/html": [
       "Tracking run with wandb version 0.16.4"
      ],
      "text/plain": [
       "<IPython.core.display.HTML object>"
      ]
     },
     "metadata": {},
     "output_type": "display_data"
    },
    {
     "data": {
      "text/html": [
       "Run data is saved locally in <code>c:\\Users\\jespe\\git\\550dat\\prosjekt\\wandb\\run-20240419_132245-1aj3jzs3</code>"
      ],
      "text/plain": [
       "<IPython.core.display.HTML object>"
      ]
     },
     "metadata": {},
     "output_type": "display_data"
    },
    {
     "data": {
      "text/html": [
       "Syncing run <strong><a href='https://wandb.ai/j-soberg/RNNs%20and%20You/runs/1aj3jzs3' target=\"_blank\">lively-sweep-4</a></strong> to <a href='https://wandb.ai/j-soberg/RNNs%20and%20You' target=\"_blank\">Weights & Biases</a> (<a href='https://wandb.me/run' target=\"_blank\">docs</a>)<br/>Sweep page: <a href='https://wandb.ai/j-soberg/RNNs%20and%20You/sweeps/g8ten13i' target=\"_blank\">https://wandb.ai/j-soberg/RNNs%20and%20You/sweeps/g8ten13i</a>"
      ],
      "text/plain": [
       "<IPython.core.display.HTML object>"
      ]
     },
     "metadata": {},
     "output_type": "display_data"
    },
    {
     "data": {
      "text/html": [
       " View project at <a href='https://wandb.ai/j-soberg/RNNs%20and%20You' target=\"_blank\">https://wandb.ai/j-soberg/RNNs%20and%20You</a>"
      ],
      "text/plain": [
       "<IPython.core.display.HTML object>"
      ]
     },
     "metadata": {},
     "output_type": "display_data"
    },
    {
     "data": {
      "text/html": [
       " View sweep at <a href='https://wandb.ai/j-soberg/RNNs%20and%20You/sweeps/g8ten13i' target=\"_blank\">https://wandb.ai/j-soberg/RNNs%20and%20You/sweeps/g8ten13i</a>"
      ],
      "text/plain": [
       "<IPython.core.display.HTML object>"
      ]
     },
     "metadata": {},
     "output_type": "display_data"
    },
    {
     "data": {
      "text/html": [
       " View run at <a href='https://wandb.ai/j-soberg/RNNs%20and%20You/runs/1aj3jzs3' target=\"_blank\">https://wandb.ai/j-soberg/RNNs%20and%20You/runs/1aj3jzs3</a>"
      ],
      "text/plain": [
       "<IPython.core.display.HTML object>"
      ]
     },
     "metadata": {},
     "output_type": "display_data"
    },
    {
     "data": {
      "text/html": [
       "<style>\n",
       "    table.wandb td:nth-child(1) { padding: 0 10px; text-align: left ; width: auto;} td:nth-child(2) {text-align: left ; width: 100%}\n",
       "    .wandb-row { display: flex; flex-direction: row; flex-wrap: wrap; justify-content: flex-start; width: 100% }\n",
       "    .wandb-col { display: flex; flex-direction: column; flex-basis: 100%; flex: 1; padding: 10px; }\n",
       "    </style>\n",
       "<div class=\"wandb-row\"><div class=\"wandb-col\"><h3>Run history:</h3><br/><table class=\"wandb\"><tr><td>Accuracy</td><td>█▃▆▅▅▅▃▇▅▆▃▅▁▆▅▂▃▃▅▃▃▄▄▅▄▅▅▃▃▂▃▅▆▆▃▆▆▅▅▁</td></tr><tr><td>Macro-f1-score</td><td>█▅▆▆▆▅▄▇▄▅▃▅▁▇▄▂▃▃▆▄▃▄▃▆▅▄▄▃▃▃▃▅▅▆▃▇▅▅▆▁</td></tr><tr><td>Precision</td><td>▆▄▅▅▄▃▃▄▃▃▂▃▁▄▆▂▂▅▅▅▂▃▂▄▃▃▃▅▃▄▂▃▃▄▃█▄▃▆▁</td></tr><tr><td>Recall</td><td>█▄▆▆▅▅▃▇▄▆▄▅▁█▄▂▄▃▇▄▃▄▃▆▅▅▅▃▃▃▃▆▅▇▃▆▆▆▇▁</td></tr><tr><td>Test loss</td><td>▅▆▂▄▆▆▇▂▅▅█▄▇▃▅▇▆▆▃▇█▄▆▄▃▅▅▆▆▇▇▂▆▄▇▄▂▁▂█</td></tr><tr><td>Training loss</td><td>▄▃▂▄▃▄▃▄▃▃▅▆▇▄▁▅▅▅▅▄█▄▃▅▂▆▅▆█▂▄▆▄▃▁▄▁▇▅▆</td></tr></table><br/></div><div class=\"wandb-col\"><h3>Run summary:</h3><br/><table class=\"wandb\"><tr><td>Accuracy</td><td>0.09211</td></tr><tr><td>Macro-f1-score</td><td>0.06675</td></tr><tr><td>Precision</td><td>0.06912</td></tr><tr><td>Recall</td><td>0.06894</td></tr><tr><td>Test loss</td><td>2.29956</td></tr><tr><td>Training loss</td><td>2.30907</td></tr></table><br/></div></div>"
      ],
      "text/plain": [
       "<IPython.core.display.HTML object>"
      ]
     },
     "metadata": {},
     "output_type": "display_data"
    },
    {
     "data": {
      "text/html": [
       " View run <strong style=\"color:#cdcd00\">lively-sweep-4</strong> at: <a href='https://wandb.ai/j-soberg/RNNs%20and%20You/runs/1aj3jzs3' target=\"_blank\">https://wandb.ai/j-soberg/RNNs%20and%20You/runs/1aj3jzs3</a><br/>Synced 4 W&B file(s), 0 media file(s), 0 artifact file(s) and 0 other file(s)"
      ],
      "text/plain": [
       "<IPython.core.display.HTML object>"
      ]
     },
     "metadata": {},
     "output_type": "display_data"
    },
    {
     "data": {
      "text/html": [
       "Find logs at: <code>.\\wandb\\run-20240419_132245-1aj3jzs3\\logs</code>"
      ],
      "text/plain": [
       "<IPython.core.display.HTML object>"
      ]
     },
     "metadata": {},
     "output_type": "display_data"
    },
    {
     "name": "stderr",
     "output_type": "stream",
     "text": [
      "\u001b[34m\u001b[1mwandb\u001b[0m: Agent Starting Run: ukes0vnp with config:\n",
      "\u001b[34m\u001b[1mwandb\u001b[0m: \tbatch_size: 126\n",
      "\u001b[34m\u001b[1mwandb\u001b[0m: \tbow: tf_idf\n",
      "\u001b[34m\u001b[1mwandb\u001b[0m: \thidden_size: 512\n",
      "\u001b[34m\u001b[1mwandb\u001b[0m: \tlearning_rate: 0.008282732205694043\n",
      "\u001b[34m\u001b[1mwandb\u001b[0m: \tnrows: 19\n",
      "\u001b[34m\u001b[1mwandb\u001b[0m: \tnum_epochs: 97\n",
      "\u001b[34m\u001b[1mwandb\u001b[0m: \tnum_layers: 2\n",
      "Failed to detect the name of this notebook, you can set it manually with the WANDB_NOTEBOOK_NAME environment variable to enable code saving.\n"
     ]
    },
    {
     "data": {
      "text/html": [
       "wandb version 0.16.6 is available!  To upgrade, please run:\n",
       " $ pip install wandb --upgrade"
      ],
      "text/plain": [
       "<IPython.core.display.HTML object>"
      ]
     },
     "metadata": {},
     "output_type": "display_data"
    },
    {
     "data": {
      "text/html": [
       "Tracking run with wandb version 0.16.4"
      ],
      "text/plain": [
       "<IPython.core.display.HTML object>"
      ]
     },
     "metadata": {},
     "output_type": "display_data"
    },
    {
     "data": {
      "text/html": [
       "Run data is saved locally in <code>c:\\Users\\jespe\\git\\550dat\\prosjekt\\wandb\\run-20240419_132318-ukes0vnp</code>"
      ],
      "text/plain": [
       "<IPython.core.display.HTML object>"
      ]
     },
     "metadata": {},
     "output_type": "display_data"
    },
    {
     "data": {
      "text/html": [
       "Syncing run <strong><a href='https://wandb.ai/j-soberg/RNNs%20and%20You/runs/ukes0vnp' target=\"_blank\">lyric-sweep-5</a></strong> to <a href='https://wandb.ai/j-soberg/RNNs%20and%20You' target=\"_blank\">Weights & Biases</a> (<a href='https://wandb.me/run' target=\"_blank\">docs</a>)<br/>Sweep page: <a href='https://wandb.ai/j-soberg/RNNs%20and%20You/sweeps/g8ten13i' target=\"_blank\">https://wandb.ai/j-soberg/RNNs%20and%20You/sweeps/g8ten13i</a>"
      ],
      "text/plain": [
       "<IPython.core.display.HTML object>"
      ]
     },
     "metadata": {},
     "output_type": "display_data"
    },
    {
     "data": {
      "text/html": [
       " View project at <a href='https://wandb.ai/j-soberg/RNNs%20and%20You' target=\"_blank\">https://wandb.ai/j-soberg/RNNs%20and%20You</a>"
      ],
      "text/plain": [
       "<IPython.core.display.HTML object>"
      ]
     },
     "metadata": {},
     "output_type": "display_data"
    },
    {
     "data": {
      "text/html": [
       " View sweep at <a href='https://wandb.ai/j-soberg/RNNs%20and%20You/sweeps/g8ten13i' target=\"_blank\">https://wandb.ai/j-soberg/RNNs%20and%20You/sweeps/g8ten13i</a>"
      ],
      "text/plain": [
       "<IPython.core.display.HTML object>"
      ]
     },
     "metadata": {},
     "output_type": "display_data"
    },
    {
     "data": {
      "text/html": [
       " View run at <a href='https://wandb.ai/j-soberg/RNNs%20and%20You/runs/ukes0vnp' target=\"_blank\">https://wandb.ai/j-soberg/RNNs%20and%20You/runs/ukes0vnp</a>"
      ],
      "text/plain": [
       "<IPython.core.display.HTML object>"
      ]
     },
     "metadata": {},
     "output_type": "display_data"
    },
    {
     "data": {
      "text/html": [
       "<style>\n",
       "    table.wandb td:nth-child(1) { padding: 0 10px; text-align: left ; width: auto;} td:nth-child(2) {text-align: left ; width: 100%}\n",
       "    .wandb-row { display: flex; flex-direction: row; flex-wrap: wrap; justify-content: flex-start; width: 100% }\n",
       "    .wandb-col { display: flex; flex-direction: column; flex-basis: 100%; flex: 1; padding: 10px; }\n",
       "    </style>\n",
       "<div class=\"wandb-row\"><div class=\"wandb-col\"><h3>Run history:</h3><br/><table class=\"wandb\"><tr><td>Accuracy</td><td>▅▂▂▁▅█▃▂▂▂▃▂▅▅▂▁▁▅▂▂▁▁▃▅▂▂▂▂▆▅▁▂▃▂▃▃▃▂▃▃</td></tr><tr><td>Macro-f1-score</td><td>▃▃▂▁▃█▂▁▁▁▃▁▃▅▁▁▁▅▁▁▁▁▃▄▁▁▁▁▅▅▁▁▂▁▂▂▃▁▂▂</td></tr><tr><td>Precision</td><td>▃▃▂▁▃█▂▁▁▁▄▁▃▇▁▁▁▇▁▁▁▁▃▅▁▁▁▁▆▄▁▁▁▁▁▁▂▁▁▁</td></tr><tr><td>Recall</td><td>▅▃▂▁▄█▃▂▂▂▄▃▆▆▃▁▁▇▃▃▁▁▅▅▃▂▃▃▆▆▁▃▃▂▃▃▆▂▃▃</td></tr><tr><td>Test loss</td><td>▆▆▆▆▆▁▆▆▆▆▄▆▆▄▅▅▆▃▆▆▆▄▅▄█▇▇▆▄▅▆▆▇█▇▇▄▆▇▄</td></tr><tr><td>Training loss</td><td>▆▄▁▆▃▄▇▃█▅▃▇▄▇▇▄▄▄▇▃▄▃▅▃▁▃▃▄▄▄▆▄▅▃▄▅▁▃▃▃</td></tr></table><br/></div><div class=\"wandb-col\"><h3>Run summary:</h3><br/><table class=\"wandb\"><tr><td>Accuracy</td><td>0.10526</td></tr><tr><td>Macro-f1-score</td><td>0.02222</td></tr><tr><td>Precision</td><td>0.0125</td></tr><tr><td>Recall</td><td>0.1</td></tr><tr><td>Test loss</td><td>2.27836</td></tr><tr><td>Training loss</td><td>2.25984</td></tr></table><br/></div></div>"
      ],
      "text/plain": [
       "<IPython.core.display.HTML object>"
      ]
     },
     "metadata": {},
     "output_type": "display_data"
    },
    {
     "data": {
      "text/html": [
       " View run <strong style=\"color:#cdcd00\">lyric-sweep-5</strong> at: <a href='https://wandb.ai/j-soberg/RNNs%20and%20You/runs/ukes0vnp' target=\"_blank\">https://wandb.ai/j-soberg/RNNs%20and%20You/runs/ukes0vnp</a><br/>Synced 4 W&B file(s), 0 media file(s), 0 artifact file(s) and 0 other file(s)"
      ],
      "text/plain": [
       "<IPython.core.display.HTML object>"
      ]
     },
     "metadata": {},
     "output_type": "display_data"
    },
    {
     "data": {
      "text/html": [
       "Find logs at: <code>.\\wandb\\run-20240419_132318-ukes0vnp\\logs</code>"
      ],
      "text/plain": [
       "<IPython.core.display.HTML object>"
      ]
     },
     "metadata": {},
     "output_type": "display_data"
    }
   ],
   "source": [
    "wandb.agent(sweep_id, sweep, count=5)"
   ]
  }
 ],
 "metadata": {
  "kernelspec": {
   "display_name": "Python 3",
   "language": "python",
   "name": "python3"
  },
  "language_info": {
   "codemirror_mode": {
    "name": "ipython",
    "version": 3
   },
   "file_extension": ".py",
   "mimetype": "text/x-python",
   "name": "python",
   "nbconvert_exporter": "python",
   "pygments_lexer": "ipython3",
   "version": "3.9.13"
  }
 },
 "nbformat": 4,
 "nbformat_minor": 2
}
