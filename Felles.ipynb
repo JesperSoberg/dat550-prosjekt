{
 "cells": [
  {
   "cell_type": "markdown",
   "metadata": {},
   "source": [
    "## Import the necessary functions and libraries"
   ]
  },
  {
   "cell_type": "code",
   "execution_count": 1,
   "metadata": {},
   "outputs": [],
   "source": [
    "from BoW import TF_IDF\n",
    "from Preprocessing import getDataFrameFromData\n",
    "from rnn import RNN\n",
    "from networkFunctions import train\n",
    "from ffnn import FFNN\n",
    "import torch "
   ]
  },
  {
   "cell_type": "markdown",
   "metadata": {},
   "source": [
    "## Read Data"
   ]
  },
  {
   "cell_type": "code",
   "execution_count": 5,
   "metadata": {},
   "outputs": [
    {
     "data": {
      "text/html": [
       "<div>\n",
       "<style scoped>\n",
       "    .dataframe tbody tr th:only-of-type {\n",
       "        vertical-align: middle;\n",
       "    }\n",
       "\n",
       "    .dataframe tbody tr th {\n",
       "        vertical-align: top;\n",
       "    }\n",
       "\n",
       "    .dataframe thead th {\n",
       "        text-align: right;\n",
       "    }\n",
       "</style>\n",
       "<table border=\"1\" class=\"dataframe\">\n",
       "  <thead>\n",
       "    <tr style=\"text-align: right;\">\n",
       "      <th></th>\n",
       "      <th>id</th>\n",
       "      <th>abstract</th>\n",
       "      <th>label</th>\n",
       "    </tr>\n",
       "  </thead>\n",
       "  <tbody>\n",
       "    <tr>\n",
       "      <th>0</th>\n",
       "      <td>31716</td>\n",
       "      <td>automatic meeting analysis is an essential f...</td>\n",
       "      <td>eess</td>\n",
       "    </tr>\n",
       "    <tr>\n",
       "      <th>1</th>\n",
       "      <td>89533</td>\n",
       "      <td>we propose a protocol to encode classical bi...</td>\n",
       "      <td>quantph</td>\n",
       "    </tr>\n",
       "    <tr>\n",
       "      <th>2</th>\n",
       "      <td>82700</td>\n",
       "      <td>a number of physically intuitive results for...</td>\n",
       "      <td>quantph</td>\n",
       "    </tr>\n",
       "    <tr>\n",
       "      <th>3</th>\n",
       "      <td>78830</td>\n",
       "      <td>in the last decade rareearth hexaborides hav...</td>\n",
       "      <td>physics</td>\n",
       "    </tr>\n",
       "    <tr>\n",
       "      <th>4</th>\n",
       "      <td>94948</td>\n",
       "      <td>we introduce the weak barycenter of a family...</td>\n",
       "      <td>stat</td>\n",
       "    </tr>\n",
       "    <tr>\n",
       "      <th>...</th>\n",
       "      <td>...</td>\n",
       "      <td>...</td>\n",
       "      <td>...</td>\n",
       "    </tr>\n",
       "    <tr>\n",
       "      <th>95</th>\n",
       "      <td>36235</td>\n",
       "      <td>in this paper a new framework for optimizing...</td>\n",
       "      <td>eess</td>\n",
       "    </tr>\n",
       "    <tr>\n",
       "      <th>96</th>\n",
       "      <td>38205</td>\n",
       "      <td>reconfigurable intelligent surface ris techn...</td>\n",
       "      <td>eess</td>\n",
       "    </tr>\n",
       "    <tr>\n",
       "      <th>97</th>\n",
       "      <td>55889</td>\n",
       "      <td>we explore emphfolded spinning string config...</td>\n",
       "      <td>hepth</td>\n",
       "    </tr>\n",
       "    <tr>\n",
       "      <th>98</th>\n",
       "      <td>32525</td>\n",
       "      <td>in this paper we formulate a simple algorith...</td>\n",
       "      <td>eess</td>\n",
       "    </tr>\n",
       "    <tr>\n",
       "      <th>99</th>\n",
       "      <td>12274</td>\n",
       "      <td>quantum emitters in hexagonal boron nitride ...</td>\n",
       "      <td>condmat</td>\n",
       "    </tr>\n",
       "  </tbody>\n",
       "</table>\n",
       "<p>100 rows × 3 columns</p>\n",
       "</div>"
      ],
      "text/plain": [
       "       id                                           abstract    label\n",
       "0   31716    automatic meeting analysis is an essential f...     eess\n",
       "1   89533    we propose a protocol to encode classical bi...  quantph\n",
       "2   82700    a number of physically intuitive results for...  quantph\n",
       "3   78830    in the last decade rareearth hexaborides hav...  physics\n",
       "4   94948    we introduce the weak barycenter of a family...     stat\n",
       "..    ...                                                ...      ...\n",
       "95  36235    in this paper a new framework for optimizing...     eess\n",
       "96  38205    reconfigurable intelligent surface ris techn...     eess\n",
       "97  55889    we explore emphfolded spinning string config...    hepth\n",
       "98  32525    in this paper we formulate a simple algorith...     eess\n",
       "99  12274    quantum emitters in hexagonal boron nitride ...  condmat\n",
       "\n",
       "[100 rows x 3 columns]"
      ]
     },
     "execution_count": 5,
     "metadata": {},
     "output_type": "execute_result"
    }
   ],
   "source": [
    "dataFrame, labels = getDataFrameFromData('Archive/arxiv_train.csv')\n",
    "dataFrame"
   ]
  },
  {
   "cell_type": "markdown",
   "metadata": {},
   "source": [
    "## Calculate word frequency and TF_IDF scores"
   ]
  },
  {
   "cell_type": "code",
   "execution_count": 7,
   "metadata": {},
   "outputs": [
    {
     "name": "stderr",
     "output_type": "stream",
     "text": [
      "c:\\UIS\\DAT550\\dat550-prosjekt\\BoW.py:26: UserWarning: torch.sparse.SparseTensor(indices, values, shape, *, device=) is deprecated.  Please use torch.sparse_coo_tensor(indices, values, shape, dtype=, device=). (Triggered internally at ..\\torch\\csrc\\utils\\tensor_new.cpp:620.)\n",
      "  tensor = torch.sparse.FloatTensor(i, v, torch.Size(shape))\n"
     ]
    },
    {
     "data": {
      "text/plain": [
       "tensor([[0., 0., 0.,  ..., 0., 0., 0.],\n",
       "        [0., 0., 0.,  ..., 0., 0., 0.],\n",
       "        [0., 0., 0.,  ..., 0., 0., 0.],\n",
       "        ...,\n",
       "        [0., 0., 0.,  ..., 0., 0., 0.],\n",
       "        [0., 0., 0.,  ..., 0., 0., 0.],\n",
       "        [0., 0., 0.,  ..., 0., 0., 0.]])"
      ]
     },
     "execution_count": 7,
     "metadata": {},
     "output_type": "execute_result"
    }
   ],
   "source": [
    "torchTensor  = TF_IDF(dataFrame, 'abstract', labels)\n",
    "torchTensor"
   ]
  },
  {
   "cell_type": "markdown",
   "metadata": {},
   "source": [
    "## Initalize parameters for the networks"
   ]
  },
  {
   "cell_type": "code",
   "execution_count": null,
   "metadata": {},
   "outputs": [],
   "source": [
    "inputSize = torchTensor.shape[1]\n",
    "hiddenSize = 100\n",
    "numLayers = 1\n",
    "PATH = \"Models/\""
   ]
  },
  {
   "cell_type": "markdown",
   "metadata": {},
   "source": [
    "## Create Models"
   ]
  },
  {
   "cell_type": "code",
   "execution_count": null,
   "metadata": {},
   "outputs": [],
   "source": [
    "RNNmodel = RNN(inputSize, hiddenSize, numLayers)\n",
    "FFNNmodel = FFNN(torchTensor.shape[1])"
   ]
  },
  {
   "cell_type": "markdown",
   "metadata": {},
   "source": [
    "## Load state dict for models\n",
    "#### If there are no saved model states, then a new one will be trained from scratch"
   ]
  },
  {
   "cell_type": "code",
   "execution_count": null,
   "metadata": {},
   "outputs": [],
   "source": [
    "try:\n",
    "\tRNNmodel.load_state_dict(torch.load(PATH + \"RNNmodel.pt\"))\n",
    "\tFFNNmodel.load_state_dict(torch.load(PATH + \"FFNNmodel.pt\"))\n",
    "\tprint(\"Loaded model states\")\n",
    "except FileNotFoundError:\n",
    "\tprint(\"File not found, initializing training...\\n\")\n",
    "\tprint(\"Training RNN...\\n\")\n",
    "\tmodelR = train(RNNmodel, \"adam\", torchTensor, labels)\n",
    "\tprint(\"Training FFNN...\\n\")\n",
    "\tmodelFF = train(FFNNmodel, \"adam\", torchTensor, labels)"
   ]
  },
  {
   "cell_type": "markdown",
   "metadata": {},
   "source": [
    "## Save model state dict of the neural networks"
   ]
  },
  {
   "cell_type": "code",
   "execution_count": null,
   "metadata": {},
   "outputs": [],
   "source": [
    "torch.save(RNNmodel.state_dict(), PATH + \"RNNmodel.pt\")\n",
    "torch.save(FFNNmodel.state_dict(), PATH + \"FFNNmodel.pt\")"
   ]
  }
 ],
 "metadata": {
  "kernelspec": {
   "display_name": "Python 3",
   "language": "python",
   "name": "python3"
  },
  "language_info": {
   "codemirror_mode": {
    "name": "ipython",
    "version": 3
   },
   "file_extension": ".py",
   "mimetype": "text/x-python",
   "name": "python",
   "nbconvert_exporter": "python",
   "pygments_lexer": "ipython3",
   "version": "3.11.5"
  }
 },
 "nbformat": 4,
 "nbformat_minor": 2
}
